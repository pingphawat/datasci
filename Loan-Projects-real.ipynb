{
 "cells": [
  {
   "cell_type": "markdown",
   "id": "10414c2a",
   "metadata": {},
   "source": [
    "# รายชื่อสมาชิก\n",
    "- 1 ภวัฐ พงศ์ถาวราเดช 6410401124\n",
    "    - หน้าที่ วิเคราะห์ข้อมูลเชิงสำรวจเบื้องต้น, ทำสไลด์นำเสนอ\n",
    "- 2 กัลยกร สุขานุยุทธ 6410406509\n",
    "    - หน้าที่ ทำความสะอาดข้อมูล, การวิเคราะห์ข้อมูลเชิงลึกข้อที่ 1\n",
    "- 3 วิทวัส ประพันธ์วงศ์ 6410450265\n",
    "    - หน้าที่ วิเคราะห์ข้อมูลเชิงสำรวจเบื้องต้น,การวิเคราะห์ข้อมูลเชิงลึกข้อที่ 2\n",
    "- 4 ปริภัทร์ มะลีแก้ว 6410450320\n",
    "    - หน้าที่ วิเคราะห์ข้อมูลเชิงสำรวจเบื้องต้น,การวิเคราะห์ข้อมูลเชิงลึกข้อที่ 3"
   ]
  },
  {
   "cell_type": "markdown",
   "id": "8ac4cd1a",
   "metadata": {},
   "source": [
    "# แหล่งที่มาของข้อมูล\n",
    "- ข้อมูลจาก : Customer Details for acceptance/rejection of loans ( EPGP IIIT B LJMU | Upgrad )\n",
    "- Data Sets จาก : Deep Contractor (Kaggle : https://www.kaggle.com/datasets/abhishek14398/loan-dataset"
   ]
  },
  {
   "cell_type": "markdown",
   "id": "e00380dd",
   "metadata": {},
   "source": [
    "# คำอธิบายข้อมูล\n",
    "- member_id คือ รหัสสมาชิกที่กำหนดเฉพาะสำหรับสมาชิกผู้กู้ เป็นข้อมูลประเภท string\n",
    "- loan_amnt\t คือ จำนวนเงินกู้ที่ยื่นขอโดยผู้กู้ หากในช่วงเวลาใดเวลาหนึ่ง ฝ่ายสินเชื่อลดจำนวนเงินกู้ลง ก็จะแสดงในค่านี้ เป็นข้อมูลประเภทตัวเลข\n",
    "- funded_amnt คือ จำนวนเงินทั้งหมดที่ตกลงกับเงินกู้ ณ เวลานั้น เป็นข้อมูลประเภทตัวเลข\n",
    "- funded_amnt_inv คือ จำนวนเงินทั้งหมดที่กระทำโดยนักลงทุนสำหรับเงินกู้นั้น ณ เวลานั้น เป็นข้อมูลประเภทตัวเลข\n",
    "- term คือ จำนวนการชำระเงินกู้ และอาจเป็น 36 เดือน หรือ 60 เดือน เป็นข้อมูลประเภท string\n",
    "- int_rate\tคือ อัตราดอกเบี้ยเงินกู้ เป็นเปอร์เซนต์ เป็นข้อมูลประเภทตัวเลข\n",
    "- installment คือ ค่างวดเงินผ่อน เป็นข้อมูลประเภทตัวเลข\n",
    "- grade คือ LC กำหนดเกรดสินเชื่อ เป็นข้อมูลประเภท string ได้แก่ A, B, C, D, E, F, G\n",
    "- sub_grade คือ LC กำหนดลดเกรดเงินกู้ เป็นข้อมูลประเภท string ได้แก่ ตัวอักษร A-G 1 ตัว ตามด้วย เลข 1-5 1 ตัว\n",
    "- emp_title คือ ตำแหน่งงานที่ผู้กู้ระบุเมื่อสมัครขอสินเชื่อ เป็นข้อมูลประเภท string\n",
    "- emp_length คือ ระยะเวลาที่ผู้กู้ทำงาน เป็นข้อมูลประเภท string ได้แก่ < 1 years, 10+ years, 1 years ถึง 9 years\n",
    "- home_ownership คือ สถานะเจ้าของบ้านที่ผู้กู้ระบุระหว่างการลงทะเบียน เป็นข้อมูลประเภท string ได้แก่ RENT (เช่า), OWN (เป็นเจ้าของ), MORTGAGE (จำนอง), OTHER (อื่นๆ)\n",
    "- annual_inc คือ รายได้ประจำปีที่รายงานด้วยตนเองโดยผู้กู้ในระหว่างการลงทะเบียน เป็นข้อมูลประเภทตัวเลข\n",
    "- verification_status คือ ระบุว่ารายได้ได้รับการยืนยันโดย LC หรือไม่ได้รับการยืนยัน หรือแหล่งที่มาของรายได้ได้รับการยืนยันหรือไม่ เป็นข้อมูลประเภท string ได้แก่ Not Verified, Verified, Source Verified\n",
    "- loan_status คือ สถานะปัจจุบันของเงินกู้ เป็นข้อมูลประเภท string ได้แก่ Fully Paid, Charged Off, Current\n",
    "- desc คือ คำอธิบายเงินกู้จัดทำโดยผู้กู้ เป็นข้อมูลประเภท string\n",
    "- purpose คือ หมวดหมู่ที่ผู้กู้จัดเตรียมไว้สำหรับการขอสินเชื่อ เป็นข้อมูลประเภท string ได้แก่ debt_consolidation, credit_card, other, home_improvement, major_purchase, small_business, car, wedding, medical, moving, vacation, house, educational, renewable_energy\n",
    "- title คือ ชื่อเงินกู้ที่ผู้กู้กำหนด เป็นข้อมูลประเภท string\n",
    "- zip_code คือ รหัสไปรษณีย์ 3 ตัวแรกที่ผู้กู้ระบุในใบสมัครสินเชื่อ เป็นข้อมูลประเภท string\n",
    "- addr_state คือ รัฐจัดทำโดยผู้กู้ในการขอสินเชื่อ เป็นข้อมูลประเภท string\n",
    "- dti คือ อัตราส่วนที่คำนวณโดยใช้ยอดรวมการชำระหนี้รายเดือนของผู้กู้ต่อภาระหนี้ทั้งหมด ไม่รวมค่าจำนองและเงินกู้ LC ที่ขอ เป็นข้อมูลประเภทตัวเลข\n",
    "- inq_last_6mths คือ จำนวนการทวงในช่วง 6 เดือนที่ผ่านมา (ไม่รวมการทวงเกี่ยวกับรถยนต์และการจำนอง) เป็นข้อมูลประเภทตัวเลข\n",
    "- open_acc คือ จำนวนของวงเงินสินเชื่อที่เปิดอยู่ของผู้กู้ เป็นข้อมูลประเภทตัวเลข\n",
    "- pub_rec คือ จำนวนบันทึกคดีที่เสื่อมเสีย เป็นข้อมูลประเภทตัวเลข\n",
    "- revol_bal\tคือ ยอดคงเหลือหมุนเวียนของเครดิตทั้งหมด เป็นข้อมูลประเภทตัวเลข\n",
    "- revol_util คือ อัตราการใช้วงเงินหมุนเวียนหรือจำนวนเครดิตที่ผู้กู้ใช้เทียบกับสินเชื่อหมุนเวียนที่มีอยู่ทั้งหมด เป็นเปอร์เซนต์ เป็นข้อมูลประเภทตัวเลข\n",
    "- total_acc คือ จำนวนวงเงินสินเชื่อทั้งหมดในปัจจุบันในไฟล์เครดิตของผู้กู้ เป็นข้อมูลประเภทตัวเลข\n",
    "- total_pymnt คือ การชำระเงินที่ได้รับ ณ วันที่สำหรับจำนวนเงินทั้งหมดที่ได้รับทุน เป็นข้อมูลประเภทตัวเลข\n",
    "- total_pymnt_inv คือ การชำระเงินที่ได้รับจนถึงปัจจุบันสำหรับส่วนหนึ่งของจำนวนเงินทั้งหมดที่นักลงทุนได้รับ เป็นข้อมูลประเภทตัวเลข\n",
    "- total_rec_prncp คือ เงินต้นที่ได้รับจนถึงปัจจุบัน เป็นข้อมูลประเภทตัวเลข\n",
    "- total_rec_int คือ ดอกเบี้ยที่ได้รับจนถึงปัจจุบัน เป็นข้อมูลประเภทตัวเลข\n",
    "- total_rec_late_fee คือ ได้รับค่าธรรมเนียมล่าช้าจนถึงปัจจุบัน เป็นข้อมูลประเภทตัวเลข\n",
    "- recoveries คือ การเรียกเก็บเงินจากการกู้คืนขั้นต้น เป็นข้อมูลประเภทตัวเลข\n",
    "- collection_recovery_fee คือ การเรียกเก็บค่าธรรมเนียมการเรียกเก็บ เป็นข้อมูลประเภทตัวเลข\n",
    "- last_pymnt_amnt คือ ยอดชำระล่าสุดที่ได้รับเป็นข้อมูลประเภทตัวเลข"
   ]
  },
  {
   "cell_type": "code",
   "execution_count": 280,
   "id": "c70d8c40",
   "metadata": {},
   "outputs": [],
   "source": [
    "import numpy as np # linear algebra\n",
    "import pandas as pd # data processing, CSV file I/O (e.g. pd.read_csv)\n",
    "import seaborn as sns\n",
    "%matplotlib inline"
   ]
  },
  {
   "cell_type": "markdown",
   "id": "b367b564",
   "metadata": {},
   "source": [
    "# ลักษณะของข้อมูลก่อนทำการ cleaning"
   ]
  },
  {
   "cell_type": "code",
   "execution_count": 281,
   "id": "6b785606",
   "metadata": {
    "scrolled": false
   },
   "outputs": [
    {
     "data": {
      "text/html": [
       "<div>\n",
       "<style scoped>\n",
       "    .dataframe tbody tr th:only-of-type {\n",
       "        vertical-align: middle;\n",
       "    }\n",
       "\n",
       "    .dataframe tbody tr th {\n",
       "        vertical-align: top;\n",
       "    }\n",
       "\n",
       "    .dataframe thead th {\n",
       "        text-align: right;\n",
       "    }\n",
       "</style>\n",
       "<table border=\"1\" class=\"dataframe\">\n",
       "  <thead>\n",
       "    <tr style=\"text-align: right;\">\n",
       "      <th></th>\n",
       "      <th>member_id</th>\n",
       "      <th>loan_amnt</th>\n",
       "      <th>funded_amnt</th>\n",
       "      <th>funded_amnt_inv</th>\n",
       "      <th>term</th>\n",
       "      <th>int_rate</th>\n",
       "      <th>installment</th>\n",
       "      <th>grade</th>\n",
       "      <th>sub_grade</th>\n",
       "      <th>emp_title</th>\n",
       "      <th>...</th>\n",
       "      <th>revol_util</th>\n",
       "      <th>total_acc</th>\n",
       "      <th>total_pymnt</th>\n",
       "      <th>total_pymnt_inv</th>\n",
       "      <th>total_rec_prncp</th>\n",
       "      <th>total_rec_int</th>\n",
       "      <th>total_rec_late_fee</th>\n",
       "      <th>recoveries</th>\n",
       "      <th>collection_recovery_fee</th>\n",
       "      <th>last_pymnt_amnt</th>\n",
       "    </tr>\n",
       "  </thead>\n",
       "  <tbody>\n",
       "    <tr>\n",
       "      <th>0</th>\n",
       "      <td>1296599</td>\n",
       "      <td>5000</td>\n",
       "      <td>5000</td>\n",
       "      <td>4975.0</td>\n",
       "      <td>36 months</td>\n",
       "      <td>10.65%</td>\n",
       "      <td>162.87</td>\n",
       "      <td>B</td>\n",
       "      <td>B2</td>\n",
       "      <td>NaN</td>\n",
       "      <td>...</td>\n",
       "      <td>83.70%</td>\n",
       "      <td>9</td>\n",
       "      <td>5863.155187</td>\n",
       "      <td>5833.84</td>\n",
       "      <td>5000.00</td>\n",
       "      <td>863.16</td>\n",
       "      <td>0.00</td>\n",
       "      <td>0.00</td>\n",
       "      <td>0.00</td>\n",
       "      <td>171.62</td>\n",
       "    </tr>\n",
       "    <tr>\n",
       "      <th>1</th>\n",
       "      <td>1314167</td>\n",
       "      <td>2500</td>\n",
       "      <td>2500</td>\n",
       "      <td>2500.0</td>\n",
       "      <td>60 months</td>\n",
       "      <td>15.27%</td>\n",
       "      <td>59.83</td>\n",
       "      <td>C</td>\n",
       "      <td>C4</td>\n",
       "      <td>Ryder</td>\n",
       "      <td>...</td>\n",
       "      <td>9.40%</td>\n",
       "      <td>4</td>\n",
       "      <td>1008.710000</td>\n",
       "      <td>1008.71</td>\n",
       "      <td>456.46</td>\n",
       "      <td>435.17</td>\n",
       "      <td>0.00</td>\n",
       "      <td>117.08</td>\n",
       "      <td>1.11</td>\n",
       "      <td>119.66</td>\n",
       "    </tr>\n",
       "    <tr>\n",
       "      <th>2</th>\n",
       "      <td>1313524</td>\n",
       "      <td>2400</td>\n",
       "      <td>2400</td>\n",
       "      <td>2400.0</td>\n",
       "      <td>36 months</td>\n",
       "      <td>15.96%</td>\n",
       "      <td>84.33</td>\n",
       "      <td>C</td>\n",
       "      <td>C5</td>\n",
       "      <td>NaN</td>\n",
       "      <td>...</td>\n",
       "      <td>98.50%</td>\n",
       "      <td>10</td>\n",
       "      <td>3005.666844</td>\n",
       "      <td>3005.67</td>\n",
       "      <td>2400.00</td>\n",
       "      <td>605.67</td>\n",
       "      <td>0.00</td>\n",
       "      <td>0.00</td>\n",
       "      <td>0.00</td>\n",
       "      <td>649.91</td>\n",
       "    </tr>\n",
       "    <tr>\n",
       "      <th>3</th>\n",
       "      <td>1277178</td>\n",
       "      <td>10000</td>\n",
       "      <td>10000</td>\n",
       "      <td>10000.0</td>\n",
       "      <td>36 months</td>\n",
       "      <td>13.49%</td>\n",
       "      <td>339.31</td>\n",
       "      <td>C</td>\n",
       "      <td>C1</td>\n",
       "      <td>AIR RESOURCES BOARD</td>\n",
       "      <td>...</td>\n",
       "      <td>21%</td>\n",
       "      <td>37</td>\n",
       "      <td>12231.890000</td>\n",
       "      <td>12231.89</td>\n",
       "      <td>10000.00</td>\n",
       "      <td>2214.92</td>\n",
       "      <td>16.97</td>\n",
       "      <td>0.00</td>\n",
       "      <td>0.00</td>\n",
       "      <td>357.48</td>\n",
       "    </tr>\n",
       "    <tr>\n",
       "      <th>4</th>\n",
       "      <td>1311748</td>\n",
       "      <td>3000</td>\n",
       "      <td>3000</td>\n",
       "      <td>3000.0</td>\n",
       "      <td>60 months</td>\n",
       "      <td>12.69%</td>\n",
       "      <td>67.79</td>\n",
       "      <td>B</td>\n",
       "      <td>B5</td>\n",
       "      <td>University Medical Group</td>\n",
       "      <td>...</td>\n",
       "      <td>53.90%</td>\n",
       "      <td>38</td>\n",
       "      <td>3513.330000</td>\n",
       "      <td>3513.33</td>\n",
       "      <td>2475.94</td>\n",
       "      <td>1037.39</td>\n",
       "      <td>0.00</td>\n",
       "      <td>0.00</td>\n",
       "      <td>0.00</td>\n",
       "      <td>67.79</td>\n",
       "    </tr>\n",
       "    <tr>\n",
       "      <th>...</th>\n",
       "      <td>...</td>\n",
       "      <td>...</td>\n",
       "      <td>...</td>\n",
       "      <td>...</td>\n",
       "      <td>...</td>\n",
       "      <td>...</td>\n",
       "      <td>...</td>\n",
       "      <td>...</td>\n",
       "      <td>...</td>\n",
       "      <td>...</td>\n",
       "      <td>...</td>\n",
       "      <td>...</td>\n",
       "      <td>...</td>\n",
       "      <td>...</td>\n",
       "      <td>...</td>\n",
       "      <td>...</td>\n",
       "      <td>...</td>\n",
       "      <td>...</td>\n",
       "      <td>...</td>\n",
       "      <td>...</td>\n",
       "      <td>...</td>\n",
       "    </tr>\n",
       "    <tr>\n",
       "      <th>39712</th>\n",
       "      <td>92174</td>\n",
       "      <td>2500</td>\n",
       "      <td>2500</td>\n",
       "      <td>1075.0</td>\n",
       "      <td>36 months</td>\n",
       "      <td>8.07%</td>\n",
       "      <td>78.42</td>\n",
       "      <td>A</td>\n",
       "      <td>A4</td>\n",
       "      <td>FiSite Research</td>\n",
       "      <td>...</td>\n",
       "      <td>13.10%</td>\n",
       "      <td>40</td>\n",
       "      <td>2822.969293</td>\n",
       "      <td>1213.88</td>\n",
       "      <td>2500.00</td>\n",
       "      <td>322.97</td>\n",
       "      <td>0.00</td>\n",
       "      <td>0.00</td>\n",
       "      <td>0.00</td>\n",
       "      <td>80.90</td>\n",
       "    </tr>\n",
       "    <tr>\n",
       "      <th>39713</th>\n",
       "      <td>90607</td>\n",
       "      <td>8500</td>\n",
       "      <td>8500</td>\n",
       "      <td>875.0</td>\n",
       "      <td>36 months</td>\n",
       "      <td>10.28%</td>\n",
       "      <td>275.38</td>\n",
       "      <td>C</td>\n",
       "      <td>C1</td>\n",
       "      <td>Squarewave Solutions, Ltd.</td>\n",
       "      <td>...</td>\n",
       "      <td>26.90%</td>\n",
       "      <td>9</td>\n",
       "      <td>9913.491822</td>\n",
       "      <td>1020.51</td>\n",
       "      <td>8500.00</td>\n",
       "      <td>1413.49</td>\n",
       "      <td>0.00</td>\n",
       "      <td>0.00</td>\n",
       "      <td>0.00</td>\n",
       "      <td>281.94</td>\n",
       "    </tr>\n",
       "    <tr>\n",
       "      <th>39714</th>\n",
       "      <td>90390</td>\n",
       "      <td>5000</td>\n",
       "      <td>5000</td>\n",
       "      <td>1325.0</td>\n",
       "      <td>36 months</td>\n",
       "      <td>8.07%</td>\n",
       "      <td>156.84</td>\n",
       "      <td>A</td>\n",
       "      <td>A4</td>\n",
       "      <td>NaN</td>\n",
       "      <td>...</td>\n",
       "      <td>19.40%</td>\n",
       "      <td>20</td>\n",
       "      <td>5272.161128</td>\n",
       "      <td>1397.12</td>\n",
       "      <td>5000.00</td>\n",
       "      <td>272.16</td>\n",
       "      <td>0.00</td>\n",
       "      <td>0.00</td>\n",
       "      <td>0.00</td>\n",
       "      <td>0.00</td>\n",
       "    </tr>\n",
       "    <tr>\n",
       "      <th>39715</th>\n",
       "      <td>89243</td>\n",
       "      <td>5000</td>\n",
       "      <td>5000</td>\n",
       "      <td>650.0</td>\n",
       "      <td>36 months</td>\n",
       "      <td>7.43%</td>\n",
       "      <td>155.38</td>\n",
       "      <td>A</td>\n",
       "      <td>A2</td>\n",
       "      <td>NaN</td>\n",
       "      <td>...</td>\n",
       "      <td>0.70%</td>\n",
       "      <td>26</td>\n",
       "      <td>5174.198551</td>\n",
       "      <td>672.66</td>\n",
       "      <td>5000.00</td>\n",
       "      <td>174.20</td>\n",
       "      <td>0.00</td>\n",
       "      <td>0.00</td>\n",
       "      <td>0.00</td>\n",
       "      <td>0.00</td>\n",
       "    </tr>\n",
       "    <tr>\n",
       "      <th>39716</th>\n",
       "      <td>86999</td>\n",
       "      <td>7500</td>\n",
       "      <td>7500</td>\n",
       "      <td>800.0</td>\n",
       "      <td>36 months</td>\n",
       "      <td>13.75%</td>\n",
       "      <td>255.43</td>\n",
       "      <td>E</td>\n",
       "      <td>E2</td>\n",
       "      <td>Evergreen Center</td>\n",
       "      <td>...</td>\n",
       "      <td>51.50%</td>\n",
       "      <td>8</td>\n",
       "      <td>9195.263334</td>\n",
       "      <td>980.83</td>\n",
       "      <td>7500.00</td>\n",
       "      <td>1695.26</td>\n",
       "      <td>0.00</td>\n",
       "      <td>0.00</td>\n",
       "      <td>0.00</td>\n",
       "      <td>256.59</td>\n",
       "    </tr>\n",
       "  </tbody>\n",
       "</table>\n",
       "<p>39717 rows × 35 columns</p>\n",
       "</div>"
      ],
      "text/plain": [
       "       member_id  loan_amnt  funded_amnt  funded_amnt_inv        term  \\\n",
       "0        1296599       5000         5000           4975.0   36 months   \n",
       "1        1314167       2500         2500           2500.0   60 months   \n",
       "2        1313524       2400         2400           2400.0   36 months   \n",
       "3        1277178      10000        10000          10000.0   36 months   \n",
       "4        1311748       3000         3000           3000.0   60 months   \n",
       "...          ...        ...          ...              ...         ...   \n",
       "39712      92174       2500         2500           1075.0   36 months   \n",
       "39713      90607       8500         8500            875.0   36 months   \n",
       "39714      90390       5000         5000           1325.0   36 months   \n",
       "39715      89243       5000         5000            650.0   36 months   \n",
       "39716      86999       7500         7500            800.0   36 months   \n",
       "\n",
       "      int_rate  installment grade sub_grade                   emp_title  ...  \\\n",
       "0       10.65%       162.87     B        B2                         NaN  ...   \n",
       "1       15.27%        59.83     C        C4                       Ryder  ...   \n",
       "2       15.96%        84.33     C        C5                         NaN  ...   \n",
       "3       13.49%       339.31     C        C1         AIR RESOURCES BOARD  ...   \n",
       "4       12.69%        67.79     B        B5    University Medical Group  ...   \n",
       "...        ...          ...   ...       ...                         ...  ...   \n",
       "39712    8.07%        78.42     A        A4             FiSite Research  ...   \n",
       "39713   10.28%       275.38     C        C1  Squarewave Solutions, Ltd.  ...   \n",
       "39714    8.07%       156.84     A        A4                         NaN  ...   \n",
       "39715    7.43%       155.38     A        A2                         NaN  ...   \n",
       "39716   13.75%       255.43     E        E2            Evergreen Center  ...   \n",
       "\n",
       "      revol_util total_acc   total_pymnt total_pymnt_inv total_rec_prncp  \\\n",
       "0         83.70%         9   5863.155187         5833.84         5000.00   \n",
       "1          9.40%         4   1008.710000         1008.71          456.46   \n",
       "2         98.50%        10   3005.666844         3005.67         2400.00   \n",
       "3            21%        37  12231.890000        12231.89        10000.00   \n",
       "4         53.90%        38   3513.330000         3513.33         2475.94   \n",
       "...          ...       ...           ...             ...             ...   \n",
       "39712     13.10%        40   2822.969293         1213.88         2500.00   \n",
       "39713     26.90%         9   9913.491822         1020.51         8500.00   \n",
       "39714     19.40%        20   5272.161128         1397.12         5000.00   \n",
       "39715      0.70%        26   5174.198551          672.66         5000.00   \n",
       "39716     51.50%         8   9195.263334          980.83         7500.00   \n",
       "\n",
       "      total_rec_int total_rec_late_fee recoveries collection_recovery_fee  \\\n",
       "0            863.16               0.00       0.00                    0.00   \n",
       "1            435.17               0.00     117.08                    1.11   \n",
       "2            605.67               0.00       0.00                    0.00   \n",
       "3           2214.92              16.97       0.00                    0.00   \n",
       "4           1037.39               0.00       0.00                    0.00   \n",
       "...             ...                ...        ...                     ...   \n",
       "39712        322.97               0.00       0.00                    0.00   \n",
       "39713       1413.49               0.00       0.00                    0.00   \n",
       "39714        272.16               0.00       0.00                    0.00   \n",
       "39715        174.20               0.00       0.00                    0.00   \n",
       "39716       1695.26               0.00       0.00                    0.00   \n",
       "\n",
       "      last_pymnt_amnt  \n",
       "0              171.62  \n",
       "1              119.66  \n",
       "2              649.91  \n",
       "3              357.48  \n",
       "4               67.79  \n",
       "...               ...  \n",
       "39712           80.90  \n",
       "39713          281.94  \n",
       "39714            0.00  \n",
       "39715            0.00  \n",
       "39716          256.59  \n",
       "\n",
       "[39717 rows x 35 columns]"
      ]
     },
     "execution_count": 281,
     "metadata": {},
     "output_type": "execute_result"
    }
   ],
   "source": [
    "loan_df = pd.read_csv('./loan.csv' ,encoding='thai')\n",
    "loan_df"
   ]
  },
  {
   "cell_type": "code",
   "execution_count": 282,
   "id": "49631fa6",
   "metadata": {
    "scrolled": false
   },
   "outputs": [
    {
     "name": "stdout",
     "output_type": "stream",
     "text": [
      "<class 'pandas.core.frame.DataFrame'>\n",
      "RangeIndex: 39717 entries, 0 to 39716\n",
      "Data columns (total 35 columns):\n",
      " #   Column                   Non-Null Count  Dtype  \n",
      "---  ------                   --------------  -----  \n",
      " 0   member_id                39717 non-null  int64  \n",
      " 1   loan_amnt                39717 non-null  int64  \n",
      " 2   funded_amnt              39717 non-null  int64  \n",
      " 3   funded_amnt_inv          39717 non-null  float64\n",
      " 4   term                     39717 non-null  object \n",
      " 5   int_rate                 39717 non-null  object \n",
      " 6   installment              39717 non-null  float64\n",
      " 7   grade                    39717 non-null  object \n",
      " 8   sub_grade                39717 non-null  object \n",
      " 9   emp_title                37258 non-null  object \n",
      " 10  emp_length               38642 non-null  object \n",
      " 11  home_ownership           39717 non-null  object \n",
      " 12  annual_inc               39717 non-null  float64\n",
      " 13  verification_status      39717 non-null  object \n",
      " 14  loan_status              39717 non-null  object \n",
      " 15  desc                     26777 non-null  object \n",
      " 16  purpose                  39717 non-null  object \n",
      " 17  title                    39706 non-null  object \n",
      " 18  zip_code                 39717 non-null  object \n",
      " 19  addr_state               39717 non-null  object \n",
      " 20  dti                      39717 non-null  float64\n",
      " 21  inq_last_6mths           39717 non-null  int64  \n",
      " 22  open_acc                 39717 non-null  int64  \n",
      " 23  pub_rec                  39717 non-null  int64  \n",
      " 24  revol_bal                39717 non-null  int64  \n",
      " 25  revol_util               39667 non-null  object \n",
      " 26  total_acc                39717 non-null  int64  \n",
      " 27  total_pymnt              39717 non-null  float64\n",
      " 28  total_pymnt_inv          39717 non-null  float64\n",
      " 29  total_rec_prncp          39717 non-null  float64\n",
      " 30  total_rec_int            39717 non-null  float64\n",
      " 31  total_rec_late_fee       39717 non-null  float64\n",
      " 32  recoveries               39717 non-null  float64\n",
      " 33  collection_recovery_fee  39717 non-null  float64\n",
      " 34  last_pymnt_amnt          39717 non-null  float64\n",
      "dtypes: float64(12), int64(8), object(15)\n",
      "memory usage: 10.6+ MB\n"
     ]
    }
   ],
   "source": [
    "loan_df.info()"
   ]
  },
  {
   "cell_type": "markdown",
   "id": "a8fc5c8f",
   "metadata": {},
   "source": [
    "# Data Cleaning"
   ]
  },
  {
   "cell_type": "markdown",
   "id": "c06e3711",
   "metadata": {},
   "source": [
    "### ตรวจสอบว่ามีแถวของข้อมูลที่ซ้ำกันหรือไม่"
   ]
  },
  {
   "cell_type": "code",
   "execution_count": 283,
   "id": "50a03ac8",
   "metadata": {},
   "outputs": [
    {
     "data": {
      "text/plain": [
       "0"
      ]
     },
     "execution_count": 283,
     "metadata": {},
     "output_type": "execute_result"
    }
   ],
   "source": [
    "loan_df.duplicated().sum()"
   ]
  },
  {
   "cell_type": "markdown",
   "id": "2f6ee6d2",
   "metadata": {},
   "source": [
    "พบว่าไม่มีข้อมูลที่ซ้ำกัน"
   ]
  },
  {
   "cell_type": "markdown",
   "id": "2d969cc9",
   "metadata": {},
   "source": [
    "### ตรวจสอบว่าแต่ละคอลัมน์มีข้อมูลที่เป็นค่าว่างหรือไม่"
   ]
  },
  {
   "cell_type": "code",
   "execution_count": 284,
   "id": "876651d3",
   "metadata": {},
   "outputs": [
    {
     "data": {
      "text/plain": [
       "member_id                      0\n",
       "loan_amnt                      0\n",
       "funded_amnt                    0\n",
       "funded_amnt_inv                0\n",
       "term                           0\n",
       "int_rate                       0\n",
       "installment                    0\n",
       "grade                          0\n",
       "sub_grade                      0\n",
       "emp_title                   2459\n",
       "emp_length                  1075\n",
       "home_ownership                 0\n",
       "annual_inc                     0\n",
       "verification_status            0\n",
       "loan_status                    0\n",
       "desc                       12940\n",
       "purpose                        0\n",
       "title                         11\n",
       "zip_code                       0\n",
       "addr_state                     0\n",
       "dti                            0\n",
       "inq_last_6mths                 0\n",
       "open_acc                       0\n",
       "pub_rec                        0\n",
       "revol_bal                      0\n",
       "revol_util                    50\n",
       "total_acc                      0\n",
       "total_pymnt                    0\n",
       "total_pymnt_inv                0\n",
       "total_rec_prncp                0\n",
       "total_rec_int                  0\n",
       "total_rec_late_fee             0\n",
       "recoveries                     0\n",
       "collection_recovery_fee        0\n",
       "last_pymnt_amnt                0\n",
       "dtype: int64"
      ]
     },
     "execution_count": 284,
     "metadata": {},
     "output_type": "execute_result"
    }
   ],
   "source": [
    "loan_df.isna().sum()"
   ]
  },
  {
   "cell_type": "markdown",
   "id": "91e16d6b",
   "metadata": {},
   "source": [
    "### เติมข้อมูลในตำแหน่งที่เป็นค่าว่างของคอลัมน์ emp_title ด้วย 'unknown'"
   ]
  },
  {
   "cell_type": "code",
   "execution_count": 285,
   "id": "1c570352",
   "metadata": {},
   "outputs": [
    {
     "data": {
      "text/plain": [
       "0"
      ]
     },
     "execution_count": 285,
     "metadata": {},
     "output_type": "execute_result"
    }
   ],
   "source": [
    "loan_df['emp_title'] = loan_df['emp_title'].fillna('unknown')\n",
    "loan_df['emp_title'].isna().sum()"
   ]
  },
  {
   "cell_type": "markdown",
   "id": "a2af0f58",
   "metadata": {},
   "source": [
    "### เติมข้อมูลในตำแหน่งที่เป็นค่าว่างของคอลัมน์ desc ด้วย 'unspecified'"
   ]
  },
  {
   "cell_type": "code",
   "execution_count": 286,
   "id": "f1bd49fc",
   "metadata": {},
   "outputs": [
    {
     "data": {
      "text/plain": [
       "0"
      ]
     },
     "execution_count": 286,
     "metadata": {},
     "output_type": "execute_result"
    }
   ],
   "source": [
    "loan_df['desc'] = loan_df['desc'].fillna('unspecified')\n",
    "loan_df['desc'].isna().sum()"
   ]
  },
  {
   "cell_type": "markdown",
   "id": "b5b3340c",
   "metadata": {},
   "source": [
    "### เติมข้อมูลในตำแหน่งที่เป็นค่าว่างของคอลัมน์ title ด้วย 'unspecified'"
   ]
  },
  {
   "cell_type": "code",
   "execution_count": 287,
   "id": "615abc07",
   "metadata": {},
   "outputs": [
    {
     "data": {
      "text/plain": [
       "0"
      ]
     },
     "execution_count": 287,
     "metadata": {},
     "output_type": "execute_result"
    }
   ],
   "source": [
    "loan_df['title'] = loan_df['title'].fillna('unspecified')\n",
    "loan_df['title'].isna().sum()"
   ]
  },
  {
   "cell_type": "markdown",
   "id": "30b6768f",
   "metadata": {},
   "source": [
    "## เปลี่ยนประเภทของข้อมูล ให้ตรงตามประเภทข้อมูลที่ควรจะเป็น"
   ]
  },
  {
   "cell_type": "markdown",
   "id": "4be273d1",
   "metadata": {},
   "source": [
    "### เปลี่ยนคอลัมน์ member_id เป็นประเภท object"
   ]
  },
  {
   "cell_type": "code",
   "execution_count": 288,
   "id": "52eb53b1",
   "metadata": {},
   "outputs": [
    {
     "data": {
      "text/plain": [
       "0        1296599\n",
       "1        1314167\n",
       "2        1313524\n",
       "3        1277178\n",
       "4        1311748\n",
       "          ...   \n",
       "39712      92174\n",
       "39713      90607\n",
       "39714      90390\n",
       "39715      89243\n",
       "39716      86999\n",
       "Name: member_id, Length: 39717, dtype: object"
      ]
     },
     "execution_count": 288,
     "metadata": {},
     "output_type": "execute_result"
    }
   ],
   "source": [
    "loan_df['member_id'] = loan_df['member_id'].astype('object')\n",
    "loan_df['member_id']"
   ]
  },
  {
   "cell_type": "markdown",
   "id": "aacca7b7",
   "metadata": {},
   "source": [
    "### เปลี่ยนคอลัมน์ int_rate เป็นประเภท float"
   ]
  },
  {
   "cell_type": "code",
   "execution_count": 289,
   "id": "7df71dcf",
   "metadata": {},
   "outputs": [
    {
     "data": {
      "text/plain": [
       "0        10.65%\n",
       "1        15.27%\n",
       "2        15.96%\n",
       "3        13.49%\n",
       "4        12.69%\n",
       "          ...  \n",
       "39712     8.07%\n",
       "39713    10.28%\n",
       "39714     8.07%\n",
       "39715     7.43%\n",
       "39716    13.75%\n",
       "Name: int_rate, Length: 39717, dtype: object"
      ]
     },
     "execution_count": 289,
     "metadata": {},
     "output_type": "execute_result"
    }
   ],
   "source": [
    "loan_df['int_rate']"
   ]
  },
  {
   "cell_type": "code",
   "execution_count": 290,
   "id": "d0b5ea12",
   "metadata": {
    "scrolled": true
   },
   "outputs": [
    {
     "data": {
      "text/plain": [
       "0        10.65\n",
       "1        15.27\n",
       "2        15.96\n",
       "3        13.49\n",
       "4        12.69\n",
       "         ...  \n",
       "39712     8.07\n",
       "39713    10.28\n",
       "39714     8.07\n",
       "39715     7.43\n",
       "39716    13.75\n",
       "Name: int_rate, Length: 39717, dtype: float64"
      ]
     },
     "execution_count": 290,
     "metadata": {},
     "output_type": "execute_result"
    }
   ],
   "source": [
    "loan_df['int_rate'] = loan_df['int_rate'].str.rstrip('%').astype('float')\n",
    "loan_df['int_rate']"
   ]
  },
  {
   "cell_type": "markdown",
   "id": "4cd2604f",
   "metadata": {},
   "source": [
    "### เปลี่ยนคอลัมน์ revol_util เป็นประเภท float"
   ]
  },
  {
   "cell_type": "code",
   "execution_count": 291,
   "id": "9b35594a",
   "metadata": {},
   "outputs": [
    {
     "data": {
      "text/plain": [
       "0        83.70%\n",
       "1         9.40%\n",
       "2        98.50%\n",
       "3           21%\n",
       "4        53.90%\n",
       "          ...  \n",
       "39712    13.10%\n",
       "39713    26.90%\n",
       "39714    19.40%\n",
       "39715     0.70%\n",
       "39716    51.50%\n",
       "Name: revol_util, Length: 39717, dtype: object"
      ]
     },
     "execution_count": 291,
     "metadata": {},
     "output_type": "execute_result"
    }
   ],
   "source": [
    "loan_df['revol_util']"
   ]
  },
  {
   "cell_type": "code",
   "execution_count": 292,
   "id": "3ddc2965",
   "metadata": {
    "scrolled": true
   },
   "outputs": [
    {
     "data": {
      "text/plain": [
       "0        83.7\n",
       "1         9.4\n",
       "2        98.5\n",
       "3        21.0\n",
       "4        53.9\n",
       "         ... \n",
       "39712    13.1\n",
       "39713    26.9\n",
       "39714    19.4\n",
       "39715     0.7\n",
       "39716    51.5\n",
       "Name: revol_util, Length: 39717, dtype: float64"
      ]
     },
     "execution_count": 292,
     "metadata": {},
     "output_type": "execute_result"
    }
   ],
   "source": [
    "loan_df['revol_util'] = loan_df['revol_util'].str.rstrip('%').astype('float')\n",
    "loan_df['revol_util']"
   ]
  },
  {
   "cell_type": "markdown",
   "id": "e987fe7d",
   "metadata": {},
   "source": [
    "### เปลี่ยนคอลัมน์ term เป็นประเภท category"
   ]
  },
  {
   "cell_type": "code",
   "execution_count": 293,
   "id": "4c7965f8",
   "metadata": {},
   "outputs": [
    {
     "data": {
      "text/plain": [
       " 36 months    29096\n",
       " 60 months    10621\n",
       "Name: term, dtype: int64"
      ]
     },
     "execution_count": 293,
     "metadata": {},
     "output_type": "execute_result"
    }
   ],
   "source": [
    "loan_df['term'].value_counts()"
   ]
  },
  {
   "cell_type": "code",
   "execution_count": 294,
   "id": "7707de0c",
   "metadata": {},
   "outputs": [
    {
     "data": {
      "text/plain": [
       "0         36 months\n",
       "1         60 months\n",
       "2         36 months\n",
       "3         36 months\n",
       "4         60 months\n",
       "            ...    \n",
       "39712     36 months\n",
       "39713     36 months\n",
       "39714     36 months\n",
       "39715     36 months\n",
       "39716     36 months\n",
       "Name: term, Length: 39717, dtype: category\n",
       "Categories (2, object): [' 36 months', ' 60 months']"
      ]
     },
     "execution_count": 294,
     "metadata": {},
     "output_type": "execute_result"
    }
   ],
   "source": [
    "loan_df['term'] = loan_df['term'].astype('category')\n",
    "loan_df['term']"
   ]
  },
  {
   "cell_type": "markdown",
   "id": "28a684a3",
   "metadata": {},
   "source": [
    "### เปลี่ยนคอลัมน์ grade เป็นประเภท category"
   ]
  },
  {
   "cell_type": "code",
   "execution_count": 295,
   "id": "8c3f6c5d",
   "metadata": {},
   "outputs": [
    {
     "data": {
      "text/plain": [
       "B    12020\n",
       "A    10085\n",
       "C     8098\n",
       "D     5307\n",
       "E     2842\n",
       "F     1049\n",
       "G      316\n",
       "Name: grade, dtype: int64"
      ]
     },
     "execution_count": 295,
     "metadata": {},
     "output_type": "execute_result"
    }
   ],
   "source": [
    "loan_df['grade'].value_counts()"
   ]
  },
  {
   "cell_type": "code",
   "execution_count": 296,
   "id": "151781f8",
   "metadata": {
    "scrolled": true
   },
   "outputs": [
    {
     "data": {
      "text/plain": [
       "0        B\n",
       "1        C\n",
       "2        C\n",
       "3        C\n",
       "4        B\n",
       "        ..\n",
       "39712    A\n",
       "39713    C\n",
       "39714    A\n",
       "39715    A\n",
       "39716    E\n",
       "Name: grade, Length: 39717, dtype: category\n",
       "Categories (7, object): ['A', 'B', 'C', 'D', 'E', 'F', 'G']"
      ]
     },
     "execution_count": 296,
     "metadata": {},
     "output_type": "execute_result"
    }
   ],
   "source": [
    "loan_df['grade'] = loan_df['grade'].astype('category')\n",
    "loan_df['grade']"
   ]
  },
  {
   "cell_type": "markdown",
   "id": "9a15bb3f",
   "metadata": {},
   "source": [
    "### เปลี่ยนคอลัมน์ sub_grade เป็นประเภท category"
   ]
  },
  {
   "cell_type": "code",
   "execution_count": 297,
   "id": "09161ffd",
   "metadata": {},
   "outputs": [
    {
     "data": {
      "text/plain": [
       "B3    2917\n",
       "A4    2886\n",
       "A5    2742\n",
       "B5    2704\n",
       "B4    2512\n",
       "C1    2136\n",
       "B2    2057\n",
       "C2    2011\n",
       "B1    1830\n",
       "A3    1810\n",
       "C3    1529\n",
       "A2    1508\n",
       "D2    1348\n",
       "C4    1236\n",
       "C5    1186\n",
       "D3    1173\n",
       "A1    1139\n",
       "D4     981\n",
       "D1     931\n",
       "D5     874\n",
       "E1     763\n",
       "E2     656\n",
       "E3     553\n",
       "E4     454\n",
       "E5     416\n",
       "F1     329\n",
       "F2     249\n",
       "F3     185\n",
       "F4     168\n",
       "F5     118\n",
       "G1     104\n",
       "G2      78\n",
       "G4      56\n",
       "G3      48\n",
       "G5      30\n",
       "Name: sub_grade, dtype: int64"
      ]
     },
     "execution_count": 297,
     "metadata": {},
     "output_type": "execute_result"
    }
   ],
   "source": [
    "loan_df['sub_grade'].value_counts()"
   ]
  },
  {
   "cell_type": "code",
   "execution_count": 298,
   "id": "f46fe94e",
   "metadata": {
    "scrolled": true
   },
   "outputs": [
    {
     "data": {
      "text/plain": [
       "0        B2\n",
       "1        C4\n",
       "2        C5\n",
       "3        C1\n",
       "4        B5\n",
       "         ..\n",
       "39712    A4\n",
       "39713    C1\n",
       "39714    A4\n",
       "39715    A2\n",
       "39716    E2\n",
       "Name: sub_grade, Length: 39717, dtype: category\n",
       "Categories (35, object): ['A1', 'A2', 'A3', 'A4', ..., 'G2', 'G3', 'G4', 'G5']"
      ]
     },
     "execution_count": 298,
     "metadata": {},
     "output_type": "execute_result"
    }
   ],
   "source": [
    "loan_df['sub_grade'] = loan_df['sub_grade'].astype('category')\n",
    "loan_df['sub_grade']"
   ]
  },
  {
   "cell_type": "markdown",
   "id": "a3d5d896",
   "metadata": {},
   "source": [
    "### เปลี่ยนคอลัมน์ emp_length เป็นประเภท category"
   ]
  },
  {
   "cell_type": "code",
   "execution_count": 299,
   "id": "2c4e4356",
   "metadata": {},
   "outputs": [
    {
     "data": {
      "text/plain": [
       "10+ years    8879\n",
       "< 1 year     4583\n",
       "2 years      4388\n",
       "3 years      4095\n",
       "4 years      3436\n",
       "5 years      3282\n",
       "1 year       3240\n",
       "6 years      2229\n",
       "7 years      1773\n",
       "8 years      1479\n",
       "9 years      1258\n",
       "Name: emp_length, dtype: int64"
      ]
     },
     "execution_count": 299,
     "metadata": {},
     "output_type": "execute_result"
    }
   ],
   "source": [
    "loan_df['emp_length'].value_counts()"
   ]
  },
  {
   "cell_type": "code",
   "execution_count": 300,
   "id": "7d780175",
   "metadata": {
    "scrolled": false
   },
   "outputs": [
    {
     "data": {
      "text/plain": [
       "0        10+ years\n",
       "1         < 1 year\n",
       "2        10+ years\n",
       "3        10+ years\n",
       "4           1 year\n",
       "           ...    \n",
       "39712      4 years\n",
       "39713      3 years\n",
       "39714     < 1 year\n",
       "39715     < 1 year\n",
       "39716     < 1 year\n",
       "Name: emp_length, Length: 39717, dtype: category\n",
       "Categories (11, object): ['1 year', '10+ years', '2 years', '3 years', ..., '7 years', '8 years', '9 years', '< 1 year']"
      ]
     },
     "execution_count": 300,
     "metadata": {},
     "output_type": "execute_result"
    }
   ],
   "source": [
    "loan_df['emp_length'] = loan_df['emp_length'].astype('category')\n",
    "loan_df['emp_length']"
   ]
  },
  {
   "cell_type": "markdown",
   "id": "14553b50",
   "metadata": {},
   "source": [
    "### เปลี่ยนคอลัมน์ home_ownership เป็นประเภท category"
   ]
  },
  {
   "cell_type": "code",
   "execution_count": 301,
   "id": "b32546b2",
   "metadata": {},
   "outputs": [
    {
     "data": {
      "text/plain": [
       "RENT        18899\n",
       "MORTGAGE    17659\n",
       "OWN          3058\n",
       "OTHER          98\n",
       "NONE            3\n",
       "Name: home_ownership, dtype: int64"
      ]
     },
     "execution_count": 301,
     "metadata": {},
     "output_type": "execute_result"
    }
   ],
   "source": [
    "loan_df['home_ownership'].value_counts()"
   ]
  },
  {
   "cell_type": "code",
   "execution_count": 302,
   "id": "773613c6",
   "metadata": {
    "scrolled": false
   },
   "outputs": [
    {
     "data": {
      "text/plain": [
       "0            RENT\n",
       "1            RENT\n",
       "2            RENT\n",
       "3            RENT\n",
       "4            RENT\n",
       "           ...   \n",
       "39712    MORTGAGE\n",
       "39713        RENT\n",
       "39714    MORTGAGE\n",
       "39715    MORTGAGE\n",
       "39716         OWN\n",
       "Name: home_ownership, Length: 39717, dtype: category\n",
       "Categories (5, object): ['MORTGAGE', 'NONE', 'OTHER', 'OWN', 'RENT']"
      ]
     },
     "execution_count": 302,
     "metadata": {},
     "output_type": "execute_result"
    }
   ],
   "source": [
    "loan_df['home_ownership'] = loan_df['home_ownership'].astype('category')\n",
    "loan_df['home_ownership']"
   ]
  },
  {
   "cell_type": "markdown",
   "id": "4aaf0647",
   "metadata": {},
   "source": [
    "### เปลี่ยนคอลัมน์ verification_status เป็นประเภท category"
   ]
  },
  {
   "cell_type": "code",
   "execution_count": 303,
   "id": "447d158c",
   "metadata": {},
   "outputs": [
    {
     "data": {
      "text/plain": [
       "Not Verified       16921\n",
       "Verified           12809\n",
       "Source Verified     9987\n",
       "Name: verification_status, dtype: int64"
      ]
     },
     "execution_count": 303,
     "metadata": {},
     "output_type": "execute_result"
    }
   ],
   "source": [
    "loan_df['verification_status'].value_counts()"
   ]
  },
  {
   "cell_type": "code",
   "execution_count": 304,
   "id": "0fd4e21c",
   "metadata": {
    "scrolled": false
   },
   "outputs": [
    {
     "data": {
      "text/plain": [
       "0               Verified\n",
       "1        Source Verified\n",
       "2           Not Verified\n",
       "3        Source Verified\n",
       "4        Source Verified\n",
       "              ...       \n",
       "39712       Not Verified\n",
       "39713       Not Verified\n",
       "39714       Not Verified\n",
       "39715       Not Verified\n",
       "39716       Not Verified\n",
       "Name: verification_status, Length: 39717, dtype: category\n",
       "Categories (3, object): ['Not Verified', 'Source Verified', 'Verified']"
      ]
     },
     "execution_count": 304,
     "metadata": {},
     "output_type": "execute_result"
    }
   ],
   "source": [
    "loan_df['verification_status'] = loan_df['verification_status'].astype('category')\n",
    "loan_df['verification_status']"
   ]
  },
  {
   "cell_type": "markdown",
   "id": "77e1064c",
   "metadata": {},
   "source": [
    "### เปลี่ยนคอลัมน์ loan_status เป็นประเภท category"
   ]
  },
  {
   "cell_type": "code",
   "execution_count": 305,
   "id": "3327dd1a",
   "metadata": {},
   "outputs": [
    {
     "data": {
      "text/plain": [
       "Fully Paid     32950\n",
       "Charged Off     5627\n",
       "Current         1140\n",
       "Name: loan_status, dtype: int64"
      ]
     },
     "execution_count": 305,
     "metadata": {},
     "output_type": "execute_result"
    }
   ],
   "source": [
    "loan_df['loan_status'].value_counts()"
   ]
  },
  {
   "cell_type": "code",
   "execution_count": 306,
   "id": "4af2cf72",
   "metadata": {
    "scrolled": false
   },
   "outputs": [
    {
     "data": {
      "text/plain": [
       "0         Fully Paid\n",
       "1        Charged Off\n",
       "2         Fully Paid\n",
       "3         Fully Paid\n",
       "4            Current\n",
       "            ...     \n",
       "39712     Fully Paid\n",
       "39713     Fully Paid\n",
       "39714     Fully Paid\n",
       "39715     Fully Paid\n",
       "39716     Fully Paid\n",
       "Name: loan_status, Length: 39717, dtype: category\n",
       "Categories (3, object): ['Charged Off', 'Current', 'Fully Paid']"
      ]
     },
     "execution_count": 306,
     "metadata": {},
     "output_type": "execute_result"
    }
   ],
   "source": [
    "loan_df['loan_status'] = loan_df['loan_status'].astype('category')\n",
    "loan_df['loan_status']"
   ]
  },
  {
   "cell_type": "markdown",
   "id": "b437cfe7",
   "metadata": {},
   "source": [
    "###  เปลี่ยนคอลัมน์ purpose เป็นประเภท category"
   ]
  },
  {
   "cell_type": "code",
   "execution_count": 307,
   "id": "0df9a1ad",
   "metadata": {},
   "outputs": [
    {
     "data": {
      "text/plain": [
       "debt_consolidation    18641\n",
       "credit_card            5130\n",
       "other                  3993\n",
       "home_improvement       2976\n",
       "major_purchase         2187\n",
       "small_business         1828\n",
       "car                    1549\n",
       "wedding                 947\n",
       "medical                 693\n",
       "moving                  583\n",
       "vacation                381\n",
       "house                   381\n",
       "educational             325\n",
       "renewable_energy        103\n",
       "Name: purpose, dtype: int64"
      ]
     },
     "execution_count": 307,
     "metadata": {},
     "output_type": "execute_result"
    }
   ],
   "source": [
    "loan_df['purpose'].value_counts()"
   ]
  },
  {
   "cell_type": "code",
   "execution_count": 308,
   "id": "fb2ca38a",
   "metadata": {
    "scrolled": true
   },
   "outputs": [
    {
     "data": {
      "text/plain": [
       "0               credit_card\n",
       "1                       car\n",
       "2            small_business\n",
       "3                     other\n",
       "4                     other\n",
       "                ...        \n",
       "39712      home_improvement\n",
       "39713           credit_card\n",
       "39714    debt_consolidation\n",
       "39715                 other\n",
       "39716    debt_consolidation\n",
       "Name: purpose, Length: 39717, dtype: category\n",
       "Categories (14, object): ['car', 'credit_card', 'debt_consolidation', 'educational', ..., 'renewable_energy', 'small_business', 'vacation', 'wedding']"
      ]
     },
     "execution_count": 308,
     "metadata": {},
     "output_type": "execute_result"
    }
   ],
   "source": [
    "loan_df['purpose'] = loan_df['purpose'].astype('category')\n",
    "loan_df['purpose']"
   ]
  },
  {
   "cell_type": "markdown",
   "id": "e208fe5e",
   "metadata": {},
   "source": [
    "## กำจัดข้อมูลที่เป็นค่าว่างหรือค่าที่ไม่สามารถนำมาวิเคราะห์ได้"
   ]
  },
  {
   "cell_type": "markdown",
   "id": "cd556c73",
   "metadata": {},
   "source": [
    "### กำจัดข้อมูลที่มีค่าในคอลัมน์ emp_length เป็นค่าว่าง"
   ]
  },
  {
   "cell_type": "code",
   "execution_count": 309,
   "id": "09532424",
   "metadata": {},
   "outputs": [
    {
     "data": {
      "text/html": [
       "<div>\n",
       "<style scoped>\n",
       "    .dataframe tbody tr th:only-of-type {\n",
       "        vertical-align: middle;\n",
       "    }\n",
       "\n",
       "    .dataframe tbody tr th {\n",
       "        vertical-align: top;\n",
       "    }\n",
       "\n",
       "    .dataframe thead th {\n",
       "        text-align: right;\n",
       "    }\n",
       "</style>\n",
       "<table border=\"1\" class=\"dataframe\">\n",
       "  <thead>\n",
       "    <tr style=\"text-align: right;\">\n",
       "      <th></th>\n",
       "      <th>member_id</th>\n",
       "      <th>loan_amnt</th>\n",
       "      <th>funded_amnt</th>\n",
       "      <th>funded_amnt_inv</th>\n",
       "      <th>term</th>\n",
       "      <th>int_rate</th>\n",
       "      <th>installment</th>\n",
       "      <th>grade</th>\n",
       "      <th>sub_grade</th>\n",
       "      <th>emp_title</th>\n",
       "      <th>...</th>\n",
       "      <th>revol_util</th>\n",
       "      <th>total_acc</th>\n",
       "      <th>total_pymnt</th>\n",
       "      <th>total_pymnt_inv</th>\n",
       "      <th>total_rec_prncp</th>\n",
       "      <th>total_rec_int</th>\n",
       "      <th>total_rec_late_fee</th>\n",
       "      <th>recoveries</th>\n",
       "      <th>collection_recovery_fee</th>\n",
       "      <th>last_pymnt_amnt</th>\n",
       "    </tr>\n",
       "  </thead>\n",
       "  <tbody>\n",
       "    <tr>\n",
       "      <th>0</th>\n",
       "      <td>1296599</td>\n",
       "      <td>5000</td>\n",
       "      <td>5000</td>\n",
       "      <td>4975.0</td>\n",
       "      <td>36 months</td>\n",
       "      <td>10.65</td>\n",
       "      <td>162.87</td>\n",
       "      <td>B</td>\n",
       "      <td>B2</td>\n",
       "      <td>unknown</td>\n",
       "      <td>...</td>\n",
       "      <td>83.7</td>\n",
       "      <td>9</td>\n",
       "      <td>5863.155187</td>\n",
       "      <td>5833.84</td>\n",
       "      <td>5000.00</td>\n",
       "      <td>863.16</td>\n",
       "      <td>0.00</td>\n",
       "      <td>0.00</td>\n",
       "      <td>0.00</td>\n",
       "      <td>171.62</td>\n",
       "    </tr>\n",
       "    <tr>\n",
       "      <th>1</th>\n",
       "      <td>1314167</td>\n",
       "      <td>2500</td>\n",
       "      <td>2500</td>\n",
       "      <td>2500.0</td>\n",
       "      <td>60 months</td>\n",
       "      <td>15.27</td>\n",
       "      <td>59.83</td>\n",
       "      <td>C</td>\n",
       "      <td>C4</td>\n",
       "      <td>Ryder</td>\n",
       "      <td>...</td>\n",
       "      <td>9.4</td>\n",
       "      <td>4</td>\n",
       "      <td>1008.710000</td>\n",
       "      <td>1008.71</td>\n",
       "      <td>456.46</td>\n",
       "      <td>435.17</td>\n",
       "      <td>0.00</td>\n",
       "      <td>117.08</td>\n",
       "      <td>1.11</td>\n",
       "      <td>119.66</td>\n",
       "    </tr>\n",
       "    <tr>\n",
       "      <th>2</th>\n",
       "      <td>1313524</td>\n",
       "      <td>2400</td>\n",
       "      <td>2400</td>\n",
       "      <td>2400.0</td>\n",
       "      <td>36 months</td>\n",
       "      <td>15.96</td>\n",
       "      <td>84.33</td>\n",
       "      <td>C</td>\n",
       "      <td>C5</td>\n",
       "      <td>unknown</td>\n",
       "      <td>...</td>\n",
       "      <td>98.5</td>\n",
       "      <td>10</td>\n",
       "      <td>3005.666844</td>\n",
       "      <td>3005.67</td>\n",
       "      <td>2400.00</td>\n",
       "      <td>605.67</td>\n",
       "      <td>0.00</td>\n",
       "      <td>0.00</td>\n",
       "      <td>0.00</td>\n",
       "      <td>649.91</td>\n",
       "    </tr>\n",
       "    <tr>\n",
       "      <th>3</th>\n",
       "      <td>1277178</td>\n",
       "      <td>10000</td>\n",
       "      <td>10000</td>\n",
       "      <td>10000.0</td>\n",
       "      <td>36 months</td>\n",
       "      <td>13.49</td>\n",
       "      <td>339.31</td>\n",
       "      <td>C</td>\n",
       "      <td>C1</td>\n",
       "      <td>AIR RESOURCES BOARD</td>\n",
       "      <td>...</td>\n",
       "      <td>21.0</td>\n",
       "      <td>37</td>\n",
       "      <td>12231.890000</td>\n",
       "      <td>12231.89</td>\n",
       "      <td>10000.00</td>\n",
       "      <td>2214.92</td>\n",
       "      <td>16.97</td>\n",
       "      <td>0.00</td>\n",
       "      <td>0.00</td>\n",
       "      <td>357.48</td>\n",
       "    </tr>\n",
       "    <tr>\n",
       "      <th>4</th>\n",
       "      <td>1311748</td>\n",
       "      <td>3000</td>\n",
       "      <td>3000</td>\n",
       "      <td>3000.0</td>\n",
       "      <td>60 months</td>\n",
       "      <td>12.69</td>\n",
       "      <td>67.79</td>\n",
       "      <td>B</td>\n",
       "      <td>B5</td>\n",
       "      <td>University Medical Group</td>\n",
       "      <td>...</td>\n",
       "      <td>53.9</td>\n",
       "      <td>38</td>\n",
       "      <td>3513.330000</td>\n",
       "      <td>3513.33</td>\n",
       "      <td>2475.94</td>\n",
       "      <td>1037.39</td>\n",
       "      <td>0.00</td>\n",
       "      <td>0.00</td>\n",
       "      <td>0.00</td>\n",
       "      <td>67.79</td>\n",
       "    </tr>\n",
       "    <tr>\n",
       "      <th>...</th>\n",
       "      <td>...</td>\n",
       "      <td>...</td>\n",
       "      <td>...</td>\n",
       "      <td>...</td>\n",
       "      <td>...</td>\n",
       "      <td>...</td>\n",
       "      <td>...</td>\n",
       "      <td>...</td>\n",
       "      <td>...</td>\n",
       "      <td>...</td>\n",
       "      <td>...</td>\n",
       "      <td>...</td>\n",
       "      <td>...</td>\n",
       "      <td>...</td>\n",
       "      <td>...</td>\n",
       "      <td>...</td>\n",
       "      <td>...</td>\n",
       "      <td>...</td>\n",
       "      <td>...</td>\n",
       "      <td>...</td>\n",
       "      <td>...</td>\n",
       "    </tr>\n",
       "    <tr>\n",
       "      <th>39712</th>\n",
       "      <td>92174</td>\n",
       "      <td>2500</td>\n",
       "      <td>2500</td>\n",
       "      <td>1075.0</td>\n",
       "      <td>36 months</td>\n",
       "      <td>8.07</td>\n",
       "      <td>78.42</td>\n",
       "      <td>A</td>\n",
       "      <td>A4</td>\n",
       "      <td>FiSite Research</td>\n",
       "      <td>...</td>\n",
       "      <td>13.1</td>\n",
       "      <td>40</td>\n",
       "      <td>2822.969293</td>\n",
       "      <td>1213.88</td>\n",
       "      <td>2500.00</td>\n",
       "      <td>322.97</td>\n",
       "      <td>0.00</td>\n",
       "      <td>0.00</td>\n",
       "      <td>0.00</td>\n",
       "      <td>80.90</td>\n",
       "    </tr>\n",
       "    <tr>\n",
       "      <th>39713</th>\n",
       "      <td>90607</td>\n",
       "      <td>8500</td>\n",
       "      <td>8500</td>\n",
       "      <td>875.0</td>\n",
       "      <td>36 months</td>\n",
       "      <td>10.28</td>\n",
       "      <td>275.38</td>\n",
       "      <td>C</td>\n",
       "      <td>C1</td>\n",
       "      <td>Squarewave Solutions, Ltd.</td>\n",
       "      <td>...</td>\n",
       "      <td>26.9</td>\n",
       "      <td>9</td>\n",
       "      <td>9913.491822</td>\n",
       "      <td>1020.51</td>\n",
       "      <td>8500.00</td>\n",
       "      <td>1413.49</td>\n",
       "      <td>0.00</td>\n",
       "      <td>0.00</td>\n",
       "      <td>0.00</td>\n",
       "      <td>281.94</td>\n",
       "    </tr>\n",
       "    <tr>\n",
       "      <th>39714</th>\n",
       "      <td>90390</td>\n",
       "      <td>5000</td>\n",
       "      <td>5000</td>\n",
       "      <td>1325.0</td>\n",
       "      <td>36 months</td>\n",
       "      <td>8.07</td>\n",
       "      <td>156.84</td>\n",
       "      <td>A</td>\n",
       "      <td>A4</td>\n",
       "      <td>unknown</td>\n",
       "      <td>...</td>\n",
       "      <td>19.4</td>\n",
       "      <td>20</td>\n",
       "      <td>5272.161128</td>\n",
       "      <td>1397.12</td>\n",
       "      <td>5000.00</td>\n",
       "      <td>272.16</td>\n",
       "      <td>0.00</td>\n",
       "      <td>0.00</td>\n",
       "      <td>0.00</td>\n",
       "      <td>0.00</td>\n",
       "    </tr>\n",
       "    <tr>\n",
       "      <th>39715</th>\n",
       "      <td>89243</td>\n",
       "      <td>5000</td>\n",
       "      <td>5000</td>\n",
       "      <td>650.0</td>\n",
       "      <td>36 months</td>\n",
       "      <td>7.43</td>\n",
       "      <td>155.38</td>\n",
       "      <td>A</td>\n",
       "      <td>A2</td>\n",
       "      <td>unknown</td>\n",
       "      <td>...</td>\n",
       "      <td>0.7</td>\n",
       "      <td>26</td>\n",
       "      <td>5174.198551</td>\n",
       "      <td>672.66</td>\n",
       "      <td>5000.00</td>\n",
       "      <td>174.20</td>\n",
       "      <td>0.00</td>\n",
       "      <td>0.00</td>\n",
       "      <td>0.00</td>\n",
       "      <td>0.00</td>\n",
       "    </tr>\n",
       "    <tr>\n",
       "      <th>39716</th>\n",
       "      <td>86999</td>\n",
       "      <td>7500</td>\n",
       "      <td>7500</td>\n",
       "      <td>800.0</td>\n",
       "      <td>36 months</td>\n",
       "      <td>13.75</td>\n",
       "      <td>255.43</td>\n",
       "      <td>E</td>\n",
       "      <td>E2</td>\n",
       "      <td>Evergreen Center</td>\n",
       "      <td>...</td>\n",
       "      <td>51.5</td>\n",
       "      <td>8</td>\n",
       "      <td>9195.263334</td>\n",
       "      <td>980.83</td>\n",
       "      <td>7500.00</td>\n",
       "      <td>1695.26</td>\n",
       "      <td>0.00</td>\n",
       "      <td>0.00</td>\n",
       "      <td>0.00</td>\n",
       "      <td>256.59</td>\n",
       "    </tr>\n",
       "  </tbody>\n",
       "</table>\n",
       "<p>38642 rows × 35 columns</p>\n",
       "</div>"
      ],
      "text/plain": [
       "      member_id  loan_amnt  funded_amnt  funded_amnt_inv        term  \\\n",
       "0       1296599       5000         5000           4975.0   36 months   \n",
       "1       1314167       2500         2500           2500.0   60 months   \n",
       "2       1313524       2400         2400           2400.0   36 months   \n",
       "3       1277178      10000        10000          10000.0   36 months   \n",
       "4       1311748       3000         3000           3000.0   60 months   \n",
       "...         ...        ...          ...              ...         ...   \n",
       "39712     92174       2500         2500           1075.0   36 months   \n",
       "39713     90607       8500         8500            875.0   36 months   \n",
       "39714     90390       5000         5000           1325.0   36 months   \n",
       "39715     89243       5000         5000            650.0   36 months   \n",
       "39716     86999       7500         7500            800.0   36 months   \n",
       "\n",
       "       int_rate  installment grade sub_grade                   emp_title  ...  \\\n",
       "0         10.65       162.87     B        B2                     unknown  ...   \n",
       "1         15.27        59.83     C        C4                       Ryder  ...   \n",
       "2         15.96        84.33     C        C5                     unknown  ...   \n",
       "3         13.49       339.31     C        C1         AIR RESOURCES BOARD  ...   \n",
       "4         12.69        67.79     B        B5    University Medical Group  ...   \n",
       "...         ...          ...   ...       ...                         ...  ...   \n",
       "39712      8.07        78.42     A        A4             FiSite Research  ...   \n",
       "39713     10.28       275.38     C        C1  Squarewave Solutions, Ltd.  ...   \n",
       "39714      8.07       156.84     A        A4                     unknown  ...   \n",
       "39715      7.43       155.38     A        A2                     unknown  ...   \n",
       "39716     13.75       255.43     E        E2            Evergreen Center  ...   \n",
       "\n",
       "      revol_util total_acc   total_pymnt total_pymnt_inv total_rec_prncp  \\\n",
       "0           83.7         9   5863.155187         5833.84         5000.00   \n",
       "1            9.4         4   1008.710000         1008.71          456.46   \n",
       "2           98.5        10   3005.666844         3005.67         2400.00   \n",
       "3           21.0        37  12231.890000        12231.89        10000.00   \n",
       "4           53.9        38   3513.330000         3513.33         2475.94   \n",
       "...          ...       ...           ...             ...             ...   \n",
       "39712       13.1        40   2822.969293         1213.88         2500.00   \n",
       "39713       26.9         9   9913.491822         1020.51         8500.00   \n",
       "39714       19.4        20   5272.161128         1397.12         5000.00   \n",
       "39715        0.7        26   5174.198551          672.66         5000.00   \n",
       "39716       51.5         8   9195.263334          980.83         7500.00   \n",
       "\n",
       "      total_rec_int total_rec_late_fee recoveries collection_recovery_fee  \\\n",
       "0            863.16               0.00       0.00                    0.00   \n",
       "1            435.17               0.00     117.08                    1.11   \n",
       "2            605.67               0.00       0.00                    0.00   \n",
       "3           2214.92              16.97       0.00                    0.00   \n",
       "4           1037.39               0.00       0.00                    0.00   \n",
       "...             ...                ...        ...                     ...   \n",
       "39712        322.97               0.00       0.00                    0.00   \n",
       "39713       1413.49               0.00       0.00                    0.00   \n",
       "39714        272.16               0.00       0.00                    0.00   \n",
       "39715        174.20               0.00       0.00                    0.00   \n",
       "39716       1695.26               0.00       0.00                    0.00   \n",
       "\n",
       "      last_pymnt_amnt  \n",
       "0              171.62  \n",
       "1              119.66  \n",
       "2              649.91  \n",
       "3              357.48  \n",
       "4               67.79  \n",
       "...               ...  \n",
       "39712           80.90  \n",
       "39713          281.94  \n",
       "39714            0.00  \n",
       "39715            0.00  \n",
       "39716          256.59  \n",
       "\n",
       "[38642 rows x 35 columns]"
      ]
     },
     "execution_count": 309,
     "metadata": {},
     "output_type": "execute_result"
    }
   ],
   "source": [
    "loan_df = loan_df.loc[loan_df['emp_length'].notna()]\n",
    "loan_df"
   ]
  },
  {
   "cell_type": "markdown",
   "id": "37cbe8be",
   "metadata": {},
   "source": [
    "### กำจัดข้อมูลที่มีค่าในคอลัมน์ home_ownership เป็นค่าว่าง NONE"
   ]
  },
  {
   "cell_type": "code",
   "execution_count": 310,
   "id": "743533d0",
   "metadata": {
    "scrolled": false
   },
   "outputs": [
    {
     "name": "stderr",
     "output_type": "stream",
     "text": [
      "C:\\Users\\hp\\AppData\\Local\\Temp\\ipykernel_4448\\1966820827.py:2: SettingWithCopyWarning: \n",
      "A value is trying to be set on a copy of a slice from a DataFrame.\n",
      "Try using .loc[row_indexer,col_indexer] = value instead\n",
      "\n",
      "See the caveats in the documentation: https://pandas.pydata.org/pandas-docs/stable/user_guide/indexing.html#returning-a-view-versus-a-copy\n",
      "  loan_df['home_ownership'] = loan_df['home_ownership'].cat.remove_unused_categories()\n"
     ]
    },
    {
     "data": {
      "text/html": [
       "<div>\n",
       "<style scoped>\n",
       "    .dataframe tbody tr th:only-of-type {\n",
       "        vertical-align: middle;\n",
       "    }\n",
       "\n",
       "    .dataframe tbody tr th {\n",
       "        vertical-align: top;\n",
       "    }\n",
       "\n",
       "    .dataframe thead th {\n",
       "        text-align: right;\n",
       "    }\n",
       "</style>\n",
       "<table border=\"1\" class=\"dataframe\">\n",
       "  <thead>\n",
       "    <tr style=\"text-align: right;\">\n",
       "      <th></th>\n",
       "      <th>member_id</th>\n",
       "      <th>loan_amnt</th>\n",
       "      <th>funded_amnt</th>\n",
       "      <th>funded_amnt_inv</th>\n",
       "      <th>term</th>\n",
       "      <th>int_rate</th>\n",
       "      <th>installment</th>\n",
       "      <th>grade</th>\n",
       "      <th>sub_grade</th>\n",
       "      <th>emp_title</th>\n",
       "      <th>...</th>\n",
       "      <th>revol_util</th>\n",
       "      <th>total_acc</th>\n",
       "      <th>total_pymnt</th>\n",
       "      <th>total_pymnt_inv</th>\n",
       "      <th>total_rec_prncp</th>\n",
       "      <th>total_rec_int</th>\n",
       "      <th>total_rec_late_fee</th>\n",
       "      <th>recoveries</th>\n",
       "      <th>collection_recovery_fee</th>\n",
       "      <th>last_pymnt_amnt</th>\n",
       "    </tr>\n",
       "  </thead>\n",
       "  <tbody>\n",
       "    <tr>\n",
       "      <th>0</th>\n",
       "      <td>1296599</td>\n",
       "      <td>5000</td>\n",
       "      <td>5000</td>\n",
       "      <td>4975.0</td>\n",
       "      <td>36 months</td>\n",
       "      <td>10.65</td>\n",
       "      <td>162.87</td>\n",
       "      <td>B</td>\n",
       "      <td>B2</td>\n",
       "      <td>unknown</td>\n",
       "      <td>...</td>\n",
       "      <td>83.7</td>\n",
       "      <td>9</td>\n",
       "      <td>5863.155187</td>\n",
       "      <td>5833.84</td>\n",
       "      <td>5000.00</td>\n",
       "      <td>863.16</td>\n",
       "      <td>0.00</td>\n",
       "      <td>0.00</td>\n",
       "      <td>0.00</td>\n",
       "      <td>171.62</td>\n",
       "    </tr>\n",
       "    <tr>\n",
       "      <th>1</th>\n",
       "      <td>1314167</td>\n",
       "      <td>2500</td>\n",
       "      <td>2500</td>\n",
       "      <td>2500.0</td>\n",
       "      <td>60 months</td>\n",
       "      <td>15.27</td>\n",
       "      <td>59.83</td>\n",
       "      <td>C</td>\n",
       "      <td>C4</td>\n",
       "      <td>Ryder</td>\n",
       "      <td>...</td>\n",
       "      <td>9.4</td>\n",
       "      <td>4</td>\n",
       "      <td>1008.710000</td>\n",
       "      <td>1008.71</td>\n",
       "      <td>456.46</td>\n",
       "      <td>435.17</td>\n",
       "      <td>0.00</td>\n",
       "      <td>117.08</td>\n",
       "      <td>1.11</td>\n",
       "      <td>119.66</td>\n",
       "    </tr>\n",
       "    <tr>\n",
       "      <th>2</th>\n",
       "      <td>1313524</td>\n",
       "      <td>2400</td>\n",
       "      <td>2400</td>\n",
       "      <td>2400.0</td>\n",
       "      <td>36 months</td>\n",
       "      <td>15.96</td>\n",
       "      <td>84.33</td>\n",
       "      <td>C</td>\n",
       "      <td>C5</td>\n",
       "      <td>unknown</td>\n",
       "      <td>...</td>\n",
       "      <td>98.5</td>\n",
       "      <td>10</td>\n",
       "      <td>3005.666844</td>\n",
       "      <td>3005.67</td>\n",
       "      <td>2400.00</td>\n",
       "      <td>605.67</td>\n",
       "      <td>0.00</td>\n",
       "      <td>0.00</td>\n",
       "      <td>0.00</td>\n",
       "      <td>649.91</td>\n",
       "    </tr>\n",
       "    <tr>\n",
       "      <th>3</th>\n",
       "      <td>1277178</td>\n",
       "      <td>10000</td>\n",
       "      <td>10000</td>\n",
       "      <td>10000.0</td>\n",
       "      <td>36 months</td>\n",
       "      <td>13.49</td>\n",
       "      <td>339.31</td>\n",
       "      <td>C</td>\n",
       "      <td>C1</td>\n",
       "      <td>AIR RESOURCES BOARD</td>\n",
       "      <td>...</td>\n",
       "      <td>21.0</td>\n",
       "      <td>37</td>\n",
       "      <td>12231.890000</td>\n",
       "      <td>12231.89</td>\n",
       "      <td>10000.00</td>\n",
       "      <td>2214.92</td>\n",
       "      <td>16.97</td>\n",
       "      <td>0.00</td>\n",
       "      <td>0.00</td>\n",
       "      <td>357.48</td>\n",
       "    </tr>\n",
       "    <tr>\n",
       "      <th>4</th>\n",
       "      <td>1311748</td>\n",
       "      <td>3000</td>\n",
       "      <td>3000</td>\n",
       "      <td>3000.0</td>\n",
       "      <td>60 months</td>\n",
       "      <td>12.69</td>\n",
       "      <td>67.79</td>\n",
       "      <td>B</td>\n",
       "      <td>B5</td>\n",
       "      <td>University Medical Group</td>\n",
       "      <td>...</td>\n",
       "      <td>53.9</td>\n",
       "      <td>38</td>\n",
       "      <td>3513.330000</td>\n",
       "      <td>3513.33</td>\n",
       "      <td>2475.94</td>\n",
       "      <td>1037.39</td>\n",
       "      <td>0.00</td>\n",
       "      <td>0.00</td>\n",
       "      <td>0.00</td>\n",
       "      <td>67.79</td>\n",
       "    </tr>\n",
       "    <tr>\n",
       "      <th>...</th>\n",
       "      <td>...</td>\n",
       "      <td>...</td>\n",
       "      <td>...</td>\n",
       "      <td>...</td>\n",
       "      <td>...</td>\n",
       "      <td>...</td>\n",
       "      <td>...</td>\n",
       "      <td>...</td>\n",
       "      <td>...</td>\n",
       "      <td>...</td>\n",
       "      <td>...</td>\n",
       "      <td>...</td>\n",
       "      <td>...</td>\n",
       "      <td>...</td>\n",
       "      <td>...</td>\n",
       "      <td>...</td>\n",
       "      <td>...</td>\n",
       "      <td>...</td>\n",
       "      <td>...</td>\n",
       "      <td>...</td>\n",
       "      <td>...</td>\n",
       "    </tr>\n",
       "    <tr>\n",
       "      <th>39712</th>\n",
       "      <td>92174</td>\n",
       "      <td>2500</td>\n",
       "      <td>2500</td>\n",
       "      <td>1075.0</td>\n",
       "      <td>36 months</td>\n",
       "      <td>8.07</td>\n",
       "      <td>78.42</td>\n",
       "      <td>A</td>\n",
       "      <td>A4</td>\n",
       "      <td>FiSite Research</td>\n",
       "      <td>...</td>\n",
       "      <td>13.1</td>\n",
       "      <td>40</td>\n",
       "      <td>2822.969293</td>\n",
       "      <td>1213.88</td>\n",
       "      <td>2500.00</td>\n",
       "      <td>322.97</td>\n",
       "      <td>0.00</td>\n",
       "      <td>0.00</td>\n",
       "      <td>0.00</td>\n",
       "      <td>80.90</td>\n",
       "    </tr>\n",
       "    <tr>\n",
       "      <th>39713</th>\n",
       "      <td>90607</td>\n",
       "      <td>8500</td>\n",
       "      <td>8500</td>\n",
       "      <td>875.0</td>\n",
       "      <td>36 months</td>\n",
       "      <td>10.28</td>\n",
       "      <td>275.38</td>\n",
       "      <td>C</td>\n",
       "      <td>C1</td>\n",
       "      <td>Squarewave Solutions, Ltd.</td>\n",
       "      <td>...</td>\n",
       "      <td>26.9</td>\n",
       "      <td>9</td>\n",
       "      <td>9913.491822</td>\n",
       "      <td>1020.51</td>\n",
       "      <td>8500.00</td>\n",
       "      <td>1413.49</td>\n",
       "      <td>0.00</td>\n",
       "      <td>0.00</td>\n",
       "      <td>0.00</td>\n",
       "      <td>281.94</td>\n",
       "    </tr>\n",
       "    <tr>\n",
       "      <th>39714</th>\n",
       "      <td>90390</td>\n",
       "      <td>5000</td>\n",
       "      <td>5000</td>\n",
       "      <td>1325.0</td>\n",
       "      <td>36 months</td>\n",
       "      <td>8.07</td>\n",
       "      <td>156.84</td>\n",
       "      <td>A</td>\n",
       "      <td>A4</td>\n",
       "      <td>unknown</td>\n",
       "      <td>...</td>\n",
       "      <td>19.4</td>\n",
       "      <td>20</td>\n",
       "      <td>5272.161128</td>\n",
       "      <td>1397.12</td>\n",
       "      <td>5000.00</td>\n",
       "      <td>272.16</td>\n",
       "      <td>0.00</td>\n",
       "      <td>0.00</td>\n",
       "      <td>0.00</td>\n",
       "      <td>0.00</td>\n",
       "    </tr>\n",
       "    <tr>\n",
       "      <th>39715</th>\n",
       "      <td>89243</td>\n",
       "      <td>5000</td>\n",
       "      <td>5000</td>\n",
       "      <td>650.0</td>\n",
       "      <td>36 months</td>\n",
       "      <td>7.43</td>\n",
       "      <td>155.38</td>\n",
       "      <td>A</td>\n",
       "      <td>A2</td>\n",
       "      <td>unknown</td>\n",
       "      <td>...</td>\n",
       "      <td>0.7</td>\n",
       "      <td>26</td>\n",
       "      <td>5174.198551</td>\n",
       "      <td>672.66</td>\n",
       "      <td>5000.00</td>\n",
       "      <td>174.20</td>\n",
       "      <td>0.00</td>\n",
       "      <td>0.00</td>\n",
       "      <td>0.00</td>\n",
       "      <td>0.00</td>\n",
       "    </tr>\n",
       "    <tr>\n",
       "      <th>39716</th>\n",
       "      <td>86999</td>\n",
       "      <td>7500</td>\n",
       "      <td>7500</td>\n",
       "      <td>800.0</td>\n",
       "      <td>36 months</td>\n",
       "      <td>13.75</td>\n",
       "      <td>255.43</td>\n",
       "      <td>E</td>\n",
       "      <td>E2</td>\n",
       "      <td>Evergreen Center</td>\n",
       "      <td>...</td>\n",
       "      <td>51.5</td>\n",
       "      <td>8</td>\n",
       "      <td>9195.263334</td>\n",
       "      <td>980.83</td>\n",
       "      <td>7500.00</td>\n",
       "      <td>1695.26</td>\n",
       "      <td>0.00</td>\n",
       "      <td>0.00</td>\n",
       "      <td>0.00</td>\n",
       "      <td>256.59</td>\n",
       "    </tr>\n",
       "  </tbody>\n",
       "</table>\n",
       "<p>38639 rows × 35 columns</p>\n",
       "</div>"
      ],
      "text/plain": [
       "      member_id  loan_amnt  funded_amnt  funded_amnt_inv        term  \\\n",
       "0       1296599       5000         5000           4975.0   36 months   \n",
       "1       1314167       2500         2500           2500.0   60 months   \n",
       "2       1313524       2400         2400           2400.0   36 months   \n",
       "3       1277178      10000        10000          10000.0   36 months   \n",
       "4       1311748       3000         3000           3000.0   60 months   \n",
       "...         ...        ...          ...              ...         ...   \n",
       "39712     92174       2500         2500           1075.0   36 months   \n",
       "39713     90607       8500         8500            875.0   36 months   \n",
       "39714     90390       5000         5000           1325.0   36 months   \n",
       "39715     89243       5000         5000            650.0   36 months   \n",
       "39716     86999       7500         7500            800.0   36 months   \n",
       "\n",
       "       int_rate  installment grade sub_grade                   emp_title  ...  \\\n",
       "0         10.65       162.87     B        B2                     unknown  ...   \n",
       "1         15.27        59.83     C        C4                       Ryder  ...   \n",
       "2         15.96        84.33     C        C5                     unknown  ...   \n",
       "3         13.49       339.31     C        C1         AIR RESOURCES BOARD  ...   \n",
       "4         12.69        67.79     B        B5    University Medical Group  ...   \n",
       "...         ...          ...   ...       ...                         ...  ...   \n",
       "39712      8.07        78.42     A        A4             FiSite Research  ...   \n",
       "39713     10.28       275.38     C        C1  Squarewave Solutions, Ltd.  ...   \n",
       "39714      8.07       156.84     A        A4                     unknown  ...   \n",
       "39715      7.43       155.38     A        A2                     unknown  ...   \n",
       "39716     13.75       255.43     E        E2            Evergreen Center  ...   \n",
       "\n",
       "      revol_util total_acc   total_pymnt total_pymnt_inv total_rec_prncp  \\\n",
       "0           83.7         9   5863.155187         5833.84         5000.00   \n",
       "1            9.4         4   1008.710000         1008.71          456.46   \n",
       "2           98.5        10   3005.666844         3005.67         2400.00   \n",
       "3           21.0        37  12231.890000        12231.89        10000.00   \n",
       "4           53.9        38   3513.330000         3513.33         2475.94   \n",
       "...          ...       ...           ...             ...             ...   \n",
       "39712       13.1        40   2822.969293         1213.88         2500.00   \n",
       "39713       26.9         9   9913.491822         1020.51         8500.00   \n",
       "39714       19.4        20   5272.161128         1397.12         5000.00   \n",
       "39715        0.7        26   5174.198551          672.66         5000.00   \n",
       "39716       51.5         8   9195.263334          980.83         7500.00   \n",
       "\n",
       "      total_rec_int total_rec_late_fee recoveries collection_recovery_fee  \\\n",
       "0            863.16               0.00       0.00                    0.00   \n",
       "1            435.17               0.00     117.08                    1.11   \n",
       "2            605.67               0.00       0.00                    0.00   \n",
       "3           2214.92              16.97       0.00                    0.00   \n",
       "4           1037.39               0.00       0.00                    0.00   \n",
       "...             ...                ...        ...                     ...   \n",
       "39712        322.97               0.00       0.00                    0.00   \n",
       "39713       1413.49               0.00       0.00                    0.00   \n",
       "39714        272.16               0.00       0.00                    0.00   \n",
       "39715        174.20               0.00       0.00                    0.00   \n",
       "39716       1695.26               0.00       0.00                    0.00   \n",
       "\n",
       "      last_pymnt_amnt  \n",
       "0              171.62  \n",
       "1              119.66  \n",
       "2              649.91  \n",
       "3              357.48  \n",
       "4               67.79  \n",
       "...               ...  \n",
       "39712           80.90  \n",
       "39713          281.94  \n",
       "39714            0.00  \n",
       "39715            0.00  \n",
       "39716          256.59  \n",
       "\n",
       "[38639 rows x 35 columns]"
      ]
     },
     "execution_count": 310,
     "metadata": {},
     "output_type": "execute_result"
    }
   ],
   "source": [
    "loan_df = loan_df.loc[loan_df['home_ownership'] != 'NONE']\n",
    "loan_df['home_ownership'] = loan_df['home_ownership'].cat.remove_unused_categories()\n",
    "loan_df"
   ]
  },
  {
   "cell_type": "markdown",
   "id": "2d827791",
   "metadata": {},
   "source": [
    "### กำจัดข้อมูลที่มีค่าในคอลัมน์ revol_util เป็นค่าว่าง"
   ]
  },
  {
   "cell_type": "code",
   "execution_count": 311,
   "id": "7cb8b6fa",
   "metadata": {
    "scrolled": false
   },
   "outputs": [
    {
     "data": {
      "text/html": [
       "<div>\n",
       "<style scoped>\n",
       "    .dataframe tbody tr th:only-of-type {\n",
       "        vertical-align: middle;\n",
       "    }\n",
       "\n",
       "    .dataframe tbody tr th {\n",
       "        vertical-align: top;\n",
       "    }\n",
       "\n",
       "    .dataframe thead th {\n",
       "        text-align: right;\n",
       "    }\n",
       "</style>\n",
       "<table border=\"1\" class=\"dataframe\">\n",
       "  <thead>\n",
       "    <tr style=\"text-align: right;\">\n",
       "      <th></th>\n",
       "      <th>member_id</th>\n",
       "      <th>loan_amnt</th>\n",
       "      <th>funded_amnt</th>\n",
       "      <th>funded_amnt_inv</th>\n",
       "      <th>term</th>\n",
       "      <th>int_rate</th>\n",
       "      <th>installment</th>\n",
       "      <th>grade</th>\n",
       "      <th>sub_grade</th>\n",
       "      <th>emp_title</th>\n",
       "      <th>...</th>\n",
       "      <th>revol_util</th>\n",
       "      <th>total_acc</th>\n",
       "      <th>total_pymnt</th>\n",
       "      <th>total_pymnt_inv</th>\n",
       "      <th>total_rec_prncp</th>\n",
       "      <th>total_rec_int</th>\n",
       "      <th>total_rec_late_fee</th>\n",
       "      <th>recoveries</th>\n",
       "      <th>collection_recovery_fee</th>\n",
       "      <th>last_pymnt_amnt</th>\n",
       "    </tr>\n",
       "  </thead>\n",
       "  <tbody>\n",
       "    <tr>\n",
       "      <th>0</th>\n",
       "      <td>1296599</td>\n",
       "      <td>5000</td>\n",
       "      <td>5000</td>\n",
       "      <td>4975.0</td>\n",
       "      <td>36 months</td>\n",
       "      <td>10.65</td>\n",
       "      <td>162.87</td>\n",
       "      <td>B</td>\n",
       "      <td>B2</td>\n",
       "      <td>unknown</td>\n",
       "      <td>...</td>\n",
       "      <td>83.7</td>\n",
       "      <td>9</td>\n",
       "      <td>5863.155187</td>\n",
       "      <td>5833.84</td>\n",
       "      <td>5000.00</td>\n",
       "      <td>863.16</td>\n",
       "      <td>0.00</td>\n",
       "      <td>0.00</td>\n",
       "      <td>0.00</td>\n",
       "      <td>171.62</td>\n",
       "    </tr>\n",
       "    <tr>\n",
       "      <th>1</th>\n",
       "      <td>1314167</td>\n",
       "      <td>2500</td>\n",
       "      <td>2500</td>\n",
       "      <td>2500.0</td>\n",
       "      <td>60 months</td>\n",
       "      <td>15.27</td>\n",
       "      <td>59.83</td>\n",
       "      <td>C</td>\n",
       "      <td>C4</td>\n",
       "      <td>Ryder</td>\n",
       "      <td>...</td>\n",
       "      <td>9.4</td>\n",
       "      <td>4</td>\n",
       "      <td>1008.710000</td>\n",
       "      <td>1008.71</td>\n",
       "      <td>456.46</td>\n",
       "      <td>435.17</td>\n",
       "      <td>0.00</td>\n",
       "      <td>117.08</td>\n",
       "      <td>1.11</td>\n",
       "      <td>119.66</td>\n",
       "    </tr>\n",
       "    <tr>\n",
       "      <th>2</th>\n",
       "      <td>1313524</td>\n",
       "      <td>2400</td>\n",
       "      <td>2400</td>\n",
       "      <td>2400.0</td>\n",
       "      <td>36 months</td>\n",
       "      <td>15.96</td>\n",
       "      <td>84.33</td>\n",
       "      <td>C</td>\n",
       "      <td>C5</td>\n",
       "      <td>unknown</td>\n",
       "      <td>...</td>\n",
       "      <td>98.5</td>\n",
       "      <td>10</td>\n",
       "      <td>3005.666844</td>\n",
       "      <td>3005.67</td>\n",
       "      <td>2400.00</td>\n",
       "      <td>605.67</td>\n",
       "      <td>0.00</td>\n",
       "      <td>0.00</td>\n",
       "      <td>0.00</td>\n",
       "      <td>649.91</td>\n",
       "    </tr>\n",
       "    <tr>\n",
       "      <th>3</th>\n",
       "      <td>1277178</td>\n",
       "      <td>10000</td>\n",
       "      <td>10000</td>\n",
       "      <td>10000.0</td>\n",
       "      <td>36 months</td>\n",
       "      <td>13.49</td>\n",
       "      <td>339.31</td>\n",
       "      <td>C</td>\n",
       "      <td>C1</td>\n",
       "      <td>AIR RESOURCES BOARD</td>\n",
       "      <td>...</td>\n",
       "      <td>21.0</td>\n",
       "      <td>37</td>\n",
       "      <td>12231.890000</td>\n",
       "      <td>12231.89</td>\n",
       "      <td>10000.00</td>\n",
       "      <td>2214.92</td>\n",
       "      <td>16.97</td>\n",
       "      <td>0.00</td>\n",
       "      <td>0.00</td>\n",
       "      <td>357.48</td>\n",
       "    </tr>\n",
       "    <tr>\n",
       "      <th>4</th>\n",
       "      <td>1311748</td>\n",
       "      <td>3000</td>\n",
       "      <td>3000</td>\n",
       "      <td>3000.0</td>\n",
       "      <td>60 months</td>\n",
       "      <td>12.69</td>\n",
       "      <td>67.79</td>\n",
       "      <td>B</td>\n",
       "      <td>B5</td>\n",
       "      <td>University Medical Group</td>\n",
       "      <td>...</td>\n",
       "      <td>53.9</td>\n",
       "      <td>38</td>\n",
       "      <td>3513.330000</td>\n",
       "      <td>3513.33</td>\n",
       "      <td>2475.94</td>\n",
       "      <td>1037.39</td>\n",
       "      <td>0.00</td>\n",
       "      <td>0.00</td>\n",
       "      <td>0.00</td>\n",
       "      <td>67.79</td>\n",
       "    </tr>\n",
       "    <tr>\n",
       "      <th>...</th>\n",
       "      <td>...</td>\n",
       "      <td>...</td>\n",
       "      <td>...</td>\n",
       "      <td>...</td>\n",
       "      <td>...</td>\n",
       "      <td>...</td>\n",
       "      <td>...</td>\n",
       "      <td>...</td>\n",
       "      <td>...</td>\n",
       "      <td>...</td>\n",
       "      <td>...</td>\n",
       "      <td>...</td>\n",
       "      <td>...</td>\n",
       "      <td>...</td>\n",
       "      <td>...</td>\n",
       "      <td>...</td>\n",
       "      <td>...</td>\n",
       "      <td>...</td>\n",
       "      <td>...</td>\n",
       "      <td>...</td>\n",
       "      <td>...</td>\n",
       "    </tr>\n",
       "    <tr>\n",
       "      <th>39712</th>\n",
       "      <td>92174</td>\n",
       "      <td>2500</td>\n",
       "      <td>2500</td>\n",
       "      <td>1075.0</td>\n",
       "      <td>36 months</td>\n",
       "      <td>8.07</td>\n",
       "      <td>78.42</td>\n",
       "      <td>A</td>\n",
       "      <td>A4</td>\n",
       "      <td>FiSite Research</td>\n",
       "      <td>...</td>\n",
       "      <td>13.1</td>\n",
       "      <td>40</td>\n",
       "      <td>2822.969293</td>\n",
       "      <td>1213.88</td>\n",
       "      <td>2500.00</td>\n",
       "      <td>322.97</td>\n",
       "      <td>0.00</td>\n",
       "      <td>0.00</td>\n",
       "      <td>0.00</td>\n",
       "      <td>80.90</td>\n",
       "    </tr>\n",
       "    <tr>\n",
       "      <th>39713</th>\n",
       "      <td>90607</td>\n",
       "      <td>8500</td>\n",
       "      <td>8500</td>\n",
       "      <td>875.0</td>\n",
       "      <td>36 months</td>\n",
       "      <td>10.28</td>\n",
       "      <td>275.38</td>\n",
       "      <td>C</td>\n",
       "      <td>C1</td>\n",
       "      <td>Squarewave Solutions, Ltd.</td>\n",
       "      <td>...</td>\n",
       "      <td>26.9</td>\n",
       "      <td>9</td>\n",
       "      <td>9913.491822</td>\n",
       "      <td>1020.51</td>\n",
       "      <td>8500.00</td>\n",
       "      <td>1413.49</td>\n",
       "      <td>0.00</td>\n",
       "      <td>0.00</td>\n",
       "      <td>0.00</td>\n",
       "      <td>281.94</td>\n",
       "    </tr>\n",
       "    <tr>\n",
       "      <th>39714</th>\n",
       "      <td>90390</td>\n",
       "      <td>5000</td>\n",
       "      <td>5000</td>\n",
       "      <td>1325.0</td>\n",
       "      <td>36 months</td>\n",
       "      <td>8.07</td>\n",
       "      <td>156.84</td>\n",
       "      <td>A</td>\n",
       "      <td>A4</td>\n",
       "      <td>unknown</td>\n",
       "      <td>...</td>\n",
       "      <td>19.4</td>\n",
       "      <td>20</td>\n",
       "      <td>5272.161128</td>\n",
       "      <td>1397.12</td>\n",
       "      <td>5000.00</td>\n",
       "      <td>272.16</td>\n",
       "      <td>0.00</td>\n",
       "      <td>0.00</td>\n",
       "      <td>0.00</td>\n",
       "      <td>0.00</td>\n",
       "    </tr>\n",
       "    <tr>\n",
       "      <th>39715</th>\n",
       "      <td>89243</td>\n",
       "      <td>5000</td>\n",
       "      <td>5000</td>\n",
       "      <td>650.0</td>\n",
       "      <td>36 months</td>\n",
       "      <td>7.43</td>\n",
       "      <td>155.38</td>\n",
       "      <td>A</td>\n",
       "      <td>A2</td>\n",
       "      <td>unknown</td>\n",
       "      <td>...</td>\n",
       "      <td>0.7</td>\n",
       "      <td>26</td>\n",
       "      <td>5174.198551</td>\n",
       "      <td>672.66</td>\n",
       "      <td>5000.00</td>\n",
       "      <td>174.20</td>\n",
       "      <td>0.00</td>\n",
       "      <td>0.00</td>\n",
       "      <td>0.00</td>\n",
       "      <td>0.00</td>\n",
       "    </tr>\n",
       "    <tr>\n",
       "      <th>39716</th>\n",
       "      <td>86999</td>\n",
       "      <td>7500</td>\n",
       "      <td>7500</td>\n",
       "      <td>800.0</td>\n",
       "      <td>36 months</td>\n",
       "      <td>13.75</td>\n",
       "      <td>255.43</td>\n",
       "      <td>E</td>\n",
       "      <td>E2</td>\n",
       "      <td>Evergreen Center</td>\n",
       "      <td>...</td>\n",
       "      <td>51.5</td>\n",
       "      <td>8</td>\n",
       "      <td>9195.263334</td>\n",
       "      <td>980.83</td>\n",
       "      <td>7500.00</td>\n",
       "      <td>1695.26</td>\n",
       "      <td>0.00</td>\n",
       "      <td>0.00</td>\n",
       "      <td>0.00</td>\n",
       "      <td>256.59</td>\n",
       "    </tr>\n",
       "  </tbody>\n",
       "</table>\n",
       "<p>38592 rows × 35 columns</p>\n",
       "</div>"
      ],
      "text/plain": [
       "      member_id  loan_amnt  funded_amnt  funded_amnt_inv        term  \\\n",
       "0       1296599       5000         5000           4975.0   36 months   \n",
       "1       1314167       2500         2500           2500.0   60 months   \n",
       "2       1313524       2400         2400           2400.0   36 months   \n",
       "3       1277178      10000        10000          10000.0   36 months   \n",
       "4       1311748       3000         3000           3000.0   60 months   \n",
       "...         ...        ...          ...              ...         ...   \n",
       "39712     92174       2500         2500           1075.0   36 months   \n",
       "39713     90607       8500         8500            875.0   36 months   \n",
       "39714     90390       5000         5000           1325.0   36 months   \n",
       "39715     89243       5000         5000            650.0   36 months   \n",
       "39716     86999       7500         7500            800.0   36 months   \n",
       "\n",
       "       int_rate  installment grade sub_grade                   emp_title  ...  \\\n",
       "0         10.65       162.87     B        B2                     unknown  ...   \n",
       "1         15.27        59.83     C        C4                       Ryder  ...   \n",
       "2         15.96        84.33     C        C5                     unknown  ...   \n",
       "3         13.49       339.31     C        C1         AIR RESOURCES BOARD  ...   \n",
       "4         12.69        67.79     B        B5    University Medical Group  ...   \n",
       "...         ...          ...   ...       ...                         ...  ...   \n",
       "39712      8.07        78.42     A        A4             FiSite Research  ...   \n",
       "39713     10.28       275.38     C        C1  Squarewave Solutions, Ltd.  ...   \n",
       "39714      8.07       156.84     A        A4                     unknown  ...   \n",
       "39715      7.43       155.38     A        A2                     unknown  ...   \n",
       "39716     13.75       255.43     E        E2            Evergreen Center  ...   \n",
       "\n",
       "      revol_util total_acc   total_pymnt total_pymnt_inv total_rec_prncp  \\\n",
       "0           83.7         9   5863.155187         5833.84         5000.00   \n",
       "1            9.4         4   1008.710000         1008.71          456.46   \n",
       "2           98.5        10   3005.666844         3005.67         2400.00   \n",
       "3           21.0        37  12231.890000        12231.89        10000.00   \n",
       "4           53.9        38   3513.330000         3513.33         2475.94   \n",
       "...          ...       ...           ...             ...             ...   \n",
       "39712       13.1        40   2822.969293         1213.88         2500.00   \n",
       "39713       26.9         9   9913.491822         1020.51         8500.00   \n",
       "39714       19.4        20   5272.161128         1397.12         5000.00   \n",
       "39715        0.7        26   5174.198551          672.66         5000.00   \n",
       "39716       51.5         8   9195.263334          980.83         7500.00   \n",
       "\n",
       "      total_rec_int total_rec_late_fee recoveries collection_recovery_fee  \\\n",
       "0            863.16               0.00       0.00                    0.00   \n",
       "1            435.17               0.00     117.08                    1.11   \n",
       "2            605.67               0.00       0.00                    0.00   \n",
       "3           2214.92              16.97       0.00                    0.00   \n",
       "4           1037.39               0.00       0.00                    0.00   \n",
       "...             ...                ...        ...                     ...   \n",
       "39712        322.97               0.00       0.00                    0.00   \n",
       "39713       1413.49               0.00       0.00                    0.00   \n",
       "39714        272.16               0.00       0.00                    0.00   \n",
       "39715        174.20               0.00       0.00                    0.00   \n",
       "39716       1695.26               0.00       0.00                    0.00   \n",
       "\n",
       "      last_pymnt_amnt  \n",
       "0              171.62  \n",
       "1              119.66  \n",
       "2              649.91  \n",
       "3              357.48  \n",
       "4               67.79  \n",
       "...               ...  \n",
       "39712           80.90  \n",
       "39713          281.94  \n",
       "39714            0.00  \n",
       "39715            0.00  \n",
       "39716          256.59  \n",
       "\n",
       "[38592 rows x 35 columns]"
      ]
     },
     "execution_count": 311,
     "metadata": {},
     "output_type": "execute_result"
    }
   ],
   "source": [
    "loan_df = loan_df.loc[loan_df['revol_util'].notna()]\n",
    "loan_df"
   ]
  },
  {
   "cell_type": "markdown",
   "id": "ca7e32cd",
   "metadata": {},
   "source": [
    "# ลักษณะของข้อมูลหลังทำการ cleaning"
   ]
  },
  {
   "cell_type": "code",
   "execution_count": 312,
   "id": "3469193d",
   "metadata": {
    "scrolled": false
   },
   "outputs": [
    {
     "data": {
      "text/html": [
       "<div>\n",
       "<style scoped>\n",
       "    .dataframe tbody tr th:only-of-type {\n",
       "        vertical-align: middle;\n",
       "    }\n",
       "\n",
       "    .dataframe tbody tr th {\n",
       "        vertical-align: top;\n",
       "    }\n",
       "\n",
       "    .dataframe thead th {\n",
       "        text-align: right;\n",
       "    }\n",
       "</style>\n",
       "<table border=\"1\" class=\"dataframe\">\n",
       "  <thead>\n",
       "    <tr style=\"text-align: right;\">\n",
       "      <th></th>\n",
       "      <th>member_id</th>\n",
       "      <th>loan_amnt</th>\n",
       "      <th>funded_amnt</th>\n",
       "      <th>funded_amnt_inv</th>\n",
       "      <th>term</th>\n",
       "      <th>int_rate</th>\n",
       "      <th>installment</th>\n",
       "      <th>grade</th>\n",
       "      <th>sub_grade</th>\n",
       "      <th>emp_title</th>\n",
       "      <th>...</th>\n",
       "      <th>revol_util</th>\n",
       "      <th>total_acc</th>\n",
       "      <th>total_pymnt</th>\n",
       "      <th>total_pymnt_inv</th>\n",
       "      <th>total_rec_prncp</th>\n",
       "      <th>total_rec_int</th>\n",
       "      <th>total_rec_late_fee</th>\n",
       "      <th>recoveries</th>\n",
       "      <th>collection_recovery_fee</th>\n",
       "      <th>last_pymnt_amnt</th>\n",
       "    </tr>\n",
       "  </thead>\n",
       "  <tbody>\n",
       "    <tr>\n",
       "      <th>0</th>\n",
       "      <td>1296599</td>\n",
       "      <td>5000</td>\n",
       "      <td>5000</td>\n",
       "      <td>4975.0</td>\n",
       "      <td>36 months</td>\n",
       "      <td>10.65</td>\n",
       "      <td>162.87</td>\n",
       "      <td>B</td>\n",
       "      <td>B2</td>\n",
       "      <td>unknown</td>\n",
       "      <td>...</td>\n",
       "      <td>83.7</td>\n",
       "      <td>9</td>\n",
       "      <td>5863.155187</td>\n",
       "      <td>5833.84</td>\n",
       "      <td>5000.00</td>\n",
       "      <td>863.16</td>\n",
       "      <td>0.00</td>\n",
       "      <td>0.00</td>\n",
       "      <td>0.00</td>\n",
       "      <td>171.62</td>\n",
       "    </tr>\n",
       "    <tr>\n",
       "      <th>1</th>\n",
       "      <td>1314167</td>\n",
       "      <td>2500</td>\n",
       "      <td>2500</td>\n",
       "      <td>2500.0</td>\n",
       "      <td>60 months</td>\n",
       "      <td>15.27</td>\n",
       "      <td>59.83</td>\n",
       "      <td>C</td>\n",
       "      <td>C4</td>\n",
       "      <td>Ryder</td>\n",
       "      <td>...</td>\n",
       "      <td>9.4</td>\n",
       "      <td>4</td>\n",
       "      <td>1008.710000</td>\n",
       "      <td>1008.71</td>\n",
       "      <td>456.46</td>\n",
       "      <td>435.17</td>\n",
       "      <td>0.00</td>\n",
       "      <td>117.08</td>\n",
       "      <td>1.11</td>\n",
       "      <td>119.66</td>\n",
       "    </tr>\n",
       "    <tr>\n",
       "      <th>2</th>\n",
       "      <td>1313524</td>\n",
       "      <td>2400</td>\n",
       "      <td>2400</td>\n",
       "      <td>2400.0</td>\n",
       "      <td>36 months</td>\n",
       "      <td>15.96</td>\n",
       "      <td>84.33</td>\n",
       "      <td>C</td>\n",
       "      <td>C5</td>\n",
       "      <td>unknown</td>\n",
       "      <td>...</td>\n",
       "      <td>98.5</td>\n",
       "      <td>10</td>\n",
       "      <td>3005.666844</td>\n",
       "      <td>3005.67</td>\n",
       "      <td>2400.00</td>\n",
       "      <td>605.67</td>\n",
       "      <td>0.00</td>\n",
       "      <td>0.00</td>\n",
       "      <td>0.00</td>\n",
       "      <td>649.91</td>\n",
       "    </tr>\n",
       "    <tr>\n",
       "      <th>3</th>\n",
       "      <td>1277178</td>\n",
       "      <td>10000</td>\n",
       "      <td>10000</td>\n",
       "      <td>10000.0</td>\n",
       "      <td>36 months</td>\n",
       "      <td>13.49</td>\n",
       "      <td>339.31</td>\n",
       "      <td>C</td>\n",
       "      <td>C1</td>\n",
       "      <td>AIR RESOURCES BOARD</td>\n",
       "      <td>...</td>\n",
       "      <td>21.0</td>\n",
       "      <td>37</td>\n",
       "      <td>12231.890000</td>\n",
       "      <td>12231.89</td>\n",
       "      <td>10000.00</td>\n",
       "      <td>2214.92</td>\n",
       "      <td>16.97</td>\n",
       "      <td>0.00</td>\n",
       "      <td>0.00</td>\n",
       "      <td>357.48</td>\n",
       "    </tr>\n",
       "    <tr>\n",
       "      <th>4</th>\n",
       "      <td>1311748</td>\n",
       "      <td>3000</td>\n",
       "      <td>3000</td>\n",
       "      <td>3000.0</td>\n",
       "      <td>60 months</td>\n",
       "      <td>12.69</td>\n",
       "      <td>67.79</td>\n",
       "      <td>B</td>\n",
       "      <td>B5</td>\n",
       "      <td>University Medical Group</td>\n",
       "      <td>...</td>\n",
       "      <td>53.9</td>\n",
       "      <td>38</td>\n",
       "      <td>3513.330000</td>\n",
       "      <td>3513.33</td>\n",
       "      <td>2475.94</td>\n",
       "      <td>1037.39</td>\n",
       "      <td>0.00</td>\n",
       "      <td>0.00</td>\n",
       "      <td>0.00</td>\n",
       "      <td>67.79</td>\n",
       "    </tr>\n",
       "    <tr>\n",
       "      <th>...</th>\n",
       "      <td>...</td>\n",
       "      <td>...</td>\n",
       "      <td>...</td>\n",
       "      <td>...</td>\n",
       "      <td>...</td>\n",
       "      <td>...</td>\n",
       "      <td>...</td>\n",
       "      <td>...</td>\n",
       "      <td>...</td>\n",
       "      <td>...</td>\n",
       "      <td>...</td>\n",
       "      <td>...</td>\n",
       "      <td>...</td>\n",
       "      <td>...</td>\n",
       "      <td>...</td>\n",
       "      <td>...</td>\n",
       "      <td>...</td>\n",
       "      <td>...</td>\n",
       "      <td>...</td>\n",
       "      <td>...</td>\n",
       "      <td>...</td>\n",
       "    </tr>\n",
       "    <tr>\n",
       "      <th>39712</th>\n",
       "      <td>92174</td>\n",
       "      <td>2500</td>\n",
       "      <td>2500</td>\n",
       "      <td>1075.0</td>\n",
       "      <td>36 months</td>\n",
       "      <td>8.07</td>\n",
       "      <td>78.42</td>\n",
       "      <td>A</td>\n",
       "      <td>A4</td>\n",
       "      <td>FiSite Research</td>\n",
       "      <td>...</td>\n",
       "      <td>13.1</td>\n",
       "      <td>40</td>\n",
       "      <td>2822.969293</td>\n",
       "      <td>1213.88</td>\n",
       "      <td>2500.00</td>\n",
       "      <td>322.97</td>\n",
       "      <td>0.00</td>\n",
       "      <td>0.00</td>\n",
       "      <td>0.00</td>\n",
       "      <td>80.90</td>\n",
       "    </tr>\n",
       "    <tr>\n",
       "      <th>39713</th>\n",
       "      <td>90607</td>\n",
       "      <td>8500</td>\n",
       "      <td>8500</td>\n",
       "      <td>875.0</td>\n",
       "      <td>36 months</td>\n",
       "      <td>10.28</td>\n",
       "      <td>275.38</td>\n",
       "      <td>C</td>\n",
       "      <td>C1</td>\n",
       "      <td>Squarewave Solutions, Ltd.</td>\n",
       "      <td>...</td>\n",
       "      <td>26.9</td>\n",
       "      <td>9</td>\n",
       "      <td>9913.491822</td>\n",
       "      <td>1020.51</td>\n",
       "      <td>8500.00</td>\n",
       "      <td>1413.49</td>\n",
       "      <td>0.00</td>\n",
       "      <td>0.00</td>\n",
       "      <td>0.00</td>\n",
       "      <td>281.94</td>\n",
       "    </tr>\n",
       "    <tr>\n",
       "      <th>39714</th>\n",
       "      <td>90390</td>\n",
       "      <td>5000</td>\n",
       "      <td>5000</td>\n",
       "      <td>1325.0</td>\n",
       "      <td>36 months</td>\n",
       "      <td>8.07</td>\n",
       "      <td>156.84</td>\n",
       "      <td>A</td>\n",
       "      <td>A4</td>\n",
       "      <td>unknown</td>\n",
       "      <td>...</td>\n",
       "      <td>19.4</td>\n",
       "      <td>20</td>\n",
       "      <td>5272.161128</td>\n",
       "      <td>1397.12</td>\n",
       "      <td>5000.00</td>\n",
       "      <td>272.16</td>\n",
       "      <td>0.00</td>\n",
       "      <td>0.00</td>\n",
       "      <td>0.00</td>\n",
       "      <td>0.00</td>\n",
       "    </tr>\n",
       "    <tr>\n",
       "      <th>39715</th>\n",
       "      <td>89243</td>\n",
       "      <td>5000</td>\n",
       "      <td>5000</td>\n",
       "      <td>650.0</td>\n",
       "      <td>36 months</td>\n",
       "      <td>7.43</td>\n",
       "      <td>155.38</td>\n",
       "      <td>A</td>\n",
       "      <td>A2</td>\n",
       "      <td>unknown</td>\n",
       "      <td>...</td>\n",
       "      <td>0.7</td>\n",
       "      <td>26</td>\n",
       "      <td>5174.198551</td>\n",
       "      <td>672.66</td>\n",
       "      <td>5000.00</td>\n",
       "      <td>174.20</td>\n",
       "      <td>0.00</td>\n",
       "      <td>0.00</td>\n",
       "      <td>0.00</td>\n",
       "      <td>0.00</td>\n",
       "    </tr>\n",
       "    <tr>\n",
       "      <th>39716</th>\n",
       "      <td>86999</td>\n",
       "      <td>7500</td>\n",
       "      <td>7500</td>\n",
       "      <td>800.0</td>\n",
       "      <td>36 months</td>\n",
       "      <td>13.75</td>\n",
       "      <td>255.43</td>\n",
       "      <td>E</td>\n",
       "      <td>E2</td>\n",
       "      <td>Evergreen Center</td>\n",
       "      <td>...</td>\n",
       "      <td>51.5</td>\n",
       "      <td>8</td>\n",
       "      <td>9195.263334</td>\n",
       "      <td>980.83</td>\n",
       "      <td>7500.00</td>\n",
       "      <td>1695.26</td>\n",
       "      <td>0.00</td>\n",
       "      <td>0.00</td>\n",
       "      <td>0.00</td>\n",
       "      <td>256.59</td>\n",
       "    </tr>\n",
       "  </tbody>\n",
       "</table>\n",
       "<p>38592 rows × 35 columns</p>\n",
       "</div>"
      ],
      "text/plain": [
       "      member_id  loan_amnt  funded_amnt  funded_amnt_inv        term  \\\n",
       "0       1296599       5000         5000           4975.0   36 months   \n",
       "1       1314167       2500         2500           2500.0   60 months   \n",
       "2       1313524       2400         2400           2400.0   36 months   \n",
       "3       1277178      10000        10000          10000.0   36 months   \n",
       "4       1311748       3000         3000           3000.0   60 months   \n",
       "...         ...        ...          ...              ...         ...   \n",
       "39712     92174       2500         2500           1075.0   36 months   \n",
       "39713     90607       8500         8500            875.0   36 months   \n",
       "39714     90390       5000         5000           1325.0   36 months   \n",
       "39715     89243       5000         5000            650.0   36 months   \n",
       "39716     86999       7500         7500            800.0   36 months   \n",
       "\n",
       "       int_rate  installment grade sub_grade                   emp_title  ...  \\\n",
       "0         10.65       162.87     B        B2                     unknown  ...   \n",
       "1         15.27        59.83     C        C4                       Ryder  ...   \n",
       "2         15.96        84.33     C        C5                     unknown  ...   \n",
       "3         13.49       339.31     C        C1         AIR RESOURCES BOARD  ...   \n",
       "4         12.69        67.79     B        B5    University Medical Group  ...   \n",
       "...         ...          ...   ...       ...                         ...  ...   \n",
       "39712      8.07        78.42     A        A4             FiSite Research  ...   \n",
       "39713     10.28       275.38     C        C1  Squarewave Solutions, Ltd.  ...   \n",
       "39714      8.07       156.84     A        A4                     unknown  ...   \n",
       "39715      7.43       155.38     A        A2                     unknown  ...   \n",
       "39716     13.75       255.43     E        E2            Evergreen Center  ...   \n",
       "\n",
       "      revol_util total_acc   total_pymnt total_pymnt_inv total_rec_prncp  \\\n",
       "0           83.7         9   5863.155187         5833.84         5000.00   \n",
       "1            9.4         4   1008.710000         1008.71          456.46   \n",
       "2           98.5        10   3005.666844         3005.67         2400.00   \n",
       "3           21.0        37  12231.890000        12231.89        10000.00   \n",
       "4           53.9        38   3513.330000         3513.33         2475.94   \n",
       "...          ...       ...           ...             ...             ...   \n",
       "39712       13.1        40   2822.969293         1213.88         2500.00   \n",
       "39713       26.9         9   9913.491822         1020.51         8500.00   \n",
       "39714       19.4        20   5272.161128         1397.12         5000.00   \n",
       "39715        0.7        26   5174.198551          672.66         5000.00   \n",
       "39716       51.5         8   9195.263334          980.83         7500.00   \n",
       "\n",
       "      total_rec_int total_rec_late_fee recoveries collection_recovery_fee  \\\n",
       "0            863.16               0.00       0.00                    0.00   \n",
       "1            435.17               0.00     117.08                    1.11   \n",
       "2            605.67               0.00       0.00                    0.00   \n",
       "3           2214.92              16.97       0.00                    0.00   \n",
       "4           1037.39               0.00       0.00                    0.00   \n",
       "...             ...                ...        ...                     ...   \n",
       "39712        322.97               0.00       0.00                    0.00   \n",
       "39713       1413.49               0.00       0.00                    0.00   \n",
       "39714        272.16               0.00       0.00                    0.00   \n",
       "39715        174.20               0.00       0.00                    0.00   \n",
       "39716       1695.26               0.00       0.00                    0.00   \n",
       "\n",
       "      last_pymnt_amnt  \n",
       "0              171.62  \n",
       "1              119.66  \n",
       "2              649.91  \n",
       "3              357.48  \n",
       "4               67.79  \n",
       "...               ...  \n",
       "39712           80.90  \n",
       "39713          281.94  \n",
       "39714            0.00  \n",
       "39715            0.00  \n",
       "39716          256.59  \n",
       "\n",
       "[38592 rows x 35 columns]"
      ]
     },
     "execution_count": 312,
     "metadata": {},
     "output_type": "execute_result"
    }
   ],
   "source": [
    "loan_df"
   ]
  },
  {
   "cell_type": "code",
   "execution_count": 313,
   "id": "c73516ec",
   "metadata": {
    "scrolled": false
   },
   "outputs": [
    {
     "name": "stdout",
     "output_type": "stream",
     "text": [
      "<class 'pandas.core.frame.DataFrame'>\n",
      "Int64Index: 38592 entries, 0 to 39716\n",
      "Data columns (total 35 columns):\n",
      " #   Column                   Non-Null Count  Dtype   \n",
      "---  ------                   --------------  -----   \n",
      " 0   member_id                38592 non-null  object  \n",
      " 1   loan_amnt                38592 non-null  int64   \n",
      " 2   funded_amnt              38592 non-null  int64   \n",
      " 3   funded_amnt_inv          38592 non-null  float64 \n",
      " 4   term                     38592 non-null  category\n",
      " 5   int_rate                 38592 non-null  float64 \n",
      " 6   installment              38592 non-null  float64 \n",
      " 7   grade                    38592 non-null  category\n",
      " 8   sub_grade                38592 non-null  category\n",
      " 9   emp_title                38592 non-null  object  \n",
      " 10  emp_length               38592 non-null  category\n",
      " 11  home_ownership           38592 non-null  category\n",
      " 12  annual_inc               38592 non-null  float64 \n",
      " 13  verification_status      38592 non-null  category\n",
      " 14  loan_status              38592 non-null  category\n",
      " 15  desc                     38592 non-null  object  \n",
      " 16  purpose                  38592 non-null  category\n",
      " 17  title                    38592 non-null  object  \n",
      " 18  zip_code                 38592 non-null  object  \n",
      " 19  addr_state               38592 non-null  object  \n",
      " 20  dti                      38592 non-null  float64 \n",
      " 21  inq_last_6mths           38592 non-null  int64   \n",
      " 22  open_acc                 38592 non-null  int64   \n",
      " 23  pub_rec                  38592 non-null  int64   \n",
      " 24  revol_bal                38592 non-null  int64   \n",
      " 25  revol_util               38592 non-null  float64 \n",
      " 26  total_acc                38592 non-null  int64   \n",
      " 27  total_pymnt              38592 non-null  float64 \n",
      " 28  total_pymnt_inv          38592 non-null  float64 \n",
      " 29  total_rec_prncp          38592 non-null  float64 \n",
      " 30  total_rec_int            38592 non-null  float64 \n",
      " 31  total_rec_late_fee       38592 non-null  float64 \n",
      " 32  recoveries               38592 non-null  float64 \n",
      " 33  collection_recovery_fee  38592 non-null  float64 \n",
      " 34  last_pymnt_amnt          38592 non-null  float64 \n",
      "dtypes: category(8), float64(14), int64(7), object(6)\n",
      "memory usage: 8.5+ MB\n"
     ]
    }
   ],
   "source": [
    "loan_df.info()"
   ]
  },
  {
   "cell_type": "markdown",
   "id": "37d83f79",
   "metadata": {},
   "source": [
    "# การวิเคราะห์ข้อมูลเชิงสำรวจเบื้องต้น"
   ]
  },
  {
   "cell_type": "markdown",
   "id": "fd7e6dee",
   "metadata": {},
   "source": [
    "### ข้อมูลเบื้องต้นของคอลัมน์ที่เป็นข้อมูลประเภทตัวเลข"
   ]
  },
  {
   "cell_type": "code",
   "execution_count": 314,
   "id": "dc9b5365",
   "metadata": {},
   "outputs": [
    {
     "data": {
      "text/html": [
       "<div>\n",
       "<style scoped>\n",
       "    .dataframe tbody tr th:only-of-type {\n",
       "        vertical-align: middle;\n",
       "    }\n",
       "\n",
       "    .dataframe tbody tr th {\n",
       "        vertical-align: top;\n",
       "    }\n",
       "\n",
       "    .dataframe thead th {\n",
       "        text-align: right;\n",
       "    }\n",
       "</style>\n",
       "<table border=\"1\" class=\"dataframe\">\n",
       "  <thead>\n",
       "    <tr style=\"text-align: right;\">\n",
       "      <th></th>\n",
       "      <th>loan_amnt</th>\n",
       "      <th>funded_amnt</th>\n",
       "      <th>funded_amnt_inv</th>\n",
       "      <th>int_rate</th>\n",
       "      <th>installment</th>\n",
       "      <th>annual_inc</th>\n",
       "      <th>dti</th>\n",
       "      <th>inq_last_6mths</th>\n",
       "      <th>open_acc</th>\n",
       "      <th>pub_rec</th>\n",
       "      <th>...</th>\n",
       "      <th>revol_util</th>\n",
       "      <th>total_acc</th>\n",
       "      <th>total_pymnt</th>\n",
       "      <th>total_pymnt_inv</th>\n",
       "      <th>total_rec_prncp</th>\n",
       "      <th>total_rec_int</th>\n",
       "      <th>total_rec_late_fee</th>\n",
       "      <th>recoveries</th>\n",
       "      <th>collection_recovery_fee</th>\n",
       "      <th>last_pymnt_amnt</th>\n",
       "    </tr>\n",
       "  </thead>\n",
       "  <tbody>\n",
       "    <tr>\n",
       "      <th>count</th>\n",
       "      <td>38592.000000</td>\n",
       "      <td>38592.000000</td>\n",
       "      <td>38592.000000</td>\n",
       "      <td>38592.000000</td>\n",
       "      <td>38592.000000</td>\n",
       "      <td>3.859200e+04</td>\n",
       "      <td>38592.000000</td>\n",
       "      <td>38592.000000</td>\n",
       "      <td>38592.000000</td>\n",
       "      <td>38592.000000</td>\n",
       "      <td>...</td>\n",
       "      <td>38592.000000</td>\n",
       "      <td>38592.000000</td>\n",
       "      <td>38592.000000</td>\n",
       "      <td>38592.000000</td>\n",
       "      <td>38592.000000</td>\n",
       "      <td>38592.000000</td>\n",
       "      <td>38592.000000</td>\n",
       "      <td>38592.000000</td>\n",
       "      <td>38592.000000</td>\n",
       "      <td>38592.000000</td>\n",
       "    </tr>\n",
       "    <tr>\n",
       "      <th>mean</th>\n",
       "      <td>11300.073202</td>\n",
       "      <td>11025.202762</td>\n",
       "      <td>10464.425234</td>\n",
       "      <td>12.048379</td>\n",
       "      <td>326.976776</td>\n",
       "      <td>6.963627e+04</td>\n",
       "      <td>13.329114</td>\n",
       "      <td>0.870154</td>\n",
       "      <td>9.323513</td>\n",
       "      <td>0.053379</td>\n",
       "      <td>...</td>\n",
       "      <td>49.001719</td>\n",
       "      <td>22.136660</td>\n",
       "      <td>12253.426013</td>\n",
       "      <td>11655.175668</td>\n",
       "      <td>9872.777624</td>\n",
       "      <td>2283.611081</td>\n",
       "      <td>1.371132</td>\n",
       "      <td>95.666259</td>\n",
       "      <td>12.431877</td>\n",
       "      <td>2705.067903</td>\n",
       "    </tr>\n",
       "    <tr>\n",
       "      <th>std</th>\n",
       "      <td>7462.031792</td>\n",
       "      <td>7192.891714</td>\n",
       "      <td>7139.219929</td>\n",
       "      <td>3.715956</td>\n",
       "      <td>209.149917</td>\n",
       "      <td>6.424914e+04</td>\n",
       "      <td>6.665703</td>\n",
       "      <td>1.070067</td>\n",
       "      <td>4.393818</td>\n",
       "      <td>0.234053</td>\n",
       "      <td>...</td>\n",
       "      <td>28.305646</td>\n",
       "      <td>11.389891</td>\n",
       "      <td>9056.941009</td>\n",
       "      <td>8961.895671</td>\n",
       "      <td>7076.051571</td>\n",
       "      <td>2616.516007</td>\n",
       "      <td>7.334396</td>\n",
       "      <td>694.841529</td>\n",
       "      <td>149.871078</td>\n",
       "      <td>4469.749636</td>\n",
       "    </tr>\n",
       "    <tr>\n",
       "      <th>min</th>\n",
       "      <td>500.000000</td>\n",
       "      <td>500.000000</td>\n",
       "      <td>0.000000</td>\n",
       "      <td>5.420000</td>\n",
       "      <td>15.690000</td>\n",
       "      <td>4.000000e+03</td>\n",
       "      <td>0.000000</td>\n",
       "      <td>0.000000</td>\n",
       "      <td>2.000000</td>\n",
       "      <td>0.000000</td>\n",
       "      <td>...</td>\n",
       "      <td>0.000000</td>\n",
       "      <td>2.000000</td>\n",
       "      <td>0.000000</td>\n",
       "      <td>0.000000</td>\n",
       "      <td>0.000000</td>\n",
       "      <td>0.000000</td>\n",
       "      <td>0.000000</td>\n",
       "      <td>0.000000</td>\n",
       "      <td>0.000000</td>\n",
       "      <td>0.000000</td>\n",
       "    </tr>\n",
       "    <tr>\n",
       "      <th>25%</th>\n",
       "      <td>5500.000000</td>\n",
       "      <td>5500.000000</td>\n",
       "      <td>5000.000000</td>\n",
       "      <td>9.320000</td>\n",
       "      <td>168.450000</td>\n",
       "      <td>4.150000e+04</td>\n",
       "      <td>8.210000</td>\n",
       "      <td>0.000000</td>\n",
       "      <td>6.000000</td>\n",
       "      <td>0.000000</td>\n",
       "      <td>...</td>\n",
       "      <td>25.675000</td>\n",
       "      <td>14.000000</td>\n",
       "      <td>5629.660599</td>\n",
       "      <td>5186.110000</td>\n",
       "      <td>4750.015000</td>\n",
       "      <td>672.380000</td>\n",
       "      <td>0.000000</td>\n",
       "      <td>0.000000</td>\n",
       "      <td>0.000000</td>\n",
       "      <td>222.452500</td>\n",
       "    </tr>\n",
       "    <tr>\n",
       "      <th>50%</th>\n",
       "      <td>10000.000000</td>\n",
       "      <td>9975.000000</td>\n",
       "      <td>9000.000000</td>\n",
       "      <td>11.860000</td>\n",
       "      <td>283.180000</td>\n",
       "      <td>6.000000e+04</td>\n",
       "      <td>13.420000</td>\n",
       "      <td>1.000000</td>\n",
       "      <td>9.000000</td>\n",
       "      <td>0.000000</td>\n",
       "      <td>...</td>\n",
       "      <td>49.500000</td>\n",
       "      <td>20.000000</td>\n",
       "      <td>10034.304590</td>\n",
       "      <td>9393.300000</td>\n",
       "      <td>8000.000000</td>\n",
       "      <td>1368.800000</td>\n",
       "      <td>0.000000</td>\n",
       "      <td>0.000000</td>\n",
       "      <td>0.000000</td>\n",
       "      <td>555.515000</td>\n",
       "    </tr>\n",
       "    <tr>\n",
       "      <th>75%</th>\n",
       "      <td>15000.000000</td>\n",
       "      <td>15000.000000</td>\n",
       "      <td>14441.556480</td>\n",
       "      <td>14.590000</td>\n",
       "      <td>434.750000</td>\n",
       "      <td>8.320000e+04</td>\n",
       "      <td>18.600000</td>\n",
       "      <td>1.000000</td>\n",
       "      <td>12.000000</td>\n",
       "      <td>0.000000</td>\n",
       "      <td>...</td>\n",
       "      <td>72.500000</td>\n",
       "      <td>29.000000</td>\n",
       "      <td>16651.696393</td>\n",
       "      <td>15923.945000</td>\n",
       "      <td>13921.992500</td>\n",
       "      <td>2861.120000</td>\n",
       "      <td>0.000000</td>\n",
       "      <td>0.000000</td>\n",
       "      <td>0.000000</td>\n",
       "      <td>3346.005000</td>\n",
       "    </tr>\n",
       "    <tr>\n",
       "      <th>max</th>\n",
       "      <td>35000.000000</td>\n",
       "      <td>35000.000000</td>\n",
       "      <td>35000.000000</td>\n",
       "      <td>24.590000</td>\n",
       "      <td>1305.190000</td>\n",
       "      <td>6.000000e+06</td>\n",
       "      <td>29.990000</td>\n",
       "      <td>8.000000</td>\n",
       "      <td>44.000000</td>\n",
       "      <td>4.000000</td>\n",
       "      <td>...</td>\n",
       "      <td>99.900000</td>\n",
       "      <td>90.000000</td>\n",
       "      <td>58563.679930</td>\n",
       "      <td>58563.680000</td>\n",
       "      <td>35000.020000</td>\n",
       "      <td>23563.680000</td>\n",
       "      <td>180.200000</td>\n",
       "      <td>29623.350000</td>\n",
       "      <td>7002.190000</td>\n",
       "      <td>36115.200000</td>\n",
       "    </tr>\n",
       "  </tbody>\n",
       "</table>\n",
       "<p>8 rows × 21 columns</p>\n",
       "</div>"
      ],
      "text/plain": [
       "          loan_amnt   funded_amnt  funded_amnt_inv      int_rate  \\\n",
       "count  38592.000000  38592.000000     38592.000000  38592.000000   \n",
       "mean   11300.073202  11025.202762     10464.425234     12.048379   \n",
       "std     7462.031792   7192.891714      7139.219929      3.715956   \n",
       "min      500.000000    500.000000         0.000000      5.420000   \n",
       "25%     5500.000000   5500.000000      5000.000000      9.320000   \n",
       "50%    10000.000000   9975.000000      9000.000000     11.860000   \n",
       "75%    15000.000000  15000.000000     14441.556480     14.590000   \n",
       "max    35000.000000  35000.000000     35000.000000     24.590000   \n",
       "\n",
       "        installment    annual_inc           dti  inq_last_6mths      open_acc  \\\n",
       "count  38592.000000  3.859200e+04  38592.000000    38592.000000  38592.000000   \n",
       "mean     326.976776  6.963627e+04     13.329114        0.870154      9.323513   \n",
       "std      209.149917  6.424914e+04      6.665703        1.070067      4.393818   \n",
       "min       15.690000  4.000000e+03      0.000000        0.000000      2.000000   \n",
       "25%      168.450000  4.150000e+04      8.210000        0.000000      6.000000   \n",
       "50%      283.180000  6.000000e+04     13.420000        1.000000      9.000000   \n",
       "75%      434.750000  8.320000e+04     18.600000        1.000000     12.000000   \n",
       "max     1305.190000  6.000000e+06     29.990000        8.000000     44.000000   \n",
       "\n",
       "            pub_rec  ...    revol_util     total_acc   total_pymnt  \\\n",
       "count  38592.000000  ...  38592.000000  38592.000000  38592.000000   \n",
       "mean       0.053379  ...     49.001719     22.136660  12253.426013   \n",
       "std        0.234053  ...     28.305646     11.389891   9056.941009   \n",
       "min        0.000000  ...      0.000000      2.000000      0.000000   \n",
       "25%        0.000000  ...     25.675000     14.000000   5629.660599   \n",
       "50%        0.000000  ...     49.500000     20.000000  10034.304590   \n",
       "75%        0.000000  ...     72.500000     29.000000  16651.696393   \n",
       "max        4.000000  ...     99.900000     90.000000  58563.679930   \n",
       "\n",
       "       total_pymnt_inv  total_rec_prncp  total_rec_int  total_rec_late_fee  \\\n",
       "count     38592.000000     38592.000000   38592.000000        38592.000000   \n",
       "mean      11655.175668      9872.777624    2283.611081            1.371132   \n",
       "std        8961.895671      7076.051571    2616.516007            7.334396   \n",
       "min           0.000000         0.000000       0.000000            0.000000   \n",
       "25%        5186.110000      4750.015000     672.380000            0.000000   \n",
       "50%        9393.300000      8000.000000    1368.800000            0.000000   \n",
       "75%       15923.945000     13921.992500    2861.120000            0.000000   \n",
       "max       58563.680000     35000.020000   23563.680000          180.200000   \n",
       "\n",
       "         recoveries  collection_recovery_fee  last_pymnt_amnt  \n",
       "count  38592.000000             38592.000000     38592.000000  \n",
       "mean      95.666259                12.431877      2705.067903  \n",
       "std      694.841529               149.871078      4469.749636  \n",
       "min        0.000000                 0.000000         0.000000  \n",
       "25%        0.000000                 0.000000       222.452500  \n",
       "50%        0.000000                 0.000000       555.515000  \n",
       "75%        0.000000                 0.000000      3346.005000  \n",
       "max    29623.350000              7002.190000     36115.200000  \n",
       "\n",
       "[8 rows x 21 columns]"
      ]
     },
     "execution_count": 314,
     "metadata": {},
     "output_type": "execute_result"
    }
   ],
   "source": [
    "loan_df.describe()"
   ]
  },
  {
   "cell_type": "markdown",
   "id": "b6003c0f",
   "metadata": {},
   "source": [
    "### เปรียบเทียบระยะเวลาจำนวนชำระเงินกู้"
   ]
  },
  {
   "cell_type": "code",
   "execution_count": 315,
   "id": "a7b4f3f7",
   "metadata": {},
   "outputs": [
    {
     "data": {
      "text/plain": [
       "<AxesSubplot:xlabel='term', ylabel='Count'>"
      ]
     },
     "execution_count": 315,
     "metadata": {},
     "output_type": "execute_result"
    },
    {
     "data": {
      "image/png": "[encoded data removed]",
      "text/plain": [
       "<Figure size 640x480 with 1 Axes>"
      ]
     },
     "metadata": {},
     "output_type": "display_data"
    }
   ],
   "source": [
    "sns.histplot(loan_df['term'])"
   ]
  },
  {
   "cell_type": "markdown",
   "id": "ee69f079",
   "metadata": {},
   "source": [
    "### อัตราดอกเบี้ยต่อจำนวนเงินที่ขอกู้"
   ]
  },
  {
   "cell_type": "code",
   "execution_count": 316,
   "id": "6a7d4989",
   "metadata": {
    "scrolled": false
   },
   "outputs": [
    {
     "data": {
      "text/plain": [
       "<AxesSubplot:xlabel='loan_amnt', ylabel='int_rate'>"
      ]
     },
     "execution_count": 316,
     "metadata": {},
     "output_type": "execute_result"
    },
    {
     "data": {
      "image/png": "[encoded data removed]",
      "text/plain": [
       "<Figure size 640x480 with 1 Axes>"
      ]
     },
     "metadata": {},
     "output_type": "display_data"
    }
   ],
   "source": [
    "sns.histplot(data=loan_df, x='loan_amnt', y='int_rate')"
   ]
  },
  {
   "cell_type": "markdown",
   "id": "f5f8bc0c",
   "metadata": {},
   "source": [
    "### ค่าเฉลี่ยของจำนวนเงินที่ผู้ยื่นกู้ขอ"
   ]
  },
  {
   "cell_type": "code",
   "execution_count": 317,
   "id": "8f98ac95",
   "metadata": {},
   "outputs": [
    {
     "data": {
      "text/plain": [
       "11300.073201699834"
      ]
     },
     "execution_count": 317,
     "metadata": {},
     "output_type": "execute_result"
    }
   ],
   "source": [
    "loan_df.loan_amnt.mean()"
   ]
  },
  {
   "cell_type": "code",
   "execution_count": 318,
   "id": "09c23494",
   "metadata": {},
   "outputs": [
    {
     "data": {
      "text/plain": [
       "<seaborn.axisgrid.FacetGrid at 0x17847c89820>"
      ]
     },
     "execution_count": 318,
     "metadata": {},
     "output_type": "execute_result"
    },
    {
     "data": {
      "image/png": "[encoded data removed]",
      "text/plain": [
       "<Figure size 500x500 with 1 Axes>"
      ]
     },
     "metadata": {},
     "output_type": "display_data"
    }
   ],
   "source": [
    "sns.displot(loan_df.loan_amnt)"
   ]
  },
  {
   "cell_type": "markdown",
   "id": "b5000c71",
   "metadata": {},
   "source": [
    "### หารายได้เฉลี่ยต่อปีของผู้กู้"
   ]
  },
  {
   "cell_type": "code",
   "execution_count": 319,
   "id": "9035f0d9",
   "metadata": {},
   "outputs": [
    {
     "data": {
      "text/plain": [
       "69636.2680348259"
      ]
     },
     "execution_count": 319,
     "metadata": {},
     "output_type": "execute_result"
    }
   ],
   "source": [
    "loan_df.annual_inc.mean()"
   ]
  },
  {
   "cell_type": "code",
   "execution_count": 320,
   "id": "b573e72a",
   "metadata": {},
   "outputs": [
    {
     "data": {
      "text/plain": [
       "<AxesSubplot:xlabel='annual_inc', ylabel='Count'>"
      ]
     },
     "execution_count": 320,
     "metadata": {},
     "output_type": "execute_result"
    },
    {
     "data": {
      "image/png": "[encoded data removed]",
      "text/plain": [
       "<Figure size 640x480 with 1 Axes>"
      ]
     },
     "metadata": {},
     "output_type": "display_data"
    }
   ],
   "source": [
    "sns.histplot(data=loan_df, x=\"annual_inc\", bins=10)"
   ]
  },
  {
   "cell_type": "markdown",
   "id": "a2e5f0f8",
   "metadata": {},
   "source": [
    "### ลูกค้าส่วนใหญ่ทำงานที่ไหน"
   ]
  },
  {
   "cell_type": "code",
   "execution_count": 321,
   "id": "e05728bc",
   "metadata": {},
   "outputs": [
    {
     "data": {
      "text/html": [
       "<div>\n",
       "<style scoped>\n",
       "    .dataframe tbody tr th:only-of-type {\n",
       "        vertical-align: middle;\n",
       "    }\n",
       "\n",
       "    .dataframe tbody tr th {\n",
       "        vertical-align: top;\n",
       "    }\n",
       "\n",
       "    .dataframe thead th {\n",
       "        text-align: right;\n",
       "    }\n",
       "</style>\n",
       "<table border=\"1\" class=\"dataframe\">\n",
       "  <thead>\n",
       "    <tr style=\"text-align: right;\">\n",
       "      <th></th>\n",
       "      <th>count</th>\n",
       "    </tr>\n",
       "  </thead>\n",
       "  <tbody>\n",
       "    <tr>\n",
       "      <th>unknown</th>\n",
       "      <td>1437</td>\n",
       "    </tr>\n",
       "    <tr>\n",
       "      <th>US Army</th>\n",
       "      <td>134</td>\n",
       "    </tr>\n",
       "    <tr>\n",
       "      <th>Bank of America</th>\n",
       "      <td>109</td>\n",
       "    </tr>\n",
       "    <tr>\n",
       "      <th>IBM</th>\n",
       "      <td>66</td>\n",
       "    </tr>\n",
       "    <tr>\n",
       "      <th>AT&amp;T</th>\n",
       "      <td>59</td>\n",
       "    </tr>\n",
       "  </tbody>\n",
       "</table>\n",
       "</div>"
      ],
      "text/plain": [
       "                 count\n",
       "unknown           1437\n",
       "US Army            134\n",
       "Bank of America    109\n",
       "IBM                 66\n",
       "AT&T                59"
      ]
     },
     "execution_count": 321,
     "metadata": {},
     "output_type": "execute_result"
    }
   ],
   "source": [
    "new_Sample = loan_df\n",
    "new_Sample.emp_title.value_counts().to_frame().rename(columns={'emp_title':'count'}).head(5)"
   ]
  },
  {
   "cell_type": "markdown",
   "id": "cb5f790b",
   "metadata": {},
   "source": [
    "- จะสรุปได้ว่า\n",
    "    - ไม่ทราบข้อมูลของลูกค้าถึง 2453 คน\n",
    "    - ลูกค้าทำงานที่ US Army มากที่สุด \n",
    "    - ตามด้วย Bank of America\t109 คน IBM\t66 คน AT&T 59 คน"
   ]
  },
  {
   "cell_type": "markdown",
   "id": "b391781d",
   "metadata": {},
   "source": [
    "### ดูว่า คนที่มีบ้านเป็นคนตัวเองโดยไม่ได้เอาไปจำนอง (OWN) มีกี่คน แยกตามรัฐที่อยู่อาศัยและหมวดหมู่ที่ผู้กู้จัดเตรียมไว้สำหรับการขอสินเชื่อ"
   ]
  },
  {
   "cell_type": "code",
   "execution_count": 322,
   "id": "04788a8e",
   "metadata": {},
   "outputs": [],
   "source": [
    "choose_own = loan_df[loan_df.home_ownership == 'OWN']"
   ]
  },
  {
   "cell_type": "code",
   "execution_count": 323,
   "id": "e62d6fea",
   "metadata": {},
   "outputs": [],
   "source": [
    "pivot_graduate_OWN = choose_own.pivot_table(index='addr_state'\n",
    "                                                             ,columns= 'purpose'\n",
    "                                                             , values = 'home_ownership'\n",
    "                                                             , aggfunc = 'size')"
   ]
  },
  {
   "cell_type": "code",
   "execution_count": 324,
   "id": "4f5cf7ee",
   "metadata": {},
   "outputs": [
    {
     "data": {
      "text/plain": [
       "<seaborn.axisgrid.FacetGrid at 0x1784b9558b0>"
      ]
     },
     "execution_count": 324,
     "metadata": {},
     "output_type": "execute_result"
    },
    {
     "data": {
      "image/png": "[encoded data removed]",
      "text/plain": [
       "<Figure size 689.5x500 with 1 Axes>"
      ]
     },
     "metadata": {},
     "output_type": "display_data"
    }
   ],
   "source": [
    "sns.relplot(data = pivot_graduate_OWN)"
   ]
  },
  {
   "cell_type": "markdown",
   "id": "cecc907b",
   "metadata": {},
   "source": [
    "- จะสรุปได้ว่า คนที่มีบ้านเป็นคนตัวเองโดยไม่ได้เอาไปจำนอง ในแต่ละเมือง กู้ไปใช้จ่ายกับ การรวมหนี้หรือกู้เงินไปใช้หนี้อีกที่หนึ่ง มากกว่าหมวดอื่นๆ"
   ]
  },
  {
   "cell_type": "markdown",
   "id": "0500352b",
   "metadata": {},
   "source": [
    "### จับกลุ่มตามเกรดของสินเชื่อ, ระยะเวลาที่ผู้กู้ทำงาน, สถานะปัจจุบันของเงินกู้ เพื่อหาค่าเฉลี่ยของรายได้ประจำปี"
   ]
  },
  {
   "cell_type": "code",
   "execution_count": 325,
   "id": "fcaa155e",
   "metadata": {},
   "outputs": [
    {
     "data": {
      "text/plain": [
       "grade\n",
       "A    67520.635345\n",
       "B    68288.204941\n",
       "C    68512.960104\n",
       "D    69051.077546\n",
       "E    78380.973042\n",
       "F    85161.482254\n",
       "G    94940.809936\n",
       "Name: annual_inc, dtype: float64"
      ]
     },
     "execution_count": 325,
     "metadata": {},
     "output_type": "execute_result"
    }
   ],
   "source": [
    "loan_df.groupby('grade').annual_inc.mean().sort_values()"
   ]
  },
  {
   "cell_type": "markdown",
   "id": "b18c8aaf",
   "metadata": {},
   "source": [
    "- สรุปได้ว่า`เกรด G `มีค่าเฉลี่ยเงินของเงินเดือนมากที่สุด\n"
   ]
  },
  {
   "cell_type": "code",
   "execution_count": 326,
   "id": "f8af4224",
   "metadata": {},
   "outputs": [
    {
     "data": {
      "text/plain": [
       "emp_length\n",
       "< 1 year     60936.338054\n",
       "1 year       62711.925665\n",
       "2 years      63281.446888\n",
       "4 years      66521.625238\n",
       "3 years      66834.736744\n",
       "6 years      68225.753311\n",
       "5 years      68258.869707\n",
       "7 years      69197.128181\n",
       "9 years      74474.429205\n",
       "8 years      74566.897048\n",
       "10+ years    81711.006815\n",
       "Name: annual_inc, dtype: float64"
      ]
     },
     "execution_count": 326,
     "metadata": {},
     "output_type": "execute_result"
    }
   ],
   "source": [
    "loan_df.groupby('emp_length').annual_inc.mean().sort_values()"
   ]
  },
  {
   "cell_type": "markdown",
   "id": "58f89e92",
   "metadata": {},
   "source": [
    "- สรุปได้ว่า`ประสบการณ์การทำงานมากกว่า10ปี`มีค่าเฉลี่ยเงินของเงินเดือนมากที่สุด"
   ]
  },
  {
   "cell_type": "code",
   "execution_count": 327,
   "id": "b4169b98",
   "metadata": {},
   "outputs": [
    {
     "data": {
      "text/plain": [
       "loan_status\n",
       "Charged Off    63414.998464\n",
       "Fully Paid     70445.122280\n",
       "Current        76487.821366\n",
       "Name: annual_inc, dtype: float64"
      ]
     },
     "execution_count": 327,
     "metadata": {},
     "output_type": "execute_result"
    }
   ],
   "source": [
    "loan_df.groupby('loan_status').annual_inc.mean().sort_values()"
   ]
  },
  {
   "cell_type": "markdown",
   "id": "b8b7ffa0",
   "metadata": {},
   "source": [
    "- สรุปได้ว่า`ลูกค้่าที่มีสถานะยังค้างชำระเงินกู้`มีค่าเฉลี่ยเงินของเงินเดือนมากที่สุด"
   ]
  },
  {
   "cell_type": "markdown",
   "id": "985a0a17",
   "metadata": {},
   "source": [
    "### ลูกค้าที่จ่ายดอกเบี้ยมากที่สุดให้กับเราเป็นใคร จ่ายไปเท่าใด และกู้เงินต้นไปเท่าใด"
   ]
  },
  {
   "cell_type": "code",
   "execution_count": 328,
   "id": "3a39788a",
   "metadata": {},
   "outputs": [
    {
     "data": {
      "text/plain": [
       "35000"
      ]
     },
     "execution_count": 328,
     "metadata": {},
     "output_type": "execute_result"
    }
   ],
   "source": [
    "loan_df['funded_amnt'].max()"
   ]
  },
  {
   "cell_type": "code",
   "execution_count": 329,
   "id": "f1d51630",
   "metadata": {},
   "outputs": [
    {
     "data": {
      "text/plain": [
       "24.59"
      ]
     },
     "execution_count": 329,
     "metadata": {},
     "output_type": "execute_result"
    }
   ],
   "source": [
    "loan_df['int_rate'].max()"
   ]
  },
  {
   "cell_type": "code",
   "execution_count": 330,
   "id": "e0094d27",
   "metadata": {},
   "outputs": [
    {
     "name": "stderr",
     "output_type": "stream",
     "text": [
      "C:\\Users\\hp\\AppData\\Local\\Temp\\ipykernel_4448\\4001536436.py:1: SettingWithCopyWarning: \n",
      "A value is trying to be set on a copy of a slice from a DataFrame.\n",
      "Try using .loc[row_indexer,col_indexer] = value instead\n",
      "\n",
      "See the caveats in the documentation: https://pandas.pydata.org/pandas-docs/stable/user_guide/indexing.html#returning-a-view-versus-a-copy\n",
      "  loan_df['max_intrate'] = (loan_df.funded_amnt * loan_df.int_rate)/100\n"
     ]
    },
    {
     "data": {
      "text/plain": [
       "8368.5"
      ]
     },
     "execution_count": 330,
     "metadata": {},
     "output_type": "execute_result"
    }
   ],
   "source": [
    "loan_df['max_intrate'] = (loan_df.funded_amnt * loan_df.int_rate)/100\n",
    "loan_df['max_intrate'].max()"
   ]
  },
  {
   "cell_type": "code",
   "execution_count": 331,
   "id": "2f131506",
   "metadata": {},
   "outputs": [
    {
     "data": {
      "text/html": [
       "<div>\n",
       "<style scoped>\n",
       "    .dataframe tbody tr th:only-of-type {\n",
       "        vertical-align: middle;\n",
       "    }\n",
       "\n",
       "    .dataframe tbody tr th {\n",
       "        vertical-align: top;\n",
       "    }\n",
       "\n",
       "    .dataframe thead th {\n",
       "        text-align: right;\n",
       "    }\n",
       "</style>\n",
       "<table border=\"1\" class=\"dataframe\">\n",
       "  <thead>\n",
       "    <tr style=\"text-align: right;\">\n",
       "      <th></th>\n",
       "      <th>funded_amnt</th>\n",
       "      <th>member_id</th>\n",
       "    </tr>\n",
       "    <tr>\n",
       "      <th>max_intrate</th>\n",
       "      <th></th>\n",
       "      <th></th>\n",
       "    </tr>\n",
       "  </thead>\n",
       "  <tbody>\n",
       "    <tr>\n",
       "      <th>8368.5</th>\n",
       "      <td>35000</td>\n",
       "      <td>1263639</td>\n",
       "    </tr>\n",
       "  </tbody>\n",
       "</table>\n",
       "</div>"
      ],
      "text/plain": [
       "             funded_amnt member_id\n",
       "max_intrate                       \n",
       "8368.5             35000   1263639"
      ]
     },
     "execution_count": 331,
     "metadata": {},
     "output_type": "execute_result"
    }
   ],
   "source": [
    "loan_dfmaxintrate = loan_df[ (loan_df.max_intrate == 8368.5)]\n",
    "loan_dfmaxintrate= loan_dfmaxintrate.set_index('max_intrate')\n",
    "loan_dfmaxintrate.loc[ [8368.5] , ['funded_amnt','member_id'] ]"
   ]
  },
  {
   "cell_type": "markdown",
   "id": "93d79863",
   "metadata": {},
   "source": [
    "- สรุปได้ว่า สมาชิกหมายเลข 1263639 กู้เงินไปทั้งหมด 35000 และต้องจ่ายดอกเบี้ยทั้งหมด 8368.5"
   ]
  },
  {
   "cell_type": "markdown",
   "id": "738ecd82",
   "metadata": {},
   "source": [
    "### ลูกค้าที่โดนบริษัททวงเงินบ่อยที่สุดเป็นจำนวนกี่ครั้งและกู้ไปเท่าไหร่ เอาไปทำอะไร"
   ]
  },
  {
   "cell_type": "code",
   "execution_count": 332,
   "id": "3e1db749",
   "metadata": {},
   "outputs": [
    {
     "data": {
      "text/html": [
       "<div>\n",
       "<style scoped>\n",
       "    .dataframe tbody tr th:only-of-type {\n",
       "        vertical-align: middle;\n",
       "    }\n",
       "\n",
       "    .dataframe tbody tr th {\n",
       "        vertical-align: top;\n",
       "    }\n",
       "\n",
       "    .dataframe thead th {\n",
       "        text-align: right;\n",
       "    }\n",
       "</style>\n",
       "<table border=\"1\" class=\"dataframe\">\n",
       "  <thead>\n",
       "    <tr style=\"text-align: right;\">\n",
       "      <th></th>\n",
       "      <th>inq_last_6mths</th>\n",
       "      <th>funded_amnt</th>\n",
       "      <th>purpose</th>\n",
       "    </tr>\n",
       "  </thead>\n",
       "  <tbody>\n",
       "    <tr>\n",
       "      <th>19936</th>\n",
       "      <td>8</td>\n",
       "      <td>5200</td>\n",
       "      <td>car</td>\n",
       "    </tr>\n",
       "    <tr>\n",
       "      <th>20304</th>\n",
       "      <td>8</td>\n",
       "      <td>13800</td>\n",
       "      <td>car</td>\n",
       "    </tr>\n",
       "    <tr>\n",
       "      <th>38474</th>\n",
       "      <td>8</td>\n",
       "      <td>5000</td>\n",
       "      <td>credit_card</td>\n",
       "    </tr>\n",
       "    <tr>\n",
       "      <th>2567</th>\n",
       "      <td>8</td>\n",
       "      <td>14000</td>\n",
       "      <td>debt_consolidation</td>\n",
       "    </tr>\n",
       "    <tr>\n",
       "      <th>14387</th>\n",
       "      <td>8</td>\n",
       "      <td>25250</td>\n",
       "      <td>debt_consolidation</td>\n",
       "    </tr>\n",
       "    <tr>\n",
       "      <th>35850</th>\n",
       "      <td>8</td>\n",
       "      <td>4000</td>\n",
       "      <td>educational</td>\n",
       "    </tr>\n",
       "    <tr>\n",
       "      <th>13794</th>\n",
       "      <td>8</td>\n",
       "      <td>25000</td>\n",
       "      <td>home_improvement</td>\n",
       "    </tr>\n",
       "    <tr>\n",
       "      <th>18361</th>\n",
       "      <td>8</td>\n",
       "      <td>14000</td>\n",
       "      <td>home_improvement</td>\n",
       "    </tr>\n",
       "    <tr>\n",
       "      <th>25443</th>\n",
       "      <td>8</td>\n",
       "      <td>12000</td>\n",
       "      <td>home_improvement</td>\n",
       "    </tr>\n",
       "    <tr>\n",
       "      <th>28729</th>\n",
       "      <td>8</td>\n",
       "      <td>5000</td>\n",
       "      <td>home_improvement</td>\n",
       "    </tr>\n",
       "    <tr>\n",
       "      <th>39215</th>\n",
       "      <td>8</td>\n",
       "      <td>20000</td>\n",
       "      <td>medical</td>\n",
       "    </tr>\n",
       "    <tr>\n",
       "      <th>7270</th>\n",
       "      <td>8</td>\n",
       "      <td>2000</td>\n",
       "      <td>other</td>\n",
       "    </tr>\n",
       "    <tr>\n",
       "      <th>13504</th>\n",
       "      <td>8</td>\n",
       "      <td>19100</td>\n",
       "      <td>other</td>\n",
       "    </tr>\n",
       "    <tr>\n",
       "      <th>18273</th>\n",
       "      <td>8</td>\n",
       "      <td>15000</td>\n",
       "      <td>small_business</td>\n",
       "    </tr>\n",
       "    <tr>\n",
       "      <th>39149</th>\n",
       "      <td>8</td>\n",
       "      <td>25000</td>\n",
       "      <td>small_business</td>\n",
       "    </tr>\n",
       "  </tbody>\n",
       "</table>\n",
       "</div>"
      ],
      "text/plain": [
       "       inq_last_6mths  funded_amnt             purpose\n",
       "19936               8         5200                 car\n",
       "20304               8        13800                 car\n",
       "38474               8         5000         credit_card\n",
       "2567                8        14000  debt_consolidation\n",
       "14387               8        25250  debt_consolidation\n",
       "35850               8         4000         educational\n",
       "13794               8        25000    home_improvement\n",
       "18361               8        14000    home_improvement\n",
       "25443               8        12000    home_improvement\n",
       "28729               8         5000    home_improvement\n",
       "39215               8        20000             medical\n",
       "7270                8         2000               other\n",
       "13504               8        19100               other\n",
       "18273               8        15000      small_business\n",
       "39149               8        25000      small_business"
      ]
     },
     "execution_count": 332,
     "metadata": {},
     "output_type": "execute_result"
    }
   ],
   "source": [
    "inqMax = loan_df[loan_df.inq_last_6mths.max() == loan_df.inq_last_6mths]\n",
    "# inqMax.loc[:,['inq_last_6mths','funded_amnt']]\n",
    "inqMax.loc[:,['inq_last_6mths','funded_amnt','purpose']].sort_values(by=['purpose'])"
   ]
  },
  {
   "cell_type": "markdown",
   "id": "d49f4c6b",
   "metadata": {},
   "source": [
    "- ลูกค้าที่โดนบริษัททวงเงินบ่อยที่สุดเป็นจำนวน 8 ครั้ง ส่วนใหญ่เอาไปปรับปรุงบ้าน"
   ]
  },
  {
   "cell_type": "markdown",
   "id": "d36400e4",
   "metadata": {},
   "source": [
    "### ลูกค้าในรัฐใดที่มีอัตราการใช้เงินกู้น้อยที่สุดเมื่อเทียบกับวงเงินที่ได้รับ"
   ]
  },
  {
   "cell_type": "code",
   "execution_count": 333,
   "id": "3472d5e8",
   "metadata": {},
   "outputs": [
    {
     "data": {
      "text/plain": [
       "addr_state\n",
       "IA    25.2\n",
       "Name: revol_util, dtype: float64"
      ]
     },
     "execution_count": 333,
     "metadata": {},
     "output_type": "execute_result"
    }
   ],
   "source": [
    "loan_df.groupby('addr_state').mean()\n",
    "loan_df.loc[:,['funded_amnt','revol_bal','revol_util']]\n",
    "loan_df.groupby('addr_state').mean()[loan_df.groupby('addr_state').mean().loc[:,'revol_util'].min() == loan_df.groupby('addr_state').mean().loc[:,'revol_util']].loc[:,'revol_util']"
   ]
  },
  {
   "cell_type": "markdown",
   "id": "38cab551",
   "metadata": {},
   "source": [
    "- สรุปได้ว่ารัฐ ไอโอวา หรือ ตัวย่อ IA นั้นมีอัตราเฉลี่ยการใช้เงินกู้น้อยที่สุด"
   ]
  },
  {
   "cell_type": "markdown",
   "id": "bdcd483b",
   "metadata": {},
   "source": [
    "# การวิเคราะห์ข้อมูลเชิงลึก"
   ]
  },
  {
   "cell_type": "markdown",
   "id": "29f697ea",
   "metadata": {},
   "source": [
    "เนื่องจากแนวโน้มการผิดชำระหนี้เป็นสิ่งที่ธนาคารต้องคำถึงนึงในการที่จะปล่อยให้บุคคลทำการกู้ยืม จึงมีการสำรวจข้อมูลต่างๆเพื่อนำมาวิเคราะห์ถึงสาเหตุที่แท้จริงและอาจนำไปใช้ประโยชน์ในการทำนายว่าผู้กู้จะมีการผิดชำระหนี้ในอนาคตหรือไม่"
   ]
  },
  {
   "cell_type": "markdown",
   "id": "03c82b1f",
   "metadata": {},
   "source": [
    "### 1.อัตราส่วนของค่างวดต่อรายได้ต่อเดือนมีผลต่อการผิดชำระหนี้หรือไม่"
   ]
  },
  {
   "cell_type": "markdown",
   "id": "404549a4",
   "metadata": {},
   "source": [
    "การผิดชำระหนี้อาจมีปัจจัยมาจากจำนวนเงินทำที่การกู้ยืม, ค่างวดเงินผ่อน, รายได้ของผู้กู้, รายได้หรือที่มาของรายได้ที่เชื่อถือไม่ได้ ซึ่งสำรวจข้อมูลได้ดังนี้"
   ]
  },
  {
   "cell_type": "markdown",
   "id": "fa2281f0",
   "metadata": {},
   "source": [
    "    เลือกข้อมูลที่เกี่ยวข้องที่มีสถานะของการกู้ยืมเป็นผ่อนชำระครบจำนวนแล้วหรือผิดนัดการผ่อนชำระ"
   ]
  },
  {
   "cell_type": "code",
   "execution_count": 334,
   "id": "cf59f7b5",
   "metadata": {},
   "outputs": [
    {
     "data": {
      "text/html": [
       "<div>\n",
       "<style scoped>\n",
       "    .dataframe tbody tr th:only-of-type {\n",
       "        vertical-align: middle;\n",
       "    }\n",
       "\n",
       "    .dataframe tbody tr th {\n",
       "        vertical-align: top;\n",
       "    }\n",
       "\n",
       "    .dataframe thead th {\n",
       "        text-align: right;\n",
       "    }\n",
       "</style>\n",
       "<table border=\"1\" class=\"dataframe\">\n",
       "  <thead>\n",
       "    <tr style=\"text-align: right;\">\n",
       "      <th></th>\n",
       "      <th>member_id</th>\n",
       "      <th>loan_amnt</th>\n",
       "      <th>installment</th>\n",
       "      <th>annual_inc</th>\n",
       "      <th>verification_status</th>\n",
       "      <th>loan_status</th>\n",
       "    </tr>\n",
       "  </thead>\n",
       "  <tbody>\n",
       "    <tr>\n",
       "      <th>0</th>\n",
       "      <td>1296599</td>\n",
       "      <td>5000</td>\n",
       "      <td>162.87</td>\n",
       "      <td>24000.0</td>\n",
       "      <td>Verified</td>\n",
       "      <td>Fully Paid</td>\n",
       "    </tr>\n",
       "    <tr>\n",
       "      <th>1</th>\n",
       "      <td>1314167</td>\n",
       "      <td>2500</td>\n",
       "      <td>59.83</td>\n",
       "      <td>30000.0</td>\n",
       "      <td>Source Verified</td>\n",
       "      <td>Charged Off</td>\n",
       "    </tr>\n",
       "    <tr>\n",
       "      <th>2</th>\n",
       "      <td>1313524</td>\n",
       "      <td>2400</td>\n",
       "      <td>84.33</td>\n",
       "      <td>12252.0</td>\n",
       "      <td>Not Verified</td>\n",
       "      <td>Fully Paid</td>\n",
       "    </tr>\n",
       "    <tr>\n",
       "      <th>3</th>\n",
       "      <td>1277178</td>\n",
       "      <td>10000</td>\n",
       "      <td>339.31</td>\n",
       "      <td>49200.0</td>\n",
       "      <td>Source Verified</td>\n",
       "      <td>Fully Paid</td>\n",
       "    </tr>\n",
       "    <tr>\n",
       "      <th>5</th>\n",
       "      <td>1311441</td>\n",
       "      <td>5000</td>\n",
       "      <td>156.46</td>\n",
       "      <td>36000.0</td>\n",
       "      <td>Source Verified</td>\n",
       "      <td>Fully Paid</td>\n",
       "    </tr>\n",
       "    <tr>\n",
       "      <th>...</th>\n",
       "      <td>...</td>\n",
       "      <td>...</td>\n",
       "      <td>...</td>\n",
       "      <td>...</td>\n",
       "      <td>...</td>\n",
       "      <td>...</td>\n",
       "    </tr>\n",
       "    <tr>\n",
       "      <th>39712</th>\n",
       "      <td>92174</td>\n",
       "      <td>2500</td>\n",
       "      <td>78.42</td>\n",
       "      <td>110000.0</td>\n",
       "      <td>Not Verified</td>\n",
       "      <td>Fully Paid</td>\n",
       "    </tr>\n",
       "    <tr>\n",
       "      <th>39713</th>\n",
       "      <td>90607</td>\n",
       "      <td>8500</td>\n",
       "      <td>275.38</td>\n",
       "      <td>18000.0</td>\n",
       "      <td>Not Verified</td>\n",
       "      <td>Fully Paid</td>\n",
       "    </tr>\n",
       "    <tr>\n",
       "      <th>39714</th>\n",
       "      <td>90390</td>\n",
       "      <td>5000</td>\n",
       "      <td>156.84</td>\n",
       "      <td>100000.0</td>\n",
       "      <td>Not Verified</td>\n",
       "      <td>Fully Paid</td>\n",
       "    </tr>\n",
       "    <tr>\n",
       "      <th>39715</th>\n",
       "      <td>89243</td>\n",
       "      <td>5000</td>\n",
       "      <td>155.38</td>\n",
       "      <td>200000.0</td>\n",
       "      <td>Not Verified</td>\n",
       "      <td>Fully Paid</td>\n",
       "    </tr>\n",
       "    <tr>\n",
       "      <th>39716</th>\n",
       "      <td>86999</td>\n",
       "      <td>7500</td>\n",
       "      <td>255.43</td>\n",
       "      <td>22000.0</td>\n",
       "      <td>Not Verified</td>\n",
       "      <td>Fully Paid</td>\n",
       "    </tr>\n",
       "  </tbody>\n",
       "</table>\n",
       "<p>37494 rows × 6 columns</p>\n",
       "</div>"
      ],
      "text/plain": [
       "      member_id  loan_amnt  installment  annual_inc verification_status  \\\n",
       "0       1296599       5000       162.87     24000.0            Verified   \n",
       "1       1314167       2500        59.83     30000.0     Source Verified   \n",
       "2       1313524       2400        84.33     12252.0        Not Verified   \n",
       "3       1277178      10000       339.31     49200.0     Source Verified   \n",
       "5       1311441       5000       156.46     36000.0     Source Verified   \n",
       "...         ...        ...          ...         ...                 ...   \n",
       "39712     92174       2500        78.42    110000.0        Not Verified   \n",
       "39713     90607       8500       275.38     18000.0        Not Verified   \n",
       "39714     90390       5000       156.84    100000.0        Not Verified   \n",
       "39715     89243       5000       155.38    200000.0        Not Verified   \n",
       "39716     86999       7500       255.43     22000.0        Not Verified   \n",
       "\n",
       "       loan_status  \n",
       "0       Fully Paid  \n",
       "1      Charged Off  \n",
       "2       Fully Paid  \n",
       "3       Fully Paid  \n",
       "5       Fully Paid  \n",
       "...            ...  \n",
       "39712   Fully Paid  \n",
       "39713   Fully Paid  \n",
       "39714   Fully Paid  \n",
       "39715   Fully Paid  \n",
       "39716   Fully Paid  \n",
       "\n",
       "[37494 rows x 6 columns]"
      ]
     },
     "execution_count": 334,
     "metadata": {},
     "output_type": "execute_result"
    }
   ],
   "source": [
    "loan_df1 = loan_df[['member_id','loan_amnt', 'installment', 'annual_inc', 'verification_status', 'loan_status']]\n",
    "loan_df1 = loan_df1[loan_df1['loan_status'] != 'Current']\n",
    "loan_df1['loan_status'] = loan_df1['loan_status'].cat.remove_unused_categories()\n",
    "loan_df1"
   ]
  },
  {
   "cell_type": "markdown",
   "id": "ef3e3750",
   "metadata": {},
   "source": [
    "- ความสัมพันธ์ระหว่างสถานะการยืนยันรายได้กับการผิดชำระหนี้"
   ]
  },
  {
   "cell_type": "code",
   "execution_count": 335,
   "id": "a342f2e1",
   "metadata": {},
   "outputs": [
    {
     "data": {
      "text/html": [
       "<div>\n",
       "<style scoped>\n",
       "    .dataframe tbody tr th:only-of-type {\n",
       "        vertical-align: middle;\n",
       "    }\n",
       "\n",
       "    .dataframe tbody tr th {\n",
       "        vertical-align: top;\n",
       "    }\n",
       "\n",
       "    .dataframe thead th {\n",
       "        text-align: right;\n",
       "    }\n",
       "</style>\n",
       "<table border=\"1\" class=\"dataframe\">\n",
       "  <thead>\n",
       "    <tr style=\"text-align: right;\">\n",
       "      <th>loan_status</th>\n",
       "      <th>Charged Off</th>\n",
       "      <th>Fully Paid</th>\n",
       "      <th>Total</th>\n",
       "      <th>ChargedOff_Ratio</th>\n",
       "    </tr>\n",
       "    <tr>\n",
       "      <th>verification_status</th>\n",
       "      <th></th>\n",
       "      <th></th>\n",
       "      <th></th>\n",
       "      <th></th>\n",
       "    </tr>\n",
       "  </thead>\n",
       "  <tbody>\n",
       "    <tr>\n",
       "      <th>Not Verified</th>\n",
       "      <td>2042</td>\n",
       "      <td>14205</td>\n",
       "      <td>16247</td>\n",
       "      <td>0.125685</td>\n",
       "    </tr>\n",
       "    <tr>\n",
       "      <th>Source Verified</th>\n",
       "      <td>1393</td>\n",
       "      <td>8090</td>\n",
       "      <td>9483</td>\n",
       "      <td>0.146894</td>\n",
       "    </tr>\n",
       "    <tr>\n",
       "      <th>Verified</th>\n",
       "      <td>1949</td>\n",
       "      <td>9815</td>\n",
       "      <td>11764</td>\n",
       "      <td>0.165675</td>\n",
       "    </tr>\n",
       "  </tbody>\n",
       "</table>\n",
       "</div>"
      ],
      "text/plain": [
       "loan_status          Charged Off  Fully Paid  Total  ChargedOff_Ratio\n",
       "verification_status                                                  \n",
       "Not Verified                2042       14205  16247          0.125685\n",
       "Source Verified             1393        8090   9483          0.146894\n",
       "Verified                    1949        9815  11764          0.165675"
      ]
     },
     "execution_count": 335,
     "metadata": {},
     "output_type": "execute_result"
    }
   ],
   "source": [
    "verification_lstatus = loan_df1.pivot_table(columns='loan_status', index='verification_status', values='member_id', aggfunc='size')\n",
    "verification_lstatus['Total'] = verification_lstatus['Charged Off'] + verification_lstatus['Fully Paid']\n",
    "verification_lstatus['ChargedOff_Ratio'] = verification_lstatus['Charged Off'] / verification_lstatus['Total']\n",
    "verification_lstatus"
   ]
  },
  {
   "cell_type": "markdown",
   "id": "fadb74a2",
   "metadata": {},
   "source": [
    "ซึ่งจะเห็นว่าจำนวนการผิดชำระหนี้ไม่ได้แปรผลอย่างมีนัยยะสำคัญกับสถานะการยืนยันรายได้"
   ]
  },
  {
   "cell_type": "markdown",
   "id": "c749f833",
   "metadata": {},
   "source": [
    "- ความสัมพันธ์ระหว่างรายได้กับการผิดชำระหนี้"
   ]
  },
  {
   "cell_type": "code",
   "execution_count": 336,
   "id": "cedec62e",
   "metadata": {},
   "outputs": [
    {
     "data": {
      "text/html": [
       "<div>\n",
       "<style scoped>\n",
       "    .dataframe tbody tr th:only-of-type {\n",
       "        vertical-align: middle;\n",
       "    }\n",
       "\n",
       "    .dataframe tbody tr th {\n",
       "        vertical-align: top;\n",
       "    }\n",
       "\n",
       "    .dataframe thead th {\n",
       "        text-align: right;\n",
       "    }\n",
       "</style>\n",
       "<table border=\"1\" class=\"dataframe\">\n",
       "  <thead>\n",
       "    <tr style=\"text-align: right;\">\n",
       "      <th>loan_status</th>\n",
       "      <th>Charged Off</th>\n",
       "      <th>Fully Paid</th>\n",
       "      <th>Total</th>\n",
       "      <th>ChargedOff_Ratio</th>\n",
       "    </tr>\n",
       "    <tr>\n",
       "      <th>annual_inc</th>\n",
       "      <th></th>\n",
       "      <th></th>\n",
       "      <th></th>\n",
       "      <th></th>\n",
       "    </tr>\n",
       "  </thead>\n",
       "  <tbody>\n",
       "    <tr>\n",
       "      <th>4000.00</th>\n",
       "      <td>0</td>\n",
       "      <td>1</td>\n",
       "      <td>1</td>\n",
       "      <td>0.0</td>\n",
       "    </tr>\n",
       "    <tr>\n",
       "      <th>72136.00</th>\n",
       "      <td>0</td>\n",
       "      <td>1</td>\n",
       "      <td>1</td>\n",
       "      <td>0.0</td>\n",
       "    </tr>\n",
       "    <tr>\n",
       "      <th>72150.00</th>\n",
       "      <td>0</td>\n",
       "      <td>1</td>\n",
       "      <td>1</td>\n",
       "      <td>0.0</td>\n",
       "    </tr>\n",
       "    <tr>\n",
       "      <th>72174.00</th>\n",
       "      <td>0</td>\n",
       "      <td>1</td>\n",
       "      <td>1</td>\n",
       "      <td>0.0</td>\n",
       "    </tr>\n",
       "    <tr>\n",
       "      <th>72194.00</th>\n",
       "      <td>0</td>\n",
       "      <td>1</td>\n",
       "      <td>1</td>\n",
       "      <td>0.0</td>\n",
       "    </tr>\n",
       "    <tr>\n",
       "      <th>...</th>\n",
       "      <td>...</td>\n",
       "      <td>...</td>\n",
       "      <td>...</td>\n",
       "      <td>...</td>\n",
       "    </tr>\n",
       "    <tr>\n",
       "      <th>62910.00</th>\n",
       "      <td>1</td>\n",
       "      <td>0</td>\n",
       "      <td>1</td>\n",
       "      <td>1.0</td>\n",
       "    </tr>\n",
       "    <tr>\n",
       "      <th>104085.00</th>\n",
       "      <td>1</td>\n",
       "      <td>0</td>\n",
       "      <td>1</td>\n",
       "      <td>1.0</td>\n",
       "    </tr>\n",
       "    <tr>\n",
       "      <th>50001.56</th>\n",
       "      <td>1</td>\n",
       "      <td>0</td>\n",
       "      <td>1</td>\n",
       "      <td>1.0</td>\n",
       "    </tr>\n",
       "    <tr>\n",
       "      <th>31008.00</th>\n",
       "      <td>1</td>\n",
       "      <td>0</td>\n",
       "      <td>1</td>\n",
       "      <td>1.0</td>\n",
       "    </tr>\n",
       "    <tr>\n",
       "      <th>32100.00</th>\n",
       "      <td>1</td>\n",
       "      <td>0</td>\n",
       "      <td>1</td>\n",
       "      <td>1.0</td>\n",
       "    </tr>\n",
       "  </tbody>\n",
       "</table>\n",
       "<p>5001 rows × 4 columns</p>\n",
       "</div>"
      ],
      "text/plain": [
       "loan_status  Charged Off  Fully Paid  Total  ChargedOff_Ratio\n",
       "annual_inc                                                   \n",
       "4000.00                0           1      1               0.0\n",
       "72136.00               0           1      1               0.0\n",
       "72150.00               0           1      1               0.0\n",
       "72174.00               0           1      1               0.0\n",
       "72194.00               0           1      1               0.0\n",
       "...                  ...         ...    ...               ...\n",
       "62910.00               1           0      1               1.0\n",
       "104085.00              1           0      1               1.0\n",
       "50001.56               1           0      1               1.0\n",
       "31008.00               1           0      1               1.0\n",
       "32100.00               1           0      1               1.0\n",
       "\n",
       "[5001 rows x 4 columns]"
      ]
     },
     "execution_count": 336,
     "metadata": {},
     "output_type": "execute_result"
    }
   ],
   "source": [
    "inc_lstatus = loan_df1.pivot_table(columns='loan_status', index='annual_inc', values='member_id', aggfunc='size')\n",
    "inc_lstatus['Total'] = inc_lstatus['Charged Off'] + inc_lstatus['Fully Paid']\n",
    "inc_lstatus['ChargedOff_Ratio'] = inc_lstatus['Charged Off'] / inc_lstatus['Total']\n",
    "inc_lstatus.sort_values('ChargedOff_Ratio')"
   ]
  },
  {
   "cell_type": "code",
   "execution_count": 337,
   "id": "9f3c2d64",
   "metadata": {},
   "outputs": [
    {
     "data": {
      "text/plain": [
       "<seaborn.axisgrid.FacetGrid at 0x1784095c820>"
      ]
     },
     "execution_count": 337,
     "metadata": {},
     "output_type": "execute_result"
    },
    {
     "data": {
      "image/png": "[encoded data removed]",
      "text/plain": [
       "<Figure size 500x500 with 1 Axes>"
      ]
     },
     "metadata": {},
     "output_type": "display_data"
    }
   ],
   "source": [
    "sns.relplot(data=inc_lstatus, x='ChargedOff_Ratio', y='annual_inc')"
   ]
  },
  {
   "cell_type": "markdown",
   "id": "e603ed40",
   "metadata": {},
   "source": [
    "ซึ่งจะเห็นได้ว่าข้อมูลรายได้ที่มีอัตราการผิดชำระหนี้มากจะมีรายได้ไม่สูง แต่ข้อมูลที่มีรายได้ที่มีอัตราการผิดชำระหนี้ต่ำหรือเป็นศูนย์นั้นจะมีรายได้ที่สูง"
   ]
  },
  {
   "cell_type": "markdown",
   "id": "23da04d7",
   "metadata": {},
   "source": [
    "- ความสัมพันธ์ระหว่างค่างวดเงินผ่อนกับการผิดชำระหนี้"
   ]
  },
  {
   "cell_type": "code",
   "execution_count": 338,
   "id": "6143919c",
   "metadata": {},
   "outputs": [
    {
     "data": {
      "text/html": [
       "<div>\n",
       "<style scoped>\n",
       "    .dataframe tbody tr th:only-of-type {\n",
       "        vertical-align: middle;\n",
       "    }\n",
       "\n",
       "    .dataframe tbody tr th {\n",
       "        vertical-align: top;\n",
       "    }\n",
       "\n",
       "    .dataframe thead th {\n",
       "        text-align: right;\n",
       "    }\n",
       "</style>\n",
       "<table border=\"1\" class=\"dataframe\">\n",
       "  <thead>\n",
       "    <tr style=\"text-align: right;\">\n",
       "      <th>loan_status</th>\n",
       "      <th>Charged Off</th>\n",
       "      <th>Fully Paid</th>\n",
       "      <th>Total</th>\n",
       "      <th>ChargedOff_Ratio</th>\n",
       "    </tr>\n",
       "    <tr>\n",
       "      <th>installment</th>\n",
       "      <th></th>\n",
       "      <th></th>\n",
       "      <th></th>\n",
       "      <th></th>\n",
       "    </tr>\n",
       "  </thead>\n",
       "  <tbody>\n",
       "    <tr>\n",
       "      <th>15.69</th>\n",
       "      <td>0</td>\n",
       "      <td>1</td>\n",
       "      <td>1</td>\n",
       "      <td>0.0</td>\n",
       "    </tr>\n",
       "    <tr>\n",
       "      <th>354.10</th>\n",
       "      <td>0</td>\n",
       "      <td>1</td>\n",
       "      <td>1</td>\n",
       "      <td>0.0</td>\n",
       "    </tr>\n",
       "    <tr>\n",
       "      <th>354.21</th>\n",
       "      <td>0</td>\n",
       "      <td>1</td>\n",
       "      <td>1</td>\n",
       "      <td>0.0</td>\n",
       "    </tr>\n",
       "    <tr>\n",
       "      <th>354.32</th>\n",
       "      <td>0</td>\n",
       "      <td>1</td>\n",
       "      <td>1</td>\n",
       "      <td>0.0</td>\n",
       "    </tr>\n",
       "    <tr>\n",
       "      <th>354.35</th>\n",
       "      <td>0</td>\n",
       "      <td>2</td>\n",
       "      <td>2</td>\n",
       "      <td>0.0</td>\n",
       "    </tr>\n",
       "    <tr>\n",
       "      <th>...</th>\n",
       "      <td>...</td>\n",
       "      <td>...</td>\n",
       "      <td>...</td>\n",
       "      <td>...</td>\n",
       "    </tr>\n",
       "    <tr>\n",
       "      <th>480.04</th>\n",
       "      <td>1</td>\n",
       "      <td>0</td>\n",
       "      <td>1</td>\n",
       "      <td>1.0</td>\n",
       "    </tr>\n",
       "    <tr>\n",
       "      <th>270.04</th>\n",
       "      <td>1</td>\n",
       "      <td>0</td>\n",
       "      <td>1</td>\n",
       "      <td>1.0</td>\n",
       "    </tr>\n",
       "    <tr>\n",
       "      <th>661.30</th>\n",
       "      <td>1</td>\n",
       "      <td>0</td>\n",
       "      <td>1</td>\n",
       "      <td>1.0</td>\n",
       "    </tr>\n",
       "    <tr>\n",
       "      <th>122.90</th>\n",
       "      <td>2</td>\n",
       "      <td>0</td>\n",
       "      <td>2</td>\n",
       "      <td>1.0</td>\n",
       "    </tr>\n",
       "    <tr>\n",
       "      <th>1305.19</th>\n",
       "      <td>1</td>\n",
       "      <td>0</td>\n",
       "      <td>1</td>\n",
       "      <td>1.0</td>\n",
       "    </tr>\n",
       "  </tbody>\n",
       "</table>\n",
       "<p>14779 rows × 4 columns</p>\n",
       "</div>"
      ],
      "text/plain": [
       "loan_status  Charged Off  Fully Paid  Total  ChargedOff_Ratio\n",
       "installment                                                  \n",
       "15.69                  0           1      1               0.0\n",
       "354.10                 0           1      1               0.0\n",
       "354.21                 0           1      1               0.0\n",
       "354.32                 0           1      1               0.0\n",
       "354.35                 0           2      2               0.0\n",
       "...                  ...         ...    ...               ...\n",
       "480.04                 1           0      1               1.0\n",
       "270.04                 1           0      1               1.0\n",
       "661.30                 1           0      1               1.0\n",
       "122.90                 2           0      2               1.0\n",
       "1305.19                1           0      1               1.0\n",
       "\n",
       "[14779 rows x 4 columns]"
      ]
     },
     "execution_count": 338,
     "metadata": {},
     "output_type": "execute_result"
    }
   ],
   "source": [
    "installment_lstatus = loan_df1.pivot_table(columns='loan_status', index='installment', values='member_id', aggfunc='size')\n",
    "installment_lstatus['Total'] = installment_lstatus['Charged Off'] + installment_lstatus['Fully Paid']\n",
    "installment_lstatus['ChargedOff_Ratio'] = installment_lstatus['Charged Off'] / installment_lstatus['Total']\n",
    "installment_lstatus.sort_values('ChargedOff_Ratio')"
   ]
  },
  {
   "cell_type": "code",
   "execution_count": 339,
   "id": "90ad15ad",
   "metadata": {},
   "outputs": [
    {
     "data": {
      "text/plain": [
       "<seaborn.axisgrid.FacetGrid at 0x1784b950280>"
      ]
     },
     "execution_count": 339,
     "metadata": {},
     "output_type": "execute_result"
    },
    {
     "data": {
      "image/png": "[encoded data removed]",
      "text/plain": [
       "<Figure size 500x500 with 1 Axes>"
      ]
     },
     "metadata": {},
     "output_type": "display_data"
    }
   ],
   "source": [
    "sns.relplot(data=installment_lstatus, x='ChargedOff_Ratio', y='installment')"
   ]
  },
  {
   "cell_type": "markdown",
   "id": "0011f72c",
   "metadata": {},
   "source": [
    "ซึ่งจะเห็นได้ว่าข้อมูลค่างวดเงินผ่อนที่มีอัตราการผิดชำระหนี้มากจะมีค่างวดที่สูง แต่ข้อมูลที่มีรายได้ที่มีอัตราการผิดชำระหนี้ต่ำนั้นจะมีค่างวดที่ต่ำ"
   ]
  },
  {
   "cell_type": "markdown",
   "id": "c6d3a3ea",
   "metadata": {},
   "source": [
    "จากการสำรวจพบว่ารายได้และค่างวดส่งผลต่อการผิดชำระหนี้อย่างมีนัยยะสำคัญ จึงมีการตั้งสมมติฐานเกี่ยวกับข้อมูลว่าอัตราค่างวดเงินผ่อน(ต่อเดือน) ต่อรายได้(ต่อเดือน) นั้นมีผลต่อการผิดชำระหนี้ กล่าวคือเมื่ออัตราค่างวดต่อรายได้ของผู้กู้มีค่ามาก จะทำให้มีโอกาสผิดชำระหนี้"
   ]
  },
  {
   "cell_type": "code",
   "execution_count": 340,
   "id": "285b22f5",
   "metadata": {},
   "outputs": [
    {
     "data": {
      "text/html": [
       "<div>\n",
       "<style scoped>\n",
       "    .dataframe tbody tr th:only-of-type {\n",
       "        vertical-align: middle;\n",
       "    }\n",
       "\n",
       "    .dataframe tbody tr th {\n",
       "        vertical-align: top;\n",
       "    }\n",
       "\n",
       "    .dataframe thead th {\n",
       "        text-align: right;\n",
       "    }\n",
       "</style>\n",
       "<table border=\"1\" class=\"dataframe\">\n",
       "  <thead>\n",
       "    <tr style=\"text-align: right;\">\n",
       "      <th></th>\n",
       "      <th>member_id</th>\n",
       "      <th>loan_amnt</th>\n",
       "      <th>installment</th>\n",
       "      <th>annual_inc</th>\n",
       "      <th>verification_status</th>\n",
       "      <th>loan_status</th>\n",
       "      <th>monthly_inc</th>\n",
       "      <th>ins_inc_ratio</th>\n",
       "    </tr>\n",
       "  </thead>\n",
       "  <tbody>\n",
       "    <tr>\n",
       "      <th>0</th>\n",
       "      <td>1296599</td>\n",
       "      <td>5000</td>\n",
       "      <td>162.87</td>\n",
       "      <td>24000.0</td>\n",
       "      <td>Verified</td>\n",
       "      <td>Fully Paid</td>\n",
       "      <td>2000.000000</td>\n",
       "      <td>0.081435</td>\n",
       "    </tr>\n",
       "    <tr>\n",
       "      <th>1</th>\n",
       "      <td>1314167</td>\n",
       "      <td>2500</td>\n",
       "      <td>59.83</td>\n",
       "      <td>30000.0</td>\n",
       "      <td>Source Verified</td>\n",
       "      <td>Charged Off</td>\n",
       "      <td>2500.000000</td>\n",
       "      <td>0.023932</td>\n",
       "    </tr>\n",
       "    <tr>\n",
       "      <th>2</th>\n",
       "      <td>1313524</td>\n",
       "      <td>2400</td>\n",
       "      <td>84.33</td>\n",
       "      <td>12252.0</td>\n",
       "      <td>Not Verified</td>\n",
       "      <td>Fully Paid</td>\n",
       "      <td>1021.000000</td>\n",
       "      <td>0.082595</td>\n",
       "    </tr>\n",
       "    <tr>\n",
       "      <th>3</th>\n",
       "      <td>1277178</td>\n",
       "      <td>10000</td>\n",
       "      <td>339.31</td>\n",
       "      <td>49200.0</td>\n",
       "      <td>Source Verified</td>\n",
       "      <td>Fully Paid</td>\n",
       "      <td>4100.000000</td>\n",
       "      <td>0.082759</td>\n",
       "    </tr>\n",
       "    <tr>\n",
       "      <th>5</th>\n",
       "      <td>1311441</td>\n",
       "      <td>5000</td>\n",
       "      <td>156.46</td>\n",
       "      <td>36000.0</td>\n",
       "      <td>Source Verified</td>\n",
       "      <td>Fully Paid</td>\n",
       "      <td>3000.000000</td>\n",
       "      <td>0.052153</td>\n",
       "    </tr>\n",
       "    <tr>\n",
       "      <th>...</th>\n",
       "      <td>...</td>\n",
       "      <td>...</td>\n",
       "      <td>...</td>\n",
       "      <td>...</td>\n",
       "      <td>...</td>\n",
       "      <td>...</td>\n",
       "      <td>...</td>\n",
       "      <td>...</td>\n",
       "    </tr>\n",
       "    <tr>\n",
       "      <th>39712</th>\n",
       "      <td>92174</td>\n",
       "      <td>2500</td>\n",
       "      <td>78.42</td>\n",
       "      <td>110000.0</td>\n",
       "      <td>Not Verified</td>\n",
       "      <td>Fully Paid</td>\n",
       "      <td>9166.666667</td>\n",
       "      <td>0.008555</td>\n",
       "    </tr>\n",
       "    <tr>\n",
       "      <th>39713</th>\n",
       "      <td>90607</td>\n",
       "      <td>8500</td>\n",
       "      <td>275.38</td>\n",
       "      <td>18000.0</td>\n",
       "      <td>Not Verified</td>\n",
       "      <td>Fully Paid</td>\n",
       "      <td>1500.000000</td>\n",
       "      <td>0.183587</td>\n",
       "    </tr>\n",
       "    <tr>\n",
       "      <th>39714</th>\n",
       "      <td>90390</td>\n",
       "      <td>5000</td>\n",
       "      <td>156.84</td>\n",
       "      <td>100000.0</td>\n",
       "      <td>Not Verified</td>\n",
       "      <td>Fully Paid</td>\n",
       "      <td>8333.333333</td>\n",
       "      <td>0.018821</td>\n",
       "    </tr>\n",
       "    <tr>\n",
       "      <th>39715</th>\n",
       "      <td>89243</td>\n",
       "      <td>5000</td>\n",
       "      <td>155.38</td>\n",
       "      <td>200000.0</td>\n",
       "      <td>Not Verified</td>\n",
       "      <td>Fully Paid</td>\n",
       "      <td>16666.666667</td>\n",
       "      <td>0.009323</td>\n",
       "    </tr>\n",
       "    <tr>\n",
       "      <th>39716</th>\n",
       "      <td>86999</td>\n",
       "      <td>7500</td>\n",
       "      <td>255.43</td>\n",
       "      <td>22000.0</td>\n",
       "      <td>Not Verified</td>\n",
       "      <td>Fully Paid</td>\n",
       "      <td>1833.333333</td>\n",
       "      <td>0.139325</td>\n",
       "    </tr>\n",
       "  </tbody>\n",
       "</table>\n",
       "<p>37494 rows × 8 columns</p>\n",
       "</div>"
      ],
      "text/plain": [
       "      member_id  loan_amnt  installment  annual_inc verification_status  \\\n",
       "0       1296599       5000       162.87     24000.0            Verified   \n",
       "1       1314167       2500        59.83     30000.0     Source Verified   \n",
       "2       1313524       2400        84.33     12252.0        Not Verified   \n",
       "3       1277178      10000       339.31     49200.0     Source Verified   \n",
       "5       1311441       5000       156.46     36000.0     Source Verified   \n",
       "...         ...        ...          ...         ...                 ...   \n",
       "39712     92174       2500        78.42    110000.0        Not Verified   \n",
       "39713     90607       8500       275.38     18000.0        Not Verified   \n",
       "39714     90390       5000       156.84    100000.0        Not Verified   \n",
       "39715     89243       5000       155.38    200000.0        Not Verified   \n",
       "39716     86999       7500       255.43     22000.0        Not Verified   \n",
       "\n",
       "       loan_status   monthly_inc  ins_inc_ratio  \n",
       "0       Fully Paid   2000.000000       0.081435  \n",
       "1      Charged Off   2500.000000       0.023932  \n",
       "2       Fully Paid   1021.000000       0.082595  \n",
       "3       Fully Paid   4100.000000       0.082759  \n",
       "5       Fully Paid   3000.000000       0.052153  \n",
       "...            ...           ...            ...  \n",
       "39712   Fully Paid   9166.666667       0.008555  \n",
       "39713   Fully Paid   1500.000000       0.183587  \n",
       "39714   Fully Paid   8333.333333       0.018821  \n",
       "39715   Fully Paid  16666.666667       0.009323  \n",
       "39716   Fully Paid   1833.333333       0.139325  \n",
       "\n",
       "[37494 rows x 8 columns]"
      ]
     },
     "execution_count": 340,
     "metadata": {},
     "output_type": "execute_result"
    }
   ],
   "source": [
    "loan_df1['monthly_inc'] = loan_df1['annual_inc'] / 12\n",
    "loan_df1['ins_inc_ratio'] = loan_df1['installment'] / loan_df1['monthly_inc']\n",
    "loan_df1"
   ]
  },
  {
   "cell_type": "markdown",
   "id": "af1aa622",
   "metadata": {},
   "source": [
    "ปรับเปลี่ยนค่าของช่วงอัตราค่างวดเงินผ่อนต่อรายได้ให้อยู่ใน 2 ช่วง โดยแบ่งช่วงโดยใช้ค่าเฉลี่ยของอัตราค่างวดเงินผ่อนต่อรายได้ และสร้าง columns ใหม่ที่ชื่อ ratio_category\\\n",
    "เลือกช่วงที่อัตราค่างวดเงินผ่อนต่อรายได้น้อยกว่าค่าเฉลี่ย เป็น 'Low Ratio'\\\n",
    "เลือกช่วงที่อัตราค่างวดเงินผ่อนต่อรายได้มากกว่าหรือเท่ากับค่าเฉลี่ย เป็น 'High Ratio'"
   ]
  },
  {
   "cell_type": "code",
   "execution_count": 341,
   "id": "a3306c87",
   "metadata": {},
   "outputs": [
    {
     "data": {
      "text/plain": [
       "0.06537234826551896"
      ]
     },
     "execution_count": 341,
     "metadata": {},
     "output_type": "execute_result"
    }
   ],
   "source": [
    "ratio_mean = loan_df1['ins_inc_ratio'].mean()\n",
    "ratio_mean"
   ]
  },
  {
   "cell_type": "code",
   "execution_count": 342,
   "id": "d703741b",
   "metadata": {},
   "outputs": [
    {
     "data": {
      "text/html": [
       "<div>\n",
       "<style scoped>\n",
       "    .dataframe tbody tr th:only-of-type {\n",
       "        vertical-align: middle;\n",
       "    }\n",
       "\n",
       "    .dataframe tbody tr th {\n",
       "        vertical-align: top;\n",
       "    }\n",
       "\n",
       "    .dataframe thead th {\n",
       "        text-align: right;\n",
       "    }\n",
       "</style>\n",
       "<table border=\"1\" class=\"dataframe\">\n",
       "  <thead>\n",
       "    <tr style=\"text-align: right;\">\n",
       "      <th></th>\n",
       "      <th>member_id</th>\n",
       "      <th>loan_amnt</th>\n",
       "      <th>installment</th>\n",
       "      <th>annual_inc</th>\n",
       "      <th>verification_status</th>\n",
       "      <th>loan_status</th>\n",
       "      <th>monthly_inc</th>\n",
       "      <th>ins_inc_ratio</th>\n",
       "      <th>ratio_category</th>\n",
       "    </tr>\n",
       "  </thead>\n",
       "  <tbody>\n",
       "    <tr>\n",
       "      <th>0</th>\n",
       "      <td>1296599</td>\n",
       "      <td>5000</td>\n",
       "      <td>162.87</td>\n",
       "      <td>24000.0</td>\n",
       "      <td>Verified</td>\n",
       "      <td>Fully Paid</td>\n",
       "      <td>2000.000000</td>\n",
       "      <td>0.081435</td>\n",
       "      <td>High Ratio</td>\n",
       "    </tr>\n",
       "    <tr>\n",
       "      <th>1</th>\n",
       "      <td>1314167</td>\n",
       "      <td>2500</td>\n",
       "      <td>59.83</td>\n",
       "      <td>30000.0</td>\n",
       "      <td>Source Verified</td>\n",
       "      <td>Charged Off</td>\n",
       "      <td>2500.000000</td>\n",
       "      <td>0.023932</td>\n",
       "      <td>Low Ratio</td>\n",
       "    </tr>\n",
       "    <tr>\n",
       "      <th>2</th>\n",
       "      <td>1313524</td>\n",
       "      <td>2400</td>\n",
       "      <td>84.33</td>\n",
       "      <td>12252.0</td>\n",
       "      <td>Not Verified</td>\n",
       "      <td>Fully Paid</td>\n",
       "      <td>1021.000000</td>\n",
       "      <td>0.082595</td>\n",
       "      <td>High Ratio</td>\n",
       "    </tr>\n",
       "    <tr>\n",
       "      <th>3</th>\n",
       "      <td>1277178</td>\n",
       "      <td>10000</td>\n",
       "      <td>339.31</td>\n",
       "      <td>49200.0</td>\n",
       "      <td>Source Verified</td>\n",
       "      <td>Fully Paid</td>\n",
       "      <td>4100.000000</td>\n",
       "      <td>0.082759</td>\n",
       "      <td>High Ratio</td>\n",
       "    </tr>\n",
       "    <tr>\n",
       "      <th>5</th>\n",
       "      <td>1311441</td>\n",
       "      <td>5000</td>\n",
       "      <td>156.46</td>\n",
       "      <td>36000.0</td>\n",
       "      <td>Source Verified</td>\n",
       "      <td>Fully Paid</td>\n",
       "      <td>3000.000000</td>\n",
       "      <td>0.052153</td>\n",
       "      <td>Low Ratio</td>\n",
       "    </tr>\n",
       "    <tr>\n",
       "      <th>...</th>\n",
       "      <td>...</td>\n",
       "      <td>...</td>\n",
       "      <td>...</td>\n",
       "      <td>...</td>\n",
       "      <td>...</td>\n",
       "      <td>...</td>\n",
       "      <td>...</td>\n",
       "      <td>...</td>\n",
       "      <td>...</td>\n",
       "    </tr>\n",
       "    <tr>\n",
       "      <th>39712</th>\n",
       "      <td>92174</td>\n",
       "      <td>2500</td>\n",
       "      <td>78.42</td>\n",
       "      <td>110000.0</td>\n",
       "      <td>Not Verified</td>\n",
       "      <td>Fully Paid</td>\n",
       "      <td>9166.666667</td>\n",
       "      <td>0.008555</td>\n",
       "      <td>Low Ratio</td>\n",
       "    </tr>\n",
       "    <tr>\n",
       "      <th>39713</th>\n",
       "      <td>90607</td>\n",
       "      <td>8500</td>\n",
       "      <td>275.38</td>\n",
       "      <td>18000.0</td>\n",
       "      <td>Not Verified</td>\n",
       "      <td>Fully Paid</td>\n",
       "      <td>1500.000000</td>\n",
       "      <td>0.183587</td>\n",
       "      <td>High Ratio</td>\n",
       "    </tr>\n",
       "    <tr>\n",
       "      <th>39714</th>\n",
       "      <td>90390</td>\n",
       "      <td>5000</td>\n",
       "      <td>156.84</td>\n",
       "      <td>100000.0</td>\n",
       "      <td>Not Verified</td>\n",
       "      <td>Fully Paid</td>\n",
       "      <td>8333.333333</td>\n",
       "      <td>0.018821</td>\n",
       "      <td>Low Ratio</td>\n",
       "    </tr>\n",
       "    <tr>\n",
       "      <th>39715</th>\n",
       "      <td>89243</td>\n",
       "      <td>5000</td>\n",
       "      <td>155.38</td>\n",
       "      <td>200000.0</td>\n",
       "      <td>Not Verified</td>\n",
       "      <td>Fully Paid</td>\n",
       "      <td>16666.666667</td>\n",
       "      <td>0.009323</td>\n",
       "      <td>Low Ratio</td>\n",
       "    </tr>\n",
       "    <tr>\n",
       "      <th>39716</th>\n",
       "      <td>86999</td>\n",
       "      <td>7500</td>\n",
       "      <td>255.43</td>\n",
       "      <td>22000.0</td>\n",
       "      <td>Not Verified</td>\n",
       "      <td>Fully Paid</td>\n",
       "      <td>1833.333333</td>\n",
       "      <td>0.139325</td>\n",
       "      <td>High Ratio</td>\n",
       "    </tr>\n",
       "  </tbody>\n",
       "</table>\n",
       "<p>37494 rows × 9 columns</p>\n",
       "</div>"
      ],
      "text/plain": [
       "      member_id  loan_amnt  installment  annual_inc verification_status  \\\n",
       "0       1296599       5000       162.87     24000.0            Verified   \n",
       "1       1314167       2500        59.83     30000.0     Source Verified   \n",
       "2       1313524       2400        84.33     12252.0        Not Verified   \n",
       "3       1277178      10000       339.31     49200.0     Source Verified   \n",
       "5       1311441       5000       156.46     36000.0     Source Verified   \n",
       "...         ...        ...          ...         ...                 ...   \n",
       "39712     92174       2500        78.42    110000.0        Not Verified   \n",
       "39713     90607       8500       275.38     18000.0        Not Verified   \n",
       "39714     90390       5000       156.84    100000.0        Not Verified   \n",
       "39715     89243       5000       155.38    200000.0        Not Verified   \n",
       "39716     86999       7500       255.43     22000.0        Not Verified   \n",
       "\n",
       "       loan_status   monthly_inc  ins_inc_ratio ratio_category  \n",
       "0       Fully Paid   2000.000000       0.081435     High Ratio  \n",
       "1      Charged Off   2500.000000       0.023932      Low Ratio  \n",
       "2       Fully Paid   1021.000000       0.082595     High Ratio  \n",
       "3       Fully Paid   4100.000000       0.082759     High Ratio  \n",
       "5       Fully Paid   3000.000000       0.052153      Low Ratio  \n",
       "...            ...           ...            ...            ...  \n",
       "39712   Fully Paid   9166.666667       0.008555      Low Ratio  \n",
       "39713   Fully Paid   1500.000000       0.183587     High Ratio  \n",
       "39714   Fully Paid   8333.333333       0.018821      Low Ratio  \n",
       "39715   Fully Paid  16666.666667       0.009323      Low Ratio  \n",
       "39716   Fully Paid   1833.333333       0.139325     High Ratio  \n",
       "\n",
       "[37494 rows x 9 columns]"
      ]
     },
     "execution_count": 342,
     "metadata": {},
     "output_type": "execute_result"
    }
   ],
   "source": [
    "loan_df1['ratio_category'] = 'High Ratio'\n",
    "loan_df1.loc[loan_df1['ins_inc_ratio'] < ratio_mean, 'ratio_category'] = 'Low Ratio'\n",
    "loan_df1"
   ]
  },
  {
   "cell_type": "markdown",
   "id": "2534ae86",
   "metadata": {},
   "source": [
    "ทดสอบสมมติฐาน: อัตราส่วนที่มากของค่างวดต่อรายได้ต่อเดือนมีผลต่อการผิดชำระหนี้หรือไม่\n",
    "- H0 : เหตุการณ์นี้เกิดขึ้นด้วยความบังเอิญ\n",
    "- H1 : เหตุการณ์นี้เกิดขึ้นจริง\n",
    "- กำหนดนัยสำคัญที่ 90% ($\\alpha$ = 0.1)"
   ]
  },
  {
   "cell_type": "markdown",
   "id": "5c8ada4f",
   "metadata": {},
   "source": [
    "เลือกข้อมูลที่เป็นการผิดชำระเงิน เพื่อนำมาคำนวณว่าอัตราส่วนที่มากของค่างวดต่อรายได้ต่อเดือนมีผลต่อการผิดชำระหนี้จริงหรือไม่"
   ]
  },
  {
   "cell_type": "code",
   "execution_count": 343,
   "id": "ba9b2f03",
   "metadata": {},
   "outputs": [],
   "source": [
    "loan_df1_select = loan_df1[loan_df1['loan_status'] == 'Charged Off']"
   ]
  },
  {
   "cell_type": "code",
   "execution_count": 344,
   "id": "b55c2279",
   "metadata": {},
   "outputs": [
    {
     "data": {
      "text/plain": [
       "High Ratio    2731\n",
       "Low Ratio     2653\n",
       "Name: ratio_category, dtype: int64"
      ]
     },
     "execution_count": 344,
     "metadata": {},
     "output_type": "execute_result"
    }
   ],
   "source": [
    "loan_df1_select['ratio_category'].value_counts()"
   ]
  },
  {
   "cell_type": "markdown",
   "id": "a404f43b",
   "metadata": {},
   "source": [
    "จัดกลุ่มใหม่ของ High Ratio และ Low Ratio เป็น A 2731 คน และ B 2653 คน ตามลำดับ แล้วคํานวณอัตราส่วนของจำนวนอัตราส่วนของค่างวดต่อรายได้ต่อเดือนที่มากและน้อย นำอัตราส่วนมาเทียบกัน"
   ]
  },
  {
   "cell_type": "code",
   "execution_count": 345,
   "id": "9930cbbc",
   "metadata": {},
   "outputs": [
    {
     "data": {
      "text/plain": [
       "2653"
      ]
     },
     "execution_count": 345,
     "metadata": {},
     "output_type": "execute_result"
    }
   ],
   "source": [
    "a = loan_df1_select['ratio_category'].value_counts().get(1)\n",
    "a"
   ]
  },
  {
   "cell_type": "code",
   "execution_count": 346,
   "id": "00ecb30d",
   "metadata": {
    "scrolled": true
   },
   "outputs": [
    {
     "data": {
      "text/plain": [
       "18896    High Ratio\n",
       "2420     High Ratio\n",
       "24609    High Ratio\n",
       "11326    High Ratio\n",
       "27062    High Ratio\n",
       "            ...    \n",
       "13575     Low Ratio\n",
       "7802     High Ratio\n",
       "13876     Low Ratio\n",
       "18622    High Ratio\n",
       "21402     Low Ratio\n",
       "Name: ratio_category, Length: 2653, dtype: object"
      ]
     },
     "execution_count": 346,
     "metadata": {},
     "output_type": "execute_result"
    }
   ],
   "source": [
    "gA = loan_df1_select.sample(a).ratio_category\n",
    "gA"
   ]
  },
  {
   "cell_type": "code",
   "execution_count": 347,
   "id": "7219cfa7",
   "metadata": {},
   "outputs": [
    {
     "data": {
      "text/plain": [
       "9        High Ratio\n",
       "12       High Ratio\n",
       "14        Low Ratio\n",
       "21       High Ratio\n",
       "24        Low Ratio\n",
       "            ...    \n",
       "39638     Low Ratio\n",
       "39640     Low Ratio\n",
       "39653    High Ratio\n",
       "39669     Low Ratio\n",
       "39688     Low Ratio\n",
       "Name: ratio_category, Length: 2731, dtype: object"
      ]
     },
     "execution_count": 347,
     "metadata": {},
     "output_type": "execute_result"
    }
   ],
   "source": [
    "gB = loan_df1_select.drop(gA.index).ratio_category\n",
    "gB"
   ]
  },
  {
   "cell_type": "code",
   "execution_count": 348,
   "id": "42c78729",
   "metadata": {},
   "outputs": [
    {
     "data": {
      "text/plain": [
       "Low Ratio     1328\n",
       "High Ratio    1325\n",
       "Name: ratio_category, dtype: int64"
      ]
     },
     "execution_count": 348,
     "metadata": {},
     "output_type": "execute_result"
    }
   ],
   "source": [
    "gA.value_counts()"
   ]
  },
  {
   "cell_type": "code",
   "execution_count": 349,
   "id": "8d6f67cf",
   "metadata": {},
   "outputs": [
    {
     "data": {
      "text/plain": [
       "High Ratio    1406\n",
       "Low Ratio     1325\n",
       "Name: ratio_category, dtype: int64"
      ]
     },
     "execution_count": 349,
     "metadata": {},
     "output_type": "execute_result"
    }
   ],
   "source": [
    "gB.value_counts()"
   ]
  },
  {
   "cell_type": "markdown",
   "id": "ccc4242e",
   "metadata": {},
   "source": [
    "หาอัตราส่วนของจำนวนอัตราส่วนของค่างวดต่อรายได้ต่อเดือนกรณีที่ High Ratio และ Low Ratio นำอัตราส่วนมาเทียบกัน"
   ]
  },
  {
   "cell_type": "code",
   "execution_count": 350,
   "id": "ac81b145",
   "metadata": {},
   "outputs": [
    {
     "data": {
      "text/plain": [
       "0.9722931017195703"
      ]
     },
     "execution_count": 350,
     "metadata": {},
     "output_type": "execute_result"
    }
   ],
   "source": [
    "x = (gA.value_counts().get(0) / gA.size) / (gB.value_counts().get(0) / gB.size)\n",
    "x"
   ]
  },
  {
   "cell_type": "markdown",
   "id": "6eed05de",
   "metadata": {},
   "source": [
    "ทำการสุ่ม 1000 ครั้งแล้วนำมาเทียบกับค่าอัตราส่วนของจำนวนอัตราส่วนของค่างวดต่อรายได้ต่อเดือนที่ทำในแต่ละรอบ"
   ]
  },
  {
   "cell_type": "code",
   "execution_count": 351,
   "id": "d93c9d9a",
   "metadata": {},
   "outputs": [
    {
     "data": {
      "text/plain": [
       "0      0.990419\n",
       "1      0.989015\n",
       "2      0.984103\n",
       "3      0.986207\n",
       "4      1.019970\n",
       "         ...   \n",
       "995    0.995335\n",
       "996    0.999552\n",
       "997    0.989015\n",
       "998    0.986207\n",
       "999    0.991121\n",
       "Length: 1000, dtype: float64"
      ]
     },
     "execution_count": 351,
     "metadata": {},
     "output_type": "execute_result"
    }
   ],
   "source": [
    "diff_ls = []\n",
    "for _ in range(1000):\n",
    "    gA = loan_df1.sample(a).ratio_category\n",
    "    gB = loan_df1.drop(gA.index).ratio_category\n",
    "    diff_ls.append((gA.value_counts().get(0) / gA.size) / (gB.value_counts().get(0) / gB.size))\n",
    "diff = pd.Series(diff_ls)\n",
    "diff"
   ]
  },
  {
   "cell_type": "markdown",
   "id": "427af569",
   "metadata": {},
   "source": [
    "ดูว่าที่สุ่มอัตราส่วนของจำนวนอัตราส่วนของค่างวดต่อรายได้ต่อเดือนที่เป็น High Ratio และ Low Ratio นําอัตราส่วนนั้นมาเทียบกับอัตราส่วนของแต่ละรอบที่สุ่มมาว่ามีกี่รอบที่มากกว่าหรือเท่ากับค่าที่เราสุ่มมาตอนแรกคือค่า x"
   ]
  },
  {
   "cell_type": "code",
   "execution_count": 352,
   "id": "baed7c42",
   "metadata": {},
   "outputs": [
    {
     "data": {
      "text/plain": [
       "931"
      ]
     },
     "execution_count": 352,
     "metadata": {},
     "output_type": "execute_result"
    }
   ],
   "source": [
    "sum(diff >= x)"
   ]
  },
  {
   "cell_type": "markdown",
   "id": "fc9eea72",
   "metadata": {},
   "source": [
    "นำอัตราส่วนของจำนวนอัตราส่วนของค่างวดต่อรายได้ต่อเดือน ที่สุ่มมาที่ค่ามากกว่าค่า x นำมาหารจำนวนรอบทั้งหมดที่สุ่ม จะได้ค่า p_value"
   ]
  },
  {
   "cell_type": "code",
   "execution_count": 353,
   "id": "9458e70a",
   "metadata": {},
   "outputs": [
    {
     "data": {
      "text/plain": [
       "0.931"
      ]
     },
     "execution_count": 353,
     "metadata": {},
     "output_type": "execute_result"
    }
   ],
   "source": [
    "p_value_1 = sum(diff >= x) / len(diff)\n",
    "p_value_1"
   ]
  },
  {
   "cell_type": "code",
   "execution_count": 354,
   "id": "7414383b",
   "metadata": {},
   "outputs": [
    {
     "name": "stdout",
     "output_type": "stream",
     "text": [
      "alpha = 0.1 และ ค่า pvalue =  0.931\n"
     ]
    }
   ],
   "source": [
    "print('alpha = 0.1 และ ค่า pvalue = ', p_value_1)"
   ]
  },
  {
   "cell_type": "markdown",
   "id": "b25f2598",
   "metadata": {},
   "source": [
    "นั้นคือ p-value มีค่ามากกว่า alpha ดังนั้นปฏิเสธ H1 คือเหตุการณ์เกิดขึ้นจริง และยอมรับ H0 คือเหตุการเกิดขึ้นเพราะความบังเอิญ\\\n",
    "สรุปได้ว่าสมมติฐานนี้ไม่สามารถสรุปได้ นั่นคืออัตราส่วนของค่างวดต่อรายได้ต่อเดือนมีผลต่อการผิดชำระหนี้ อาจเป็นจริงหรือบังเอิญก็ได้ "
   ]
  },
  {
   "cell_type": "markdown",
   "id": "6f41c3ee",
   "metadata": {},
   "source": [
    "### 2.ระยะเวลาการทำงานของผู้กู้ที่มากมีผลต่อเกรดสินเชื่อหรือไม่"
   ]
  },
  {
   "cell_type": "markdown",
   "id": "82e467ec",
   "metadata": {},
   "source": [
    "ทดสอบสมมติฐาน = การทำงานของผู้กู้มีผลต่อเกรดของสินเชื่อหรือไม่\n",
    "\n",
    "H0 : เหตุการณ์นี้เกิดขึ้นด้วยความบังเอิญ\n",
    "\n",
    "H1 : เหตุการณ์นี้เกิดขึ้นจริง\n",
    "\n",
    "กำหนดนัยสำคัญที่ 95% ($\\alpha$ = 0.05)\n",
    "\n",
    "มีโอกาส 95% ที่เหตุการณ์นี้เป็นจริง"
   ]
  },
  {
   "cell_type": "markdown",
   "id": "13f237a6",
   "metadata": {},
   "source": [
    "**เลือกคนที่ทำงานมากกว่า 5 ปี เพื่อหาว่าระยะเวลา มีผลต่อเกรดของสินเชื่อหรือไม่**"
   ]
  },
  {
   "cell_type": "markdown",
   "id": "37b56403",
   "metadata": {},
   "source": [
    "สมมติให้ คนที่ทำงานมากกว่า 5 ปีเป็น 0 และ คนที่ทำงานน้อยกว่าหรือเท่ากับ 5 ปีเป็น 1 เพื่อคำนวณว่าระยะเวลาการทำงาน มีผลต่อเกรดของสินเชื่อหรือไม่"
   ]
  },
  {
   "cell_type": "code",
   "execution_count": 355,
   "id": "67a57b55",
   "metadata": {},
   "outputs": [
    {
     "data": {
      "text/html": [
       "<div>\n",
       "<style scoped>\n",
       "    .dataframe tbody tr th:only-of-type {\n",
       "        vertical-align: middle;\n",
       "    }\n",
       "\n",
       "    .dataframe tbody tr th {\n",
       "        vertical-align: top;\n",
       "    }\n",
       "\n",
       "    .dataframe thead th {\n",
       "        text-align: right;\n",
       "    }\n",
       "</style>\n",
       "<table border=\"1\" class=\"dataframe\">\n",
       "  <thead>\n",
       "    <tr style=\"text-align: right;\">\n",
       "      <th></th>\n",
       "      <th>member_id</th>\n",
       "      <th>loan_amnt</th>\n",
       "      <th>funded_amnt</th>\n",
       "      <th>funded_amnt_inv</th>\n",
       "      <th>term</th>\n",
       "      <th>int_rate</th>\n",
       "      <th>installment</th>\n",
       "      <th>grade</th>\n",
       "      <th>sub_grade</th>\n",
       "      <th>emp_title</th>\n",
       "      <th>...</th>\n",
       "      <th>total_pymnt</th>\n",
       "      <th>total_pymnt_inv</th>\n",
       "      <th>total_rec_prncp</th>\n",
       "      <th>total_rec_int</th>\n",
       "      <th>total_rec_late_fee</th>\n",
       "      <th>recoveries</th>\n",
       "      <th>collection_recovery_fee</th>\n",
       "      <th>last_pymnt_amnt</th>\n",
       "      <th>max_intrate</th>\n",
       "      <th>year_more_than_5</th>\n",
       "    </tr>\n",
       "  </thead>\n",
       "  <tbody>\n",
       "    <tr>\n",
       "      <th>0</th>\n",
       "      <td>1296599</td>\n",
       "      <td>5000</td>\n",
       "      <td>5000</td>\n",
       "      <td>4975.0</td>\n",
       "      <td>36 months</td>\n",
       "      <td>10.65</td>\n",
       "      <td>162.87</td>\n",
       "      <td>B</td>\n",
       "      <td>B2</td>\n",
       "      <td>unknown</td>\n",
       "      <td>...</td>\n",
       "      <td>5863.155187</td>\n",
       "      <td>5833.84</td>\n",
       "      <td>5000.00</td>\n",
       "      <td>863.16</td>\n",
       "      <td>0.00</td>\n",
       "      <td>0.00</td>\n",
       "      <td>0.00</td>\n",
       "      <td>171.62</td>\n",
       "      <td>532.50</td>\n",
       "      <td>0</td>\n",
       "    </tr>\n",
       "    <tr>\n",
       "      <th>1</th>\n",
       "      <td>1314167</td>\n",
       "      <td>2500</td>\n",
       "      <td>2500</td>\n",
       "      <td>2500.0</td>\n",
       "      <td>60 months</td>\n",
       "      <td>15.27</td>\n",
       "      <td>59.83</td>\n",
       "      <td>C</td>\n",
       "      <td>C4</td>\n",
       "      <td>Ryder</td>\n",
       "      <td>...</td>\n",
       "      <td>1008.710000</td>\n",
       "      <td>1008.71</td>\n",
       "      <td>456.46</td>\n",
       "      <td>435.17</td>\n",
       "      <td>0.00</td>\n",
       "      <td>117.08</td>\n",
       "      <td>1.11</td>\n",
       "      <td>119.66</td>\n",
       "      <td>381.75</td>\n",
       "      <td>1</td>\n",
       "    </tr>\n",
       "    <tr>\n",
       "      <th>2</th>\n",
       "      <td>1313524</td>\n",
       "      <td>2400</td>\n",
       "      <td>2400</td>\n",
       "      <td>2400.0</td>\n",
       "      <td>36 months</td>\n",
       "      <td>15.96</td>\n",
       "      <td>84.33</td>\n",
       "      <td>C</td>\n",
       "      <td>C5</td>\n",
       "      <td>unknown</td>\n",
       "      <td>...</td>\n",
       "      <td>3005.666844</td>\n",
       "      <td>3005.67</td>\n",
       "      <td>2400.00</td>\n",
       "      <td>605.67</td>\n",
       "      <td>0.00</td>\n",
       "      <td>0.00</td>\n",
       "      <td>0.00</td>\n",
       "      <td>649.91</td>\n",
       "      <td>383.04</td>\n",
       "      <td>0</td>\n",
       "    </tr>\n",
       "    <tr>\n",
       "      <th>3</th>\n",
       "      <td>1277178</td>\n",
       "      <td>10000</td>\n",
       "      <td>10000</td>\n",
       "      <td>10000.0</td>\n",
       "      <td>36 months</td>\n",
       "      <td>13.49</td>\n",
       "      <td>339.31</td>\n",
       "      <td>C</td>\n",
       "      <td>C1</td>\n",
       "      <td>AIR RESOURCES BOARD</td>\n",
       "      <td>...</td>\n",
       "      <td>12231.890000</td>\n",
       "      <td>12231.89</td>\n",
       "      <td>10000.00</td>\n",
       "      <td>2214.92</td>\n",
       "      <td>16.97</td>\n",
       "      <td>0.00</td>\n",
       "      <td>0.00</td>\n",
       "      <td>357.48</td>\n",
       "      <td>1349.00</td>\n",
       "      <td>0</td>\n",
       "    </tr>\n",
       "    <tr>\n",
       "      <th>4</th>\n",
       "      <td>1311748</td>\n",
       "      <td>3000</td>\n",
       "      <td>3000</td>\n",
       "      <td>3000.0</td>\n",
       "      <td>60 months</td>\n",
       "      <td>12.69</td>\n",
       "      <td>67.79</td>\n",
       "      <td>B</td>\n",
       "      <td>B5</td>\n",
       "      <td>University Medical Group</td>\n",
       "      <td>...</td>\n",
       "      <td>3513.330000</td>\n",
       "      <td>3513.33</td>\n",
       "      <td>2475.94</td>\n",
       "      <td>1037.39</td>\n",
       "      <td>0.00</td>\n",
       "      <td>0.00</td>\n",
       "      <td>0.00</td>\n",
       "      <td>67.79</td>\n",
       "      <td>380.70</td>\n",
       "      <td>1</td>\n",
       "    </tr>\n",
       "    <tr>\n",
       "      <th>...</th>\n",
       "      <td>...</td>\n",
       "      <td>...</td>\n",
       "      <td>...</td>\n",
       "      <td>...</td>\n",
       "      <td>...</td>\n",
       "      <td>...</td>\n",
       "      <td>...</td>\n",
       "      <td>...</td>\n",
       "      <td>...</td>\n",
       "      <td>...</td>\n",
       "      <td>...</td>\n",
       "      <td>...</td>\n",
       "      <td>...</td>\n",
       "      <td>...</td>\n",
       "      <td>...</td>\n",
       "      <td>...</td>\n",
       "      <td>...</td>\n",
       "      <td>...</td>\n",
       "      <td>...</td>\n",
       "      <td>...</td>\n",
       "      <td>...</td>\n",
       "    </tr>\n",
       "    <tr>\n",
       "      <th>39712</th>\n",
       "      <td>92174</td>\n",
       "      <td>2500</td>\n",
       "      <td>2500</td>\n",
       "      <td>1075.0</td>\n",
       "      <td>36 months</td>\n",
       "      <td>8.07</td>\n",
       "      <td>78.42</td>\n",
       "      <td>A</td>\n",
       "      <td>A4</td>\n",
       "      <td>FiSite Research</td>\n",
       "      <td>...</td>\n",
       "      <td>2822.969293</td>\n",
       "      <td>1213.88</td>\n",
       "      <td>2500.00</td>\n",
       "      <td>322.97</td>\n",
       "      <td>0.00</td>\n",
       "      <td>0.00</td>\n",
       "      <td>0.00</td>\n",
       "      <td>80.90</td>\n",
       "      <td>201.75</td>\n",
       "      <td>1</td>\n",
       "    </tr>\n",
       "    <tr>\n",
       "      <th>39713</th>\n",
       "      <td>90607</td>\n",
       "      <td>8500</td>\n",
       "      <td>8500</td>\n",
       "      <td>875.0</td>\n",
       "      <td>36 months</td>\n",
       "      <td>10.28</td>\n",
       "      <td>275.38</td>\n",
       "      <td>C</td>\n",
       "      <td>C1</td>\n",
       "      <td>Squarewave Solutions, Ltd.</td>\n",
       "      <td>...</td>\n",
       "      <td>9913.491822</td>\n",
       "      <td>1020.51</td>\n",
       "      <td>8500.00</td>\n",
       "      <td>1413.49</td>\n",
       "      <td>0.00</td>\n",
       "      <td>0.00</td>\n",
       "      <td>0.00</td>\n",
       "      <td>281.94</td>\n",
       "      <td>873.80</td>\n",
       "      <td>1</td>\n",
       "    </tr>\n",
       "    <tr>\n",
       "      <th>39714</th>\n",
       "      <td>90390</td>\n",
       "      <td>5000</td>\n",
       "      <td>5000</td>\n",
       "      <td>1325.0</td>\n",
       "      <td>36 months</td>\n",
       "      <td>8.07</td>\n",
       "      <td>156.84</td>\n",
       "      <td>A</td>\n",
       "      <td>A4</td>\n",
       "      <td>unknown</td>\n",
       "      <td>...</td>\n",
       "      <td>5272.161128</td>\n",
       "      <td>1397.12</td>\n",
       "      <td>5000.00</td>\n",
       "      <td>272.16</td>\n",
       "      <td>0.00</td>\n",
       "      <td>0.00</td>\n",
       "      <td>0.00</td>\n",
       "      <td>0.00</td>\n",
       "      <td>403.50</td>\n",
       "      <td>1</td>\n",
       "    </tr>\n",
       "    <tr>\n",
       "      <th>39715</th>\n",
       "      <td>89243</td>\n",
       "      <td>5000</td>\n",
       "      <td>5000</td>\n",
       "      <td>650.0</td>\n",
       "      <td>36 months</td>\n",
       "      <td>7.43</td>\n",
       "      <td>155.38</td>\n",
       "      <td>A</td>\n",
       "      <td>A2</td>\n",
       "      <td>unknown</td>\n",
       "      <td>...</td>\n",
       "      <td>5174.198551</td>\n",
       "      <td>672.66</td>\n",
       "      <td>5000.00</td>\n",
       "      <td>174.20</td>\n",
       "      <td>0.00</td>\n",
       "      <td>0.00</td>\n",
       "      <td>0.00</td>\n",
       "      <td>0.00</td>\n",
       "      <td>371.50</td>\n",
       "      <td>1</td>\n",
       "    </tr>\n",
       "    <tr>\n",
       "      <th>39716</th>\n",
       "      <td>86999</td>\n",
       "      <td>7500</td>\n",
       "      <td>7500</td>\n",
       "      <td>800.0</td>\n",
       "      <td>36 months</td>\n",
       "      <td>13.75</td>\n",
       "      <td>255.43</td>\n",
       "      <td>E</td>\n",
       "      <td>E2</td>\n",
       "      <td>Evergreen Center</td>\n",
       "      <td>...</td>\n",
       "      <td>9195.263334</td>\n",
       "      <td>980.83</td>\n",
       "      <td>7500.00</td>\n",
       "      <td>1695.26</td>\n",
       "      <td>0.00</td>\n",
       "      <td>0.00</td>\n",
       "      <td>0.00</td>\n",
       "      <td>256.59</td>\n",
       "      <td>1031.25</td>\n",
       "      <td>1</td>\n",
       "    </tr>\n",
       "  </tbody>\n",
       "</table>\n",
       "<p>38592 rows × 37 columns</p>\n",
       "</div>"
      ],
      "text/plain": [
       "      member_id  loan_amnt  funded_amnt  funded_amnt_inv        term  \\\n",
       "0       1296599       5000         5000           4975.0   36 months   \n",
       "1       1314167       2500         2500           2500.0   60 months   \n",
       "2       1313524       2400         2400           2400.0   36 months   \n",
       "3       1277178      10000        10000          10000.0   36 months   \n",
       "4       1311748       3000         3000           3000.0   60 months   \n",
       "...         ...        ...          ...              ...         ...   \n",
       "39712     92174       2500         2500           1075.0   36 months   \n",
       "39713     90607       8500         8500            875.0   36 months   \n",
       "39714     90390       5000         5000           1325.0   36 months   \n",
       "39715     89243       5000         5000            650.0   36 months   \n",
       "39716     86999       7500         7500            800.0   36 months   \n",
       "\n",
       "       int_rate  installment grade sub_grade                   emp_title  ...  \\\n",
       "0         10.65       162.87     B        B2                     unknown  ...   \n",
       "1         15.27        59.83     C        C4                       Ryder  ...   \n",
       "2         15.96        84.33     C        C5                     unknown  ...   \n",
       "3         13.49       339.31     C        C1         AIR RESOURCES BOARD  ...   \n",
       "4         12.69        67.79     B        B5    University Medical Group  ...   \n",
       "...         ...          ...   ...       ...                         ...  ...   \n",
       "39712      8.07        78.42     A        A4             FiSite Research  ...   \n",
       "39713     10.28       275.38     C        C1  Squarewave Solutions, Ltd.  ...   \n",
       "39714      8.07       156.84     A        A4                     unknown  ...   \n",
       "39715      7.43       155.38     A        A2                     unknown  ...   \n",
       "39716     13.75       255.43     E        E2            Evergreen Center  ...   \n",
       "\n",
       "        total_pymnt total_pymnt_inv  total_rec_prncp total_rec_int  \\\n",
       "0       5863.155187         5833.84          5000.00        863.16   \n",
       "1       1008.710000         1008.71           456.46        435.17   \n",
       "2       3005.666844         3005.67          2400.00        605.67   \n",
       "3      12231.890000        12231.89         10000.00       2214.92   \n",
       "4       3513.330000         3513.33          2475.94       1037.39   \n",
       "...             ...             ...              ...           ...   \n",
       "39712   2822.969293         1213.88          2500.00        322.97   \n",
       "39713   9913.491822         1020.51          8500.00       1413.49   \n",
       "39714   5272.161128         1397.12          5000.00        272.16   \n",
       "39715   5174.198551          672.66          5000.00        174.20   \n",
       "39716   9195.263334          980.83          7500.00       1695.26   \n",
       "\n",
       "      total_rec_late_fee recoveries collection_recovery_fee last_pymnt_amnt  \\\n",
       "0                   0.00       0.00                    0.00          171.62   \n",
       "1                   0.00     117.08                    1.11          119.66   \n",
       "2                   0.00       0.00                    0.00          649.91   \n",
       "3                  16.97       0.00                    0.00          357.48   \n",
       "4                   0.00       0.00                    0.00           67.79   \n",
       "...                  ...        ...                     ...             ...   \n",
       "39712               0.00       0.00                    0.00           80.90   \n",
       "39713               0.00       0.00                    0.00          281.94   \n",
       "39714               0.00       0.00                    0.00            0.00   \n",
       "39715               0.00       0.00                    0.00            0.00   \n",
       "39716               0.00       0.00                    0.00          256.59   \n",
       "\n",
       "      max_intrate year_more_than_5  \n",
       "0          532.50                0  \n",
       "1          381.75                1  \n",
       "2          383.04                0  \n",
       "3         1349.00                0  \n",
       "4          380.70                1  \n",
       "...           ...              ...  \n",
       "39712      201.75                1  \n",
       "39713      873.80                1  \n",
       "39714      403.50                1  \n",
       "39715      371.50                1  \n",
       "39716     1031.25                1  \n",
       "\n",
       "[38592 rows x 37 columns]"
      ]
     },
     "execution_count": 355,
     "metadata": {},
     "output_type": "execute_result"
    }
   ],
   "source": [
    "select_df = loan_df.copy()\n",
    "select_df['emp_length'] = select_df['emp_length'].str.extract('(\\d+)').astype(float)\n",
    "select_df['year_more_than_5'] = 0\n",
    "select_df.loc[(select_df.emp_length <= 5) ,'year_more_than_5'] = 1\n",
    "select_df"
   ]
  },
  {
   "cell_type": "code",
   "execution_count": 356,
   "id": "a8662fc0",
   "metadata": {},
   "outputs": [
    {
     "data": {
      "text/plain": [
       "grade\n",
       "A     9694\n",
       "B    11683\n",
       "C     7914\n",
       "D     5179\n",
       "E     2784\n",
       "F     1025\n",
       "G      313\n",
       "dtype: int64"
      ]
     },
     "execution_count": 356,
     "metadata": {},
     "output_type": "execute_result"
    }
   ],
   "source": [
    "count_flag = select_df.groupby('grade').size()\n",
    "count_flag"
   ]
  },
  {
   "cell_type": "code",
   "execution_count": 357,
   "id": "f266daec",
   "metadata": {},
   "outputs": [
    {
     "data": {
      "text/plain": [
       "21377"
      ]
     },
     "execution_count": 357,
     "metadata": {},
     "output_type": "execute_result"
    }
   ],
   "source": [
    "a = count_flag.get(0) + count_flag.get(1) #เลือกใช้เกรด a และ b\n",
    "a"
   ]
  },
  {
   "cell_type": "code",
   "execution_count": 358,
   "id": "83ff86f2",
   "metadata": {},
   "outputs": [
    {
     "data": {
      "text/plain": [
       "7062     0\n",
       "29928    1\n",
       "31225    1\n",
       "17267    0\n",
       "15858    1\n",
       "        ..\n",
       "1995     0\n",
       "4417     0\n",
       "21256    0\n",
       "22175    0\n",
       "28924    0\n",
       "Name: year_more_than_5, Length: 21377, dtype: int64"
      ]
     },
     "execution_count": 358,
     "metadata": {},
     "output_type": "execute_result"
    }
   ],
   "source": [
    "gA = select_df.sample(a).year_more_than_5\n",
    "gA"
   ]
  },
  {
   "cell_type": "code",
   "execution_count": 359,
   "id": "84d1f5fe",
   "metadata": {},
   "outputs": [
    {
     "data": {
      "text/plain": [
       "0        0\n",
       "1        1\n",
       "2        0\n",
       "3        0\n",
       "4        1\n",
       "        ..\n",
       "39711    1\n",
       "39712    1\n",
       "39713    1\n",
       "39714    1\n",
       "39716    1\n",
       "Name: year_more_than_5, Length: 17215, dtype: int64"
      ]
     },
     "execution_count": 359,
     "metadata": {},
     "output_type": "execute_result"
    }
   ],
   "source": [
    "gB = select_df.drop(gA.index).year_more_than_5\n",
    "gB"
   ]
  },
  {
   "cell_type": "code",
   "execution_count": 360,
   "id": "4e763188",
   "metadata": {},
   "outputs": [
    {
     "name": "stdout",
     "output_type": "stream",
     "text": [
      "จำนวนลูกค้าที่ทำงานมากกว่า 5 ปี:  8685\n",
      "จำนวนลูกค้าทั้งหมด: 21377\n",
      "อัตราส่วนคนที่ทำงานมากกว่า 5 ปี:  0.4062777751789306\n"
     ]
    }
   ],
   "source": [
    "print('จำนวนลูกค้าที่ทำงานมากกว่า 5 ปี: ',gA.value_counts().get(0))\n",
    "print('จำนวนลูกค้าทั้งหมด:', gA.size)\n",
    "print('อัตราส่วนคนที่ทำงานมากกว่า 5 ปี: ', gA.value_counts().get(0)/gA.size)"
   ]
  },
  {
   "cell_type": "code",
   "execution_count": 361,
   "id": "83baf31d",
   "metadata": {},
   "outputs": [
    {
     "name": "stdout",
     "output_type": "stream",
     "text": [
      "จำนวนลูกค้าที่ทำงานน้อยกว่าหรือเท่ากับ 5 ปี:  6924\n",
      "จำนวนลูกค้าทั้งหมด: 17215\n",
      "อัตราส่วนคนที่ทำงานน้อยกว่าหรือเท่ากับ 5 ปี:  0.4022073772872495\n"
     ]
    }
   ],
   "source": [
    "print('จำนวนลูกค้าที่ทำงานน้อยกว่าหรือเท่ากับ 5 ปี: ',gB.value_counts().get(0))\n",
    "print('จำนวนลูกค้าทั้งหมด:', gB.size)\n",
    "print('อัตราส่วนคนที่ทำงานน้อยกว่าหรือเท่ากับ 5 ปี: ' ,gB.value_counts().get(0) / gB.size)"
   ]
  },
  {
   "cell_type": "markdown",
   "id": "5ed943c7",
   "metadata": {},
   "source": [
    "เอาอัตราส่วนที่ทำงานน้อยกว่าเท่ากับ 5 ปี และมากกว่า 5 ใบ จับกลุ่มมาหารกันในรอบเดียว"
   ]
  },
  {
   "cell_type": "code",
   "execution_count": 362,
   "id": "71b42d30",
   "metadata": {},
   "outputs": [
    {
     "data": {
      "text/plain": [
       "1.010120147271128"
      ]
     },
     "execution_count": 362,
     "metadata": {},
     "output_type": "execute_result"
    }
   ],
   "source": [
    "x = (gA.value_counts().get(0)/gA.size) / (gB.value_counts().get(0) / gB.size)\n",
    "x"
   ]
  },
  {
   "cell_type": "markdown",
   "id": "ba1e0531",
   "metadata": {},
   "source": [
    "ทำการสุ่ม 1000 ครั้งแล้วนำมาเทียบกับค่าอัตราส่วนของจำนวนรายได้ที่ทำในรอบเดียว"
   ]
  },
  {
   "cell_type": "code",
   "execution_count": 363,
   "id": "1ba46ee4",
   "metadata": {},
   "outputs": [
    {
     "data": {
      "text/plain": [
       "0      1.010251\n",
       "1      0.985998\n",
       "2      0.997171\n",
       "3      1.017903\n",
       "4      1.016676\n",
       "         ...   \n",
       "995    0.989915\n",
       "996    1.001114\n",
       "997    1.005981\n",
       "998    0.990820\n",
       "999    0.995051\n",
       "Length: 1000, dtype: float64"
      ]
     },
     "execution_count": 363,
     "metadata": {},
     "output_type": "execute_result"
    }
   ],
   "source": [
    "res = [] \n",
    "for _ in range(1000):\n",
    "    gA = select_df.sample(select_df.value_counts('grade').get(0)).year_more_than_5\n",
    "    gB = select_df.drop(gA.index).year_more_than_5\n",
    "    res.append((gA.value_counts().get(0) / gA.size) / (gB.value_counts().get(0) / gB.size))\n",
    "resample_diff = pd.Series(res)\n",
    "resample_diff"
   ]
  },
  {
   "cell_type": "code",
   "execution_count": 364,
   "id": "a1f2fa37",
   "metadata": {},
   "outputs": [
    {
     "data": {
      "text/plain": [
       "0      1.010251\n",
       "3      1.017903\n",
       "4      1.016676\n",
       "7      1.014532\n",
       "11     1.013307\n",
       "         ...   \n",
       "986    1.040452\n",
       "987    1.023435\n",
       "991    1.020974\n",
       "993    1.021589\n",
       "994    1.014226\n",
       "Length: 237, dtype: float64"
      ]
     },
     "execution_count": 364,
     "metadata": {},
     "output_type": "execute_result"
    }
   ],
   "source": [
    "resample_diff[resample_diff >= x]"
   ]
  },
  {
   "cell_type": "code",
   "execution_count": 365,
   "id": "126cf517",
   "metadata": {},
   "outputs": [
    {
     "data": {
      "text/plain": [
       "237"
      ]
     },
     "execution_count": 365,
     "metadata": {},
     "output_type": "execute_result"
    }
   ],
   "source": [
    "sum(resample_diff >= x)"
   ]
  },
  {
   "cell_type": "code",
   "execution_count": 366,
   "id": "a796717a",
   "metadata": {},
   "outputs": [
    {
     "name": "stdout",
     "output_type": "stream",
     "text": [
      "จะสรุปได้ว่า alpha = 0.05 และ ค่า pvalue =  0.237\n"
     ]
    }
   ],
   "source": [
    "print('จะสรุปได้ว่า alpha = 0.05 และ ค่า pvalue = ', sum(resample_diff >= x) / len(resample_diff))"
   ]
  },
  {
   "cell_type": "markdown",
   "id": "f262b8e6",
   "metadata": {},
   "source": [
    "นั้นคือ pvalue มีค่ามากกว่า alpha ดังนั้นปฎิเสธเหตุการณ์ที่เกิดขึ้นจริง (H1) แต่ยอมรับเหตุการที่เกิดขึ้นเพราะความบังเอิญ(H0) จะได้ว่า เหตุการณ์นี้เป็นเหตุการณ์ที่เป็นเหตุบังเอิญหรือไม่ก็ได้ เพราะฉะนั้นสมมติฐานนี้ไม่สามารถสรุปได้"
   ]
  },
  {
   "cell_type": "markdown",
   "id": "c011916a",
   "metadata": {},
   "source": [
    "### 3.อัตราดอกเบี้ยเงินกู้ที่มากมีผลต่อการทวงหนี้หรือไม่"
   ]
  },
  {
   "cell_type": "markdown",
   "id": "226a6522",
   "metadata": {},
   "source": [
    "ทดสอบสมมติฐาน = อัตราดอกเบี้ยเงินกู้ที่มากมีผลต่อการทวงหนี้หรือไม่\n",
    "\n",
    "H0 : เหตุการณ์นี้เกิดขึ้นด้วยความบังเอิญ\n",
    "\n",
    "H1 : เหตุการณ์นี้เกิดขึ้นจริง\n",
    "\n",
    "กำหนดนัยสำคัญที่ 95% ($\\alpha$ = 0.05)\n",
    "\n",
    "มีโอกาส 95% ที่เหตุการณ์นี้เป็นจริง"
   ]
  },
  {
   "cell_type": "markdown",
   "id": "a84e0b8a",
   "metadata": {},
   "source": [
    "**เลือกคนที่ได้ดอกเบี้ยมากกว่า 10% เพื่อหาว่าอัตราดอกเบี้ยเงินกู้ที่มากมีผลต่อการทวงหนี้หรือไม่**"
   ]
  },
  {
   "cell_type": "markdown",
   "id": "f3e26784",
   "metadata": {},
   "source": [
    "สมมติให้ คนที่ได้ดอกเบี้ยมากกว่า 10% เป็น 0 และ คนที่ได้ดอกเบี้ยน้อยกว่า น้อยกว่าหรือเท่ากับ 10 % เป็น 1 เพื่อคำนวณว่าดอกเบี้ยเงินกู้ที่มากมีผลต่อการการทวงหนี้หรือไม่"
   ]
  },
  {
   "cell_type": "code",
   "execution_count": 367,
   "id": "aa3515e8",
   "metadata": {},
   "outputs": [
    {
     "name": "stderr",
     "output_type": "stream",
     "text": [
      "C:\\Users\\hp\\AppData\\Local\\Temp\\ipykernel_4448\\878652733.py:2: SettingWithCopyWarning: \n",
      "A value is trying to be set on a copy of a slice from a DataFrame.\n",
      "Try using .loc[row_indexer,col_indexer] = value instead\n",
      "\n",
      "See the caveats in the documentation: https://pandas.pydata.org/pandas-docs/stable/user_guide/indexing.html#returning-a-view-versus-a-copy\n",
      "  loan_df3['intrate_more_than_10'] = 0\n"
     ]
    },
    {
     "data": {
      "text/html": [
       "<div>\n",
       "<style scoped>\n",
       "    .dataframe tbody tr th:only-of-type {\n",
       "        vertical-align: middle;\n",
       "    }\n",
       "\n",
       "    .dataframe tbody tr th {\n",
       "        vertical-align: top;\n",
       "    }\n",
       "\n",
       "    .dataframe thead th {\n",
       "        text-align: right;\n",
       "    }\n",
       "</style>\n",
       "<table border=\"1\" class=\"dataframe\">\n",
       "  <thead>\n",
       "    <tr style=\"text-align: right;\">\n",
       "      <th></th>\n",
       "      <th>member_id</th>\n",
       "      <th>loan_amnt</th>\n",
       "      <th>funded_amnt</th>\n",
       "      <th>funded_amnt_inv</th>\n",
       "      <th>term</th>\n",
       "      <th>int_rate</th>\n",
       "      <th>installment</th>\n",
       "      <th>grade</th>\n",
       "      <th>sub_grade</th>\n",
       "      <th>emp_title</th>\n",
       "      <th>...</th>\n",
       "      <th>total_pymnt</th>\n",
       "      <th>total_pymnt_inv</th>\n",
       "      <th>total_rec_prncp</th>\n",
       "      <th>total_rec_int</th>\n",
       "      <th>total_rec_late_fee</th>\n",
       "      <th>recoveries</th>\n",
       "      <th>collection_recovery_fee</th>\n",
       "      <th>last_pymnt_amnt</th>\n",
       "      <th>max_intrate</th>\n",
       "      <th>intrate_more_than_10</th>\n",
       "    </tr>\n",
       "  </thead>\n",
       "  <tbody>\n",
       "    <tr>\n",
       "      <th>0</th>\n",
       "      <td>1296599</td>\n",
       "      <td>5000</td>\n",
       "      <td>5000</td>\n",
       "      <td>4975.0</td>\n",
       "      <td>36 months</td>\n",
       "      <td>10.65</td>\n",
       "      <td>162.87</td>\n",
       "      <td>B</td>\n",
       "      <td>B2</td>\n",
       "      <td>unknown</td>\n",
       "      <td>...</td>\n",
       "      <td>5863.155187</td>\n",
       "      <td>5833.84</td>\n",
       "      <td>5000.00</td>\n",
       "      <td>863.16</td>\n",
       "      <td>0.00</td>\n",
       "      <td>0.00</td>\n",
       "      <td>0.00</td>\n",
       "      <td>171.62</td>\n",
       "      <td>532.50</td>\n",
       "      <td>0</td>\n",
       "    </tr>\n",
       "    <tr>\n",
       "      <th>1</th>\n",
       "      <td>1314167</td>\n",
       "      <td>2500</td>\n",
       "      <td>2500</td>\n",
       "      <td>2500.0</td>\n",
       "      <td>60 months</td>\n",
       "      <td>15.27</td>\n",
       "      <td>59.83</td>\n",
       "      <td>C</td>\n",
       "      <td>C4</td>\n",
       "      <td>Ryder</td>\n",
       "      <td>...</td>\n",
       "      <td>1008.710000</td>\n",
       "      <td>1008.71</td>\n",
       "      <td>456.46</td>\n",
       "      <td>435.17</td>\n",
       "      <td>0.00</td>\n",
       "      <td>117.08</td>\n",
       "      <td>1.11</td>\n",
       "      <td>119.66</td>\n",
       "      <td>381.75</td>\n",
       "      <td>0</td>\n",
       "    </tr>\n",
       "    <tr>\n",
       "      <th>2</th>\n",
       "      <td>1313524</td>\n",
       "      <td>2400</td>\n",
       "      <td>2400</td>\n",
       "      <td>2400.0</td>\n",
       "      <td>36 months</td>\n",
       "      <td>15.96</td>\n",
       "      <td>84.33</td>\n",
       "      <td>C</td>\n",
       "      <td>C5</td>\n",
       "      <td>unknown</td>\n",
       "      <td>...</td>\n",
       "      <td>3005.666844</td>\n",
       "      <td>3005.67</td>\n",
       "      <td>2400.00</td>\n",
       "      <td>605.67</td>\n",
       "      <td>0.00</td>\n",
       "      <td>0.00</td>\n",
       "      <td>0.00</td>\n",
       "      <td>649.91</td>\n",
       "      <td>383.04</td>\n",
       "      <td>0</td>\n",
       "    </tr>\n",
       "    <tr>\n",
       "      <th>3</th>\n",
       "      <td>1277178</td>\n",
       "      <td>10000</td>\n",
       "      <td>10000</td>\n",
       "      <td>10000.0</td>\n",
       "      <td>36 months</td>\n",
       "      <td>13.49</td>\n",
       "      <td>339.31</td>\n",
       "      <td>C</td>\n",
       "      <td>C1</td>\n",
       "      <td>AIR RESOURCES BOARD</td>\n",
       "      <td>...</td>\n",
       "      <td>12231.890000</td>\n",
       "      <td>12231.89</td>\n",
       "      <td>10000.00</td>\n",
       "      <td>2214.92</td>\n",
       "      <td>16.97</td>\n",
       "      <td>0.00</td>\n",
       "      <td>0.00</td>\n",
       "      <td>357.48</td>\n",
       "      <td>1349.00</td>\n",
       "      <td>0</td>\n",
       "    </tr>\n",
       "    <tr>\n",
       "      <th>4</th>\n",
       "      <td>1311748</td>\n",
       "      <td>3000</td>\n",
       "      <td>3000</td>\n",
       "      <td>3000.0</td>\n",
       "      <td>60 months</td>\n",
       "      <td>12.69</td>\n",
       "      <td>67.79</td>\n",
       "      <td>B</td>\n",
       "      <td>B5</td>\n",
       "      <td>University Medical Group</td>\n",
       "      <td>...</td>\n",
       "      <td>3513.330000</td>\n",
       "      <td>3513.33</td>\n",
       "      <td>2475.94</td>\n",
       "      <td>1037.39</td>\n",
       "      <td>0.00</td>\n",
       "      <td>0.00</td>\n",
       "      <td>0.00</td>\n",
       "      <td>67.79</td>\n",
       "      <td>380.70</td>\n",
       "      <td>0</td>\n",
       "    </tr>\n",
       "    <tr>\n",
       "      <th>...</th>\n",
       "      <td>...</td>\n",
       "      <td>...</td>\n",
       "      <td>...</td>\n",
       "      <td>...</td>\n",
       "      <td>...</td>\n",
       "      <td>...</td>\n",
       "      <td>...</td>\n",
       "      <td>...</td>\n",
       "      <td>...</td>\n",
       "      <td>...</td>\n",
       "      <td>...</td>\n",
       "      <td>...</td>\n",
       "      <td>...</td>\n",
       "      <td>...</td>\n",
       "      <td>...</td>\n",
       "      <td>...</td>\n",
       "      <td>...</td>\n",
       "      <td>...</td>\n",
       "      <td>...</td>\n",
       "      <td>...</td>\n",
       "      <td>...</td>\n",
       "    </tr>\n",
       "    <tr>\n",
       "      <th>39712</th>\n",
       "      <td>92174</td>\n",
       "      <td>2500</td>\n",
       "      <td>2500</td>\n",
       "      <td>1075.0</td>\n",
       "      <td>36 months</td>\n",
       "      <td>8.07</td>\n",
       "      <td>78.42</td>\n",
       "      <td>A</td>\n",
       "      <td>A4</td>\n",
       "      <td>FiSite Research</td>\n",
       "      <td>...</td>\n",
       "      <td>2822.969293</td>\n",
       "      <td>1213.88</td>\n",
       "      <td>2500.00</td>\n",
       "      <td>322.97</td>\n",
       "      <td>0.00</td>\n",
       "      <td>0.00</td>\n",
       "      <td>0.00</td>\n",
       "      <td>80.90</td>\n",
       "      <td>201.75</td>\n",
       "      <td>1</td>\n",
       "    </tr>\n",
       "    <tr>\n",
       "      <th>39713</th>\n",
       "      <td>90607</td>\n",
       "      <td>8500</td>\n",
       "      <td>8500</td>\n",
       "      <td>875.0</td>\n",
       "      <td>36 months</td>\n",
       "      <td>10.28</td>\n",
       "      <td>275.38</td>\n",
       "      <td>C</td>\n",
       "      <td>C1</td>\n",
       "      <td>Squarewave Solutions, Ltd.</td>\n",
       "      <td>...</td>\n",
       "      <td>9913.491822</td>\n",
       "      <td>1020.51</td>\n",
       "      <td>8500.00</td>\n",
       "      <td>1413.49</td>\n",
       "      <td>0.00</td>\n",
       "      <td>0.00</td>\n",
       "      <td>0.00</td>\n",
       "      <td>281.94</td>\n",
       "      <td>873.80</td>\n",
       "      <td>0</td>\n",
       "    </tr>\n",
       "    <tr>\n",
       "      <th>39714</th>\n",
       "      <td>90390</td>\n",
       "      <td>5000</td>\n",
       "      <td>5000</td>\n",
       "      <td>1325.0</td>\n",
       "      <td>36 months</td>\n",
       "      <td>8.07</td>\n",
       "      <td>156.84</td>\n",
       "      <td>A</td>\n",
       "      <td>A4</td>\n",
       "      <td>unknown</td>\n",
       "      <td>...</td>\n",
       "      <td>5272.161128</td>\n",
       "      <td>1397.12</td>\n",
       "      <td>5000.00</td>\n",
       "      <td>272.16</td>\n",
       "      <td>0.00</td>\n",
       "      <td>0.00</td>\n",
       "      <td>0.00</td>\n",
       "      <td>0.00</td>\n",
       "      <td>403.50</td>\n",
       "      <td>1</td>\n",
       "    </tr>\n",
       "    <tr>\n",
       "      <th>39715</th>\n",
       "      <td>89243</td>\n",
       "      <td>5000</td>\n",
       "      <td>5000</td>\n",
       "      <td>650.0</td>\n",
       "      <td>36 months</td>\n",
       "      <td>7.43</td>\n",
       "      <td>155.38</td>\n",
       "      <td>A</td>\n",
       "      <td>A2</td>\n",
       "      <td>unknown</td>\n",
       "      <td>...</td>\n",
       "      <td>5174.198551</td>\n",
       "      <td>672.66</td>\n",
       "      <td>5000.00</td>\n",
       "      <td>174.20</td>\n",
       "      <td>0.00</td>\n",
       "      <td>0.00</td>\n",
       "      <td>0.00</td>\n",
       "      <td>0.00</td>\n",
       "      <td>371.50</td>\n",
       "      <td>1</td>\n",
       "    </tr>\n",
       "    <tr>\n",
       "      <th>39716</th>\n",
       "      <td>86999</td>\n",
       "      <td>7500</td>\n",
       "      <td>7500</td>\n",
       "      <td>800.0</td>\n",
       "      <td>36 months</td>\n",
       "      <td>13.75</td>\n",
       "      <td>255.43</td>\n",
       "      <td>E</td>\n",
       "      <td>E2</td>\n",
       "      <td>Evergreen Center</td>\n",
       "      <td>...</td>\n",
       "      <td>9195.263334</td>\n",
       "      <td>980.83</td>\n",
       "      <td>7500.00</td>\n",
       "      <td>1695.26</td>\n",
       "      <td>0.00</td>\n",
       "      <td>0.00</td>\n",
       "      <td>0.00</td>\n",
       "      <td>256.59</td>\n",
       "      <td>1031.25</td>\n",
       "      <td>0</td>\n",
       "    </tr>\n",
       "  </tbody>\n",
       "</table>\n",
       "<p>38592 rows × 37 columns</p>\n",
       "</div>"
      ],
      "text/plain": [
       "      member_id  loan_amnt  funded_amnt  funded_amnt_inv        term  \\\n",
       "0       1296599       5000         5000           4975.0   36 months   \n",
       "1       1314167       2500         2500           2500.0   60 months   \n",
       "2       1313524       2400         2400           2400.0   36 months   \n",
       "3       1277178      10000        10000          10000.0   36 months   \n",
       "4       1311748       3000         3000           3000.0   60 months   \n",
       "...         ...        ...          ...              ...         ...   \n",
       "39712     92174       2500         2500           1075.0   36 months   \n",
       "39713     90607       8500         8500            875.0   36 months   \n",
       "39714     90390       5000         5000           1325.0   36 months   \n",
       "39715     89243       5000         5000            650.0   36 months   \n",
       "39716     86999       7500         7500            800.0   36 months   \n",
       "\n",
       "       int_rate  installment grade sub_grade                   emp_title  ...  \\\n",
       "0         10.65       162.87     B        B2                     unknown  ...   \n",
       "1         15.27        59.83     C        C4                       Ryder  ...   \n",
       "2         15.96        84.33     C        C5                     unknown  ...   \n",
       "3         13.49       339.31     C        C1         AIR RESOURCES BOARD  ...   \n",
       "4         12.69        67.79     B        B5    University Medical Group  ...   \n",
       "...         ...          ...   ...       ...                         ...  ...   \n",
       "39712      8.07        78.42     A        A4             FiSite Research  ...   \n",
       "39713     10.28       275.38     C        C1  Squarewave Solutions, Ltd.  ...   \n",
       "39714      8.07       156.84     A        A4                     unknown  ...   \n",
       "39715      7.43       155.38     A        A2                     unknown  ...   \n",
       "39716     13.75       255.43     E        E2            Evergreen Center  ...   \n",
       "\n",
       "        total_pymnt total_pymnt_inv  total_rec_prncp total_rec_int  \\\n",
       "0       5863.155187         5833.84          5000.00        863.16   \n",
       "1       1008.710000         1008.71           456.46        435.17   \n",
       "2       3005.666844         3005.67          2400.00        605.67   \n",
       "3      12231.890000        12231.89         10000.00       2214.92   \n",
       "4       3513.330000         3513.33          2475.94       1037.39   \n",
       "...             ...             ...              ...           ...   \n",
       "39712   2822.969293         1213.88          2500.00        322.97   \n",
       "39713   9913.491822         1020.51          8500.00       1413.49   \n",
       "39714   5272.161128         1397.12          5000.00        272.16   \n",
       "39715   5174.198551          672.66          5000.00        174.20   \n",
       "39716   9195.263334          980.83          7500.00       1695.26   \n",
       "\n",
       "      total_rec_late_fee recoveries collection_recovery_fee last_pymnt_amnt  \\\n",
       "0                   0.00       0.00                    0.00          171.62   \n",
       "1                   0.00     117.08                    1.11          119.66   \n",
       "2                   0.00       0.00                    0.00          649.91   \n",
       "3                  16.97       0.00                    0.00          357.48   \n",
       "4                   0.00       0.00                    0.00           67.79   \n",
       "...                  ...        ...                     ...             ...   \n",
       "39712               0.00       0.00                    0.00           80.90   \n",
       "39713               0.00       0.00                    0.00          281.94   \n",
       "39714               0.00       0.00                    0.00            0.00   \n",
       "39715               0.00       0.00                    0.00            0.00   \n",
       "39716               0.00       0.00                    0.00          256.59   \n",
       "\n",
       "      max_intrate intrate_more_than_10  \n",
       "0          532.50                    0  \n",
       "1          381.75                    0  \n",
       "2          383.04                    0  \n",
       "3         1349.00                    0  \n",
       "4          380.70                    0  \n",
       "...           ...                  ...  \n",
       "39712      201.75                    1  \n",
       "39713      873.80                    0  \n",
       "39714      403.50                    1  \n",
       "39715      371.50                    1  \n",
       "39716     1031.25                    0  \n",
       "\n",
       "[38592 rows x 37 columns]"
      ]
     },
     "execution_count": 367,
     "metadata": {},
     "output_type": "execute_result"
    }
   ],
   "source": [
    "loan_df3 = loan_df\n",
    "loan_df3['intrate_more_than_10'] = 0\n",
    "loan_df3.loc[(select_df.int_rate <= 10) ,'intrate_more_than_10'] = 1\n",
    "loan_df3"
   ]
  },
  {
   "cell_type": "code",
   "execution_count": 368,
   "id": "5578a584",
   "metadata": {},
   "outputs": [
    {
     "data": {
      "text/plain": [
       "inq_last_6mths\n",
       "0    18733\n",
       "1    10664\n",
       "2     5658\n",
       "3     2972\n",
       "4      312\n",
       "5      144\n",
       "6       61\n",
       "7       33\n",
       "8       15\n",
       "dtype: int64"
      ]
     },
     "execution_count": 368,
     "metadata": {},
     "output_type": "execute_result"
    }
   ],
   "source": [
    "count = select_df.groupby('inq_last_6mths').size()\n",
    "count"
   ]
  },
  {
   "cell_type": "code",
   "execution_count": 369,
   "id": "befc3acd",
   "metadata": {},
   "outputs": [
    {
     "data": {
      "text/plain": [
       "18733"
      ]
     },
     "execution_count": 369,
     "metadata": {},
     "output_type": "execute_result"
    }
   ],
   "source": [
    "inq = count.get(0) #เลือกใช้ไม่โดนทวงเลยคือจ่ายหนี้ตามกำหนด\n",
    "inq "
   ]
  },
  {
   "cell_type": "code",
   "execution_count": 370,
   "id": "8b473c5c",
   "metadata": {},
   "outputs": [
    {
     "data": {
      "text/plain": [
       "10671    1\n",
       "19635    1\n",
       "13600    1\n",
       "7318     1\n",
       "13075    0\n",
       "        ..\n",
       "1092     0\n",
       "25348    0\n",
       "16818    1\n",
       "36478    1\n",
       "6114     0\n",
       "Name: intrate_more_than_10, Length: 18733, dtype: int64"
      ]
     },
     "execution_count": 370,
     "metadata": {},
     "output_type": "execute_result"
    }
   ],
   "source": [
    "intrate11 = loan_df3.sample(inq).intrate_more_than_10\n",
    "intrate11"
   ]
  },
  {
   "cell_type": "code",
   "execution_count": 371,
   "id": "09f59bf5",
   "metadata": {},
   "outputs": [
    {
     "data": {
      "text/plain": [
       "1        0\n",
       "3        0\n",
       "4        0\n",
       "5        1\n",
       "7        0\n",
       "        ..\n",
       "39709    0\n",
       "39710    1\n",
       "39711    1\n",
       "39713    0\n",
       "39715    1\n",
       "Name: intrate_more_than_10, Length: 19859, dtype: int64"
      ]
     },
     "execution_count": 371,
     "metadata": {},
     "output_type": "execute_result"
    }
   ],
   "source": [
    "intrate10  = loan_df3.drop(intrate11.index).intrate_more_than_10\n",
    "intrate10  "
   ]
  },
  {
   "cell_type": "code",
   "execution_count": 372,
   "id": "0b6b9e3b",
   "metadata": {},
   "outputs": [
    {
     "name": "stdout",
     "output_type": "stream",
     "text": [
      "จำนวนลูกค้าที่ได้ดอกเบี้ยมากกว่า 10 %:  12940\n",
      "จำนวนลูกค้าทั้งหมด: 18733\n",
      "อัตราส่วนคนที่ได้ดอกเบี้ยมากกว่า 10 %:  0.690759622057332\n"
     ]
    }
   ],
   "source": [
    "print('จำนวนลูกค้าที่ได้ดอกเบี้ยมากกว่า 10 %: ',intrate11.value_counts().get(0))\n",
    "print('จำนวนลูกค้าทั้งหมด:', intrate11.size)\n",
    "print('อัตราส่วนคนที่ได้ดอกเบี้ยมากกว่า 10 %: ', intrate11.value_counts().get(0)/intrate11.size)"
   ]
  },
  {
   "cell_type": "code",
   "execution_count": 373,
   "id": "4a7b00b5",
   "metadata": {},
   "outputs": [
    {
     "name": "stdout",
     "output_type": "stream",
     "text": [
      "จำนวนลูกค้าที่ได้ดอกเบี้ยน้อยกว่าหรือเท่ากับ 10 %:  13751\n",
      "จำนวนลูกค้าทั้งหมด: 19859\n",
      "อัตราส่วนคนที่ได้ดอกน้อยกว่าหรือเท่ากับกว่า 10 %:  0.6924316430837404\n"
     ]
    }
   ],
   "source": [
    "print('จำนวนลูกค้าที่ได้ดอกเบี้ยน้อยกว่าหรือเท่ากับ 10 %: ',intrate10.value_counts().get(0))\n",
    "print('จำนวนลูกค้าทั้งหมด:', intrate10.size)\n",
    "print('อัตราส่วนคนที่ได้ดอกน้อยกว่าหรือเท่ากับกว่า 10 %: ', intrate10.value_counts().get(0)/intrate10.size)"
   ]
  },
  {
   "cell_type": "markdown",
   "id": "e4821c9a",
   "metadata": {},
   "source": [
    "เอาอัตราส่วนคนที่ได้ดอกน้อยกว่าหรือเท่ากับกว่า 10 % และมากกว่า 10% จับกลุ่มมาหารกันในรอบเดียว"
   ]
  },
  {
   "cell_type": "code",
   "execution_count": 374,
   "id": "bb32e0dc",
   "metadata": {},
   "outputs": [
    {
     "data": {
      "text/plain": [
       "0.9975852908469607"
      ]
     },
     "execution_count": 374,
     "metadata": {},
     "output_type": "execute_result"
    }
   ],
   "source": [
    "vc = (intrate11.value_counts().get(0)/intrate11.size) / (intrate10.value_counts().get(0) / intrate10.size)\n",
    "vc"
   ]
  },
  {
   "cell_type": "markdown",
   "id": "4e40b2f7",
   "metadata": {},
   "source": [
    "ทำการสุ่ม 1000 ครั้งแล้วนำมาเทียบกับค่าอัตราส่วนของจำนวนรายได้ที่ทำในรอบเดียว"
   ]
  },
  {
   "cell_type": "code",
   "execution_count": 375,
   "id": "7a0c48d8",
   "metadata": {},
   "outputs": [
    {
     "data": {
      "text/plain": [
       "0      0.996987\n",
       "1      1.005698\n",
       "2      0.994746\n",
       "3      1.002686\n",
       "4      0.997286\n",
       "         ...   \n",
       "995    1.000733\n",
       "996    1.008114\n",
       "997    1.006301\n",
       "998    1.000432\n",
       "999    1.004040\n",
       "Length: 1000, dtype: float64"
      ]
     },
     "execution_count": 375,
     "metadata": {},
     "output_type": "execute_result"
    }
   ],
   "source": [
    "res = [] \n",
    "for _ in range(1000):\n",
    "    intrate11 = loan_df3.sample(loan_df3.value_counts('inq_last_6mths').get(0)).intrate_more_than_10\n",
    "    intrate10 = loan_df3.drop((intrate11.index)).intrate_more_than_10\n",
    "    res.append((intrate11.value_counts().get(0) / intrate11.size) / (intrate10.value_counts().get(0) / intrate10.size))\n",
    "resample_diff = pd.Series(res)\n",
    "resample_diff"
   ]
  },
  {
   "cell_type": "code",
   "execution_count": 376,
   "id": "6b6502fd",
   "metadata": {},
   "outputs": [
    {
     "data": {
      "text/plain": [
       "1      1.005698\n",
       "3      1.002686\n",
       "5      1.002986\n",
       "8      1.000282\n",
       "9      1.016309\n",
       "         ...   \n",
       "995    1.000733\n",
       "996    1.008114\n",
       "997    1.006301\n",
       "998    1.000432\n",
       "999    1.004040\n",
       "Length: 625, dtype: float64"
      ]
     },
     "execution_count": 376,
     "metadata": {},
     "output_type": "execute_result"
    }
   ],
   "source": [
    "resample_diff[resample_diff >= vc]"
   ]
  },
  {
   "cell_type": "code",
   "execution_count": 377,
   "id": "c6674b3d",
   "metadata": {},
   "outputs": [
    {
     "data": {
      "text/plain": [
       "625"
      ]
     },
     "execution_count": 377,
     "metadata": {},
     "output_type": "execute_result"
    }
   ],
   "source": [
    "sum(resample_diff >= vc)"
   ]
  },
  {
   "cell_type": "code",
   "execution_count": 378,
   "id": "1d7e10be",
   "metadata": {},
   "outputs": [
    {
     "name": "stdout",
     "output_type": "stream",
     "text": [
      "จะสรุปได้ว่า alpha = 0.05 และ ค่า pvalue =  0.625\n"
     ]
    }
   ],
   "source": [
    "print('จะสรุปได้ว่า alpha = 0.05 และ ค่า pvalue = ', sum(resample_diff >= vc) / len(resample_diff))"
   ]
  },
  {
   "cell_type": "markdown",
   "id": "16ed85f4",
   "metadata": {},
   "source": [
    "นั้นคือ pvalue มีค่ามากกว่า alpha ดังนั้นปฎิเสธเหตุการณ์ที่เกิดขึ้นจริง (H1) แต่ยอมรับเหตุการที่เกิดขึ้นเพราะความบังเอิญ(H0) จะได้ว่า เหตุการณ์นี้เป็นเหตุการณ์ที่เป็นเหตุบังเอิญหรือไม่ก็ได้ เพราะฉะนั้นสมมติฐานนี้ไม่สามารถสรุปได้"
   ]
  }
 ],
 "metadata": {
  "kernelspec": {
   "display_name": "Python 3 (ipykernel)",
   "language": "python",
   "name": "python3"
  },
  "language_info": {
   "codemirror_mode": {
    "name": "ipython",
    "version": 3
   },
   "file_extension": ".py",
   "mimetype": "text/x-python",
   "name": "python",
   "nbconvert_exporter": "python",
   "pygments_lexer": "ipython3",
   "version": "3.9.13"
  }
 },
 "nbformat": 4,
 "nbformat_minor": 5
}
